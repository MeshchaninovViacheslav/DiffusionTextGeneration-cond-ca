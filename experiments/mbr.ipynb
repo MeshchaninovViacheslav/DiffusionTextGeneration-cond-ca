{
 "cells": [
  {
   "cell_type": "code",
   "execution_count": 1,
   "id": "7d3737b8-31e0-4c6a-a6a9-5e07e17bba1c",
   "metadata": {
    "tags": []
   },
   "outputs": [],
   "source": [
    "%load_ext autoreload\n",
    "%autoreload 2"
   ]
  },
  {
   "cell_type": "code",
   "execution_count": 2,
   "id": "d4c6a68e-ef89-40ea-b40d-bdcc0eddf228",
   "metadata": {
    "tags": []
   },
   "outputs": [],
   "source": [
    "import sys\n",
    "\n",
    "sys.path.append(\"/home/vmeshchaninov/DiffusionTextGeneration-cond-ca/\")"
   ]
  },
  {
   "cell_type": "code",
   "execution_count": 3,
   "id": "5af5c7a0-f0b2-47af-b3f3-b6c5e750f0fa",
   "metadata": {
    "tags": []
   },
   "outputs": [],
   "source": [
    "pred = [\n",
    "    \"The player stood in the field looking at the batter.\",\n",
    "    \"The coach stands along the field, looking at the goalkeeper.\",\n",
    "    \"I stood and looked across the field, peacefully.\",\n",
    "    \"I stood and looked across the field.\",\n",
    "    \"Someone stands, looking around the empty field.\"\n",
    "]"
   ]
  },
  {
   "cell_type": "code",
   "execution_count": 9,
   "id": "075ec8af-72d1-4bbc-af38-204354f82bcc",
   "metadata": {
    "tags": []
   },
   "outputs": [],
   "source": [
    "import numpy as np\n",
    "from estimation_utils.pymteval import BLEUScore\n",
    "\n",
    "def bleu_score(predictions, references):\n",
    "    scorer = BLEUScore(smoothing=1.0)\n",
    "    scorer.reset()\n",
    "    scorer.append(predictions, [references])\n",
    "    return scorer.score()\n",
    "\n",
    "def mbr(samples):\n",
    "\n",
    "    score_dict = {}\n",
    "    for idx_y in range(len(samples)):\n",
    "        y = samples[idx_y]\n",
    "        \n",
    "        blue_lst = []\n",
    "        for idx_x in range(len(samples)):\n",
    "            if idx_x != idx_y:\n",
    "                x = samples[idx_x]\n",
    "                b = bleu_score(predictions=y, references=x)\n",
    "                blue_lst.append(b)\n",
    "        score_dict[idx_y] = np.array(blue_lst).mean()\n",
    "\n",
    "    best_y = sorted(score_dict.items(), key=lambda item: item[1])[-1]\n",
    "\n",
    "    return samples[best_y[0]]"
   ]
  },
  {
   "cell_type": "code",
   "execution_count": 10,
   "id": "3f868fae-9077-4fde-963c-10333b93f7c9",
   "metadata": {
    "tags": []
   },
   "outputs": [
    {
     "name": "stdout",
     "output_type": "stream",
     "text": [
      "[0.24737714147554013, 0.17033186037639278, 0.17033186037639278, 0.14323145079400493]\n",
      "[0.24712442545253582, 0.2044800736021839, 0.14694106251955755, 0.1690062198556585]\n",
      "[0.1705647399369684, 0.20311412297014433, 0.6989307622784944, 0.15851165692617156]\n",
      "[0.16481400866629634, 0.13755608571892394, 0.6924626985290344, 0.20014292374951972]\n",
      "[0.14211011212459493, 0.16449759298465816, 0.15881076016027915, 0.19960198807747329]\n"
     ]
    },
    {
     "data": {
      "text/plain": [
       "'I stood and looked across the field, peacefully.'"
      ]
     },
     "execution_count": 10,
     "metadata": {},
     "output_type": "execute_result"
    }
   ],
   "source": [
    "mbr(pred)"
   ]
  },
  {
   "cell_type": "code",
   "execution_count": null,
   "id": "ac39a652-1296-4639-8c62-121b7cc687ec",
   "metadata": {},
   "outputs": [],
   "source": []
  }
 ],
 "metadata": {
  "kernelspec": {
   "display_name": "Python [.conda-fap2_env]",
   "language": "python",
   "name": "conda-env-.conda-fap2_env-py"
  },
  "language_info": {
   "codemirror_mode": {
    "name": "ipython",
    "version": 3
   },
   "file_extension": ".py",
   "mimetype": "text/x-python",
   "name": "python",
   "nbconvert_exporter": "python",
   "pygments_lexer": "ipython3",
   "version": "3.9.16"
  }
 },
 "nbformat": 4,
 "nbformat_minor": 5
}
