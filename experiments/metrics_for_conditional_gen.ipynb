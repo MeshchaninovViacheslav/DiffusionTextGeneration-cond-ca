{
 "cells": [
  {
   "cell_type": "code",
   "execution_count": 1,
   "id": "e08bc2b8-e050-4cd7-b536-d3199948fe8d",
   "metadata": {
    "tags": []
   },
   "outputs": [],
   "source": [
    "%load_ext autoreload\n",
    "%autoreload 2\n",
    "\n",
    "import sys\n",
    "\n",
    "sys.path.append(\"/home/vmeshchaninov/DiffusionTextGeneration-cond-ca/\")"
   ]
  },
  {
   "cell_type": "code",
   "execution_count": 10,
   "id": "69ff3d33-9db9-449b-9351-512ff3a9f792",
   "metadata": {
    "tags": []
   },
   "outputs": [],
   "source": [
    "import torch\n",
    "from transformers import BertLMHeadModel, BertTokenizerFast\n",
    "from torch.utils.data import DataLoader\n",
    "from torch.nn.functional import cross_entropy\n",
    "from tqdm import tqdm"
   ]
  },
  {
   "cell_type": "code",
   "execution_count": 3,
   "id": "17bdfa62-47e8-45f4-899f-e79fcbcc9afe",
   "metadata": {
    "tags": []
   },
   "outputs": [],
   "source": [
    "from data.dataset import WikipediaDataset\n",
    "from estimation_utils.metrics import BloomMetric\n",
    "from utils.util import dict_to_cuda\n",
    "from estimation_utils.util import compute_metric"
   ]
  },
  {
   "cell_type": "code",
   "execution_count": 4,
   "id": "0a47477a-794e-4ca6-b122-ce31fb4920a4",
   "metadata": {
    "tags": []
   },
   "outputs": [],
   "source": [
    "pretrained_enc_type = \"bert-base-uncased\""
   ]
  },
  {
   "cell_type": "code",
   "execution_count": 5,
   "id": "18b1345a-3a37-45f8-b24b-d663e1ea9a21",
   "metadata": {
    "tags": []
   },
   "outputs": [],
   "source": [
    "tokenizer = BertTokenizerFast.from_pretrained(pretrained_enc_type)"
   ]
  },
  {
   "cell_type": "code",
   "execution_count": 6,
   "id": "2b79befa-81a8-4eae-821b-e38cf3a2b26c",
   "metadata": {
    "tags": []
   },
   "outputs": [],
   "source": [
    "dataset = next(WikipediaDataset(\n",
    "    split=\"test\",\n",
    "    tokenizer=tokenizer,\n",
    "    max_sequence_len=64,\n",
    "    p_uncond=0\n",
    ").get_data())"
   ]
  },
  {
   "cell_type": "code",
   "execution_count": 7,
   "id": "8a8b69da-a931-4f63-a1a5-82a5d65d62ec",
   "metadata": {
    "tags": []
   },
   "outputs": [],
   "source": [
    "batch_size = 1024\n",
    "loader = DataLoader(\n",
    "            dataset,\n",
    "            batch_size=batch_size,\n",
    "            num_workers=1,\n",
    "            shuffle=False,\n",
    "        )\n",
    "loader = iter(loader)"
   ]
  },
  {
   "cell_type": "markdown",
   "id": "596284ec-b21c-47ff-8e78-1138fe67b33a",
   "metadata": {},
   "source": [
    "## Метрики реального текста"
   ]
  },
  {
   "cell_type": "code",
   "execution_count": 22,
   "id": "5d8553ee-1c92-42de-9957-b82ed4d30418",
   "metadata": {
    "tags": []
   },
   "outputs": [],
   "source": [
    "metric_bloom_fn = BloomMetric(device=\"cuda:0\")"
   ]
  },
  {
   "cell_type": "code",
   "execution_count": 12,
   "id": "b9203354-e1e7-413a-b1a7-39b5d8a06d68",
   "metadata": {
    "tags": []
   },
   "outputs": [],
   "source": [
    "X = next(loader)"
   ]
  },
  {
   "cell_type": "code",
   "execution_count": 13,
   "id": "0010023f-e85f-4fbd-b41e-8b6db9928812",
   "metadata": {
    "tags": []
   },
   "outputs": [],
   "source": [
    "text_cond = tokenizer.batch_decode(\n",
    "    X[\"cond_ids\"], \n",
    "    skip_special_tokens=True\n",
    ")"
   ]
  },
  {
   "cell_type": "code",
   "execution_count": 14,
   "id": "b8f12453-d293-46a1-a97e-9e569822dd67",
   "metadata": {
    "tags": []
   },
   "outputs": [],
   "source": [
    "text_gen = tokenizer.batch_decode(\n",
    "    X[\"input_ids\"], \n",
    "    skip_special_tokens=True\n",
    ")"
   ]
  },
  {
   "cell_type": "markdown",
   "id": "952cc5a0-27c4-4e29-b23b-cbc49badda10",
   "metadata": {
    "tags": []
   },
   "source": [
    "### Правильно расположенный текст"
   ]
  },
  {
   "cell_type": "code",
   "execution_count": 63,
   "id": "6371ae67-70d9-4bb1-9963-6228b425f93a",
   "metadata": {
    "tags": []
   },
   "outputs": [],
   "source": [
    "text = [f\"{text_cond[i]} {text_gen[i]}\" for i in range(batch_size)]"
   ]
  },
  {
   "cell_type": "code",
   "execution_count": 64,
   "id": "872779f7-0163-4709-a794-dffc485a4b95",
   "metadata": {
    "tags": []
   },
   "outputs": [
    {
     "name": "stderr",
     "output_type": "stream",
     "text": [
      "metric: bigscience/bloom-7b1, 3.5594: 100%|██████████| 1024/1024 [01:46<00:00,  9.63it/s]\n"
     ]
    },
    {
     "data": {
      "text/plain": [
       "3.5594316921614437"
      ]
     },
     "execution_count": 64,
     "metadata": {},
     "output_type": "execute_result"
    }
   ],
   "source": [
    "compute_metric(metric_bloom_fn, text)"
   ]
  },
  {
   "cell_type": "markdown",
   "id": "006a859b-0a83-4cca-8533-cb7ac048892f",
   "metadata": {},
   "source": [
    "### Условие и генерацию поменяли местами "
   ]
  },
  {
   "cell_type": "code",
   "execution_count": 65,
   "id": "6f402bee-4940-40f9-bb78-b88b077c82f6",
   "metadata": {
    "tags": []
   },
   "outputs": [],
   "source": [
    "text = [f\"{text_gen[i]} {text_cond[i]}\" for i in range(batch_size)]"
   ]
  },
  {
   "cell_type": "code",
   "execution_count": 66,
   "id": "52a78460-da55-45d0-9745-643ab960c760",
   "metadata": {
    "tags": []
   },
   "outputs": [
    {
     "name": "stderr",
     "output_type": "stream",
     "text": [
      "metric: bigscience/bloom-7b1, 3.7407: 100%|██████████| 1024/1024 [01:46<00:00,  9.63it/s]\n"
     ]
    },
    {
     "data": {
      "text/plain": [
       "3.7406894671179236"
      ]
     },
     "execution_count": 66,
     "metadata": {},
     "output_type": "execute_result"
    }
   ],
   "source": [
    "compute_metric(metric_bloom_fn, text)"
   ]
  },
  {
   "cell_type": "markdown",
   "id": "d342c2db-e028-4c77-9844-8e33c4961a83",
   "metadata": {},
   "source": [
    "### Перемешенные части"
   ]
  },
  {
   "cell_type": "code",
   "execution_count": 67,
   "id": "9807ff58-2639-4bb8-a639-846aaab81e50",
   "metadata": {
    "tags": []
   },
   "outputs": [],
   "source": [
    "import random"
   ]
  },
  {
   "cell_type": "code",
   "execution_count": 68,
   "id": "af01fb2c-8980-43af-8722-df46a96d9e8a",
   "metadata": {
    "tags": []
   },
   "outputs": [],
   "source": [
    "random.shuffle(text_cond)"
   ]
  },
  {
   "cell_type": "code",
   "execution_count": 70,
   "id": "4a419ac3-e402-4b10-9831-d0c41d400579",
   "metadata": {
    "tags": []
   },
   "outputs": [],
   "source": [
    "text = [f\"{text_gen[i]} {text_cond[i]}\" for i in range(batch_size)]"
   ]
  },
  {
   "cell_type": "code",
   "execution_count": 71,
   "id": "ee525abc-3f27-4b7e-9cf1-11c89123065d",
   "metadata": {
    "tags": []
   },
   "outputs": [
    {
     "name": "stderr",
     "output_type": "stream",
     "text": [
      "metric: bigscience/bloom-7b1, 3.9254: 100%|██████████| 1024/1024 [01:46<00:00,  9.62it/s]\n"
     ]
    },
    {
     "data": {
      "text/plain": [
       "3.9254232835413743"
      ]
     },
     "execution_count": 71,
     "metadata": {},
     "output_type": "execute_result"
    }
   ],
   "source": [
    "compute_metric(metric_bloom_fn, text)"
   ]
  },
  {
   "cell_type": "markdown",
   "id": "306c47af-eee2-4236-9d8d-ff8b57e759da",
   "metadata": {},
   "source": [
    "### Bloom loss только на условной части"
   ]
  },
  {
   "cell_type": "code",
   "execution_count": 8,
   "id": "f13b1f7b-55d0-49ef-b6a5-55671ac56302",
   "metadata": {
    "tags": []
   },
   "outputs": [],
   "source": [
    "from transformers import BloomTokenizerFast, BloomForCausalLM"
   ]
  },
  {
   "cell_type": "code",
   "execution_count": 9,
   "id": "1d2ace90-e06c-4eef-9f64-344db0171155",
   "metadata": {
    "tags": []
   },
   "outputs": [],
   "source": [
    "name = \"bigscience/bloom-7b1\"\n",
    "bloom = BloomForCausalLM.from_pretrained(name).eval().to(\"cuda:0\")"
   ]
  },
  {
   "cell_type": "code",
   "execution_count": 36,
   "id": "b0ee97f8-5959-40d4-b4fd-1c906d811ef9",
   "metadata": {
    "tags": []
   },
   "outputs": [],
   "source": [
    "tokenizer_bloom = BloomTokenizerFast.from_pretrained(name)"
   ]
  },
  {
   "cell_type": "code",
   "execution_count": 39,
   "id": "64afcef6-1c07-45ad-b92f-2b1d61d1887a",
   "metadata": {
    "tags": []
   },
   "outputs": [
    {
     "name": "stderr",
     "output_type": "stream",
     "text": [
      "100%|██████████| 1024/1024 [01:41<00:00, 10.11it/s]\n"
     ]
    },
    {
     "data": {
      "text/plain": [
       "tensor(3.4119, device='cuda:0')"
      ]
     },
     "execution_count": 39,
     "metadata": {},
     "output_type": "execute_result"
    }
   ],
   "source": [
    "num = 0\n",
    "loss = 0\n",
    "\n",
    "with torch.no_grad():\n",
    "    for i in tqdm(range(batch_size)):\n",
    "        inputs_gen = tokenizer_bloom(text_gen[i], return_tensors=\"pt\")\n",
    "        inputs_cond = tokenizer_bloom(f\" {text_cond[i]}\", return_tensors=\"pt\")\n",
    "\n",
    "        inputs = {\n",
    "            \"input_ids\": torch.cat([inputs_cond[\"input_ids\"], inputs_gen[\"input_ids\"]], dim=-1).type(torch.long),\n",
    "            \"attention_mask\": torch.cat([inputs_cond[\"attention_mask\"], inputs_gen[\"attention_mask\"]], dim=-1).type(torch.long)\n",
    "        }\n",
    "\n",
    "        inputs = dict_to_cuda(inputs)\n",
    "        outputs = bloom(**inputs, labels=inputs[\"input_ids\"])\n",
    "\n",
    "        losses = cross_entropy(\n",
    "                input=outputs.logits.reshape(-1, outputs.logits.shape[-1])[:-1],\n",
    "                target=inputs[\"input_ids\"].reshape(-1)[1:],\n",
    "                reduce=False,\n",
    "            )\n",
    "        losses = losses[torch.sum(inputs_cond[\"attention_mask\"]).item() - 1:]\n",
    "        loss += losses.sum()\n",
    "        num += losses.shape[0]\n",
    "\n",
    "loss / num"
   ]
  },
  {
   "cell_type": "code",
   "execution_count": 109,
   "id": "9ae0e6c9-682f-4b59-b98c-3156028cf30b",
   "metadata": {
    "tags": []
   },
   "outputs": [],
   "source": [
    "inputs_gen = tokenizer_bloom(text_gen[0], return_tensors=\"pt\")\n",
    "inputs_cond = tokenizer_bloom(text_cond[0], return_tensors=\"pt\")"
   ]
  },
  {
   "cell_type": "code",
   "execution_count": 110,
   "id": "b10328cd-337a-48ee-bb55-5a995543ae55",
   "metadata": {
    "tags": []
   },
   "outputs": [],
   "source": [
    "inputs = {\n",
    "    \"input_ids\": torch.cat([inputs_cond[\"input_ids\"], inputs_gen[\"input_ids\"]], dim=-1),\n",
    "    \"attention_mask\": torch.cat([inputs_cond[\"attention_mask\"], inputs_gen[\"attention_mask\"]], dim=-1)\n",
    "}"
   ]
  },
  {
   "cell_type": "code",
   "execution_count": 111,
   "id": "f80dc38b-4f36-441a-8c94-08db297fe32c",
   "metadata": {
    "tags": []
   },
   "outputs": [],
   "source": [
    "inputs = dict_to_cuda(inputs)"
   ]
  },
  {
   "cell_type": "code",
   "execution_count": 112,
   "id": "c3434857-a684-4dea-9b53-0a0023a8711d",
   "metadata": {
    "tags": []
   },
   "outputs": [],
   "source": [
    "outputs = bloom(**inputs, labels=inputs[\"input_ids\"])"
   ]
  },
  {
   "cell_type": "code",
   "execution_count": 114,
   "id": "2c3e456a-0167-42be-a344-cb4887fe4312",
   "metadata": {
    "tags": []
   },
   "outputs": [],
   "source": [
    "losses = cross_entropy(\n",
    "            input=outputs.logits.reshape(-1, outputs.logits.shape[-1])[:-1],\n",
    "            target=inputs[\"input_ids\"].reshape(-1)[1:],\n",
    "            reduce=False,\n",
    "        )"
   ]
  },
  {
   "cell_type": "code",
   "execution_count": 127,
   "id": "8927d15e-d126-468b-b2f7-418cfdbf536b",
   "metadata": {
    "tags": []
   },
   "outputs": [
    {
     "data": {
      "text/plain": [
       "tensor(4.3345, device='cuda:0', grad_fn=<MeanBackward0>)"
      ]
     },
     "execution_count": 127,
     "metadata": {},
     "output_type": "execute_result"
    }
   ],
   "source": [
    "losses = losses[torch.sum(inputs_cond[\"attention_mask\"]).item() - 1:]"
   ]
  },
  {
   "cell_type": "code",
   "execution_count": null,
   "id": "076bd663-9c03-4072-a5cb-070f3c7fdbd9",
   "metadata": {},
   "outputs": [],
   "source": []
  },
  {
   "cell_type": "code",
   "execution_count": null,
   "id": "eedd49cd-d4cc-4297-8f9a-b95beab767e7",
   "metadata": {},
   "outputs": [],
   "source": []
  }
 ],
 "metadata": {
  "kernelspec": {
   "display_name": "Python [anaconda3-env]",
   "language": "python",
   "name": "conda-env-anaconda3-env-py"
  },
  "language_info": {
   "codemirror_mode": {
    "name": "ipython",
    "version": 3
   },
   "file_extension": ".py",
   "mimetype": "text/x-python",
   "name": "python",
   "nbconvert_exporter": "python",
   "pygments_lexer": "ipython3",
   "version": "3.9.16"
  }
 },
 "nbformat": 4,
 "nbformat_minor": 5
}
