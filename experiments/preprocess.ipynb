{
 "cells": [
  {
   "cell_type": "code",
   "execution_count": 13,
   "id": "3a87bb16-b2e2-47f5-972d-749f68ee0209",
   "metadata": {},
   "outputs": [],
   "source": [
    "import pandas as pd\n",
    "import matplotlib.pyplot as plt"
   ]
  },
  {
   "cell_type": "code",
   "execution_count": 2,
   "id": "4dd7db6d-1922-4904-95d1-b2e0f2d06dcc",
   "metadata": {},
   "outputs": [],
   "source": [
    "import os"
   ]
  },
  {
   "cell_type": "code",
   "execution_count": 3,
   "id": "7bc585bf-f304-4cc0-8ec5-afd8b32e7fbf",
   "metadata": {},
   "outputs": [
    {
     "data": {
      "text/html": [
       "<div>\n",
       "<style scoped>\n",
       "    .dataframe tbody tr th:only-of-type {\n",
       "        vertical-align: middle;\n",
       "    }\n",
       "\n",
       "    .dataframe tbody tr th {\n",
       "        vertical-align: top;\n",
       "    }\n",
       "\n",
       "    .dataframe thead th {\n",
       "        text-align: right;\n",
       "    }\n",
       "</style>\n",
       "<table border=\"1\" class=\"dataframe\">\n",
       "  <thead>\n",
       "    <tr style=\"text-align: right;\">\n",
       "      <th></th>\n",
       "      <th>storyid</th>\n",
       "      <th>storytitle</th>\n",
       "      <th>sentence1</th>\n",
       "      <th>sentence2</th>\n",
       "      <th>sentence3</th>\n",
       "      <th>sentence4</th>\n",
       "      <th>sentence5</th>\n",
       "    </tr>\n",
       "  </thead>\n",
       "  <tbody>\n",
       "    <tr>\n",
       "      <th>0</th>\n",
       "      <td>9a51198e-96f1-42c3-b09d-a3e1e067d803</td>\n",
       "      <td>Overweight Kid</td>\n",
       "      <td>Dan's parents were overweight.</td>\n",
       "      <td>Dan was overweight as well.</td>\n",
       "      <td>The doctors told his parents it was unhealthy.</td>\n",
       "      <td>His parents understood and decided to make a c...</td>\n",
       "      <td>They got themselves and Dan on a diet.</td>\n",
       "    </tr>\n",
       "    <tr>\n",
       "      <th>1</th>\n",
       "      <td>617e7ada-3878-488d-bd56-40695b91f053</td>\n",
       "      <td>The Bike Accident</td>\n",
       "      <td>Carrie had just learned how to ride a bike.</td>\n",
       "      <td>She didn't have a bike of her own.</td>\n",
       "      <td>Carrie would sneak rides on her sister's bike.</td>\n",
       "      <td>She got nervous on a hill and crashed into a w...</td>\n",
       "      <td>The bike frame bent and Carrie got a deep gash...</td>\n",
       "    </tr>\n",
       "    <tr>\n",
       "      <th>2</th>\n",
       "      <td>79b0da1f-e460-4173-ba58-8c9e2553c53a</td>\n",
       "      <td>Beach</td>\n",
       "      <td>Morgan enjoyed long walks on the beach.</td>\n",
       "      <td>She and her boyfriend decided to go for a long...</td>\n",
       "      <td>After walking for over a mile, something happe...</td>\n",
       "      <td>Morgan decided to propose to her boyfriend.</td>\n",
       "      <td>Her boyfriend was upset he didn't propose to h...</td>\n",
       "    </tr>\n",
       "    <tr>\n",
       "      <th>3</th>\n",
       "      <td>d173b7de-4611-4cdf-934c-912834755e41</td>\n",
       "      <td>The bad customer.</td>\n",
       "      <td>Jane was working at a diner.</td>\n",
       "      <td>Suddenly, a customer barged up to the counter.</td>\n",
       "      <td>He began yelling about how long his food was t...</td>\n",
       "      <td>Jane didn't know how to react.</td>\n",
       "      <td>Luckily, her coworker intervened and calmed th...</td>\n",
       "    </tr>\n",
       "    <tr>\n",
       "      <th>4</th>\n",
       "      <td>af0fd5a4-de36-47ba-8aa2-e99d10986d7a</td>\n",
       "      <td>Being Patient</td>\n",
       "      <td>I was talking to my crush today.</td>\n",
       "      <td>She continued to complain about guys flirting ...</td>\n",
       "      <td>I decided to agree with what she says and list...</td>\n",
       "      <td>After I got home, I got a text from her.</td>\n",
       "      <td>She asked if we can hang out tomorrow.</td>\n",
       "    </tr>\n",
       "  </tbody>\n",
       "</table>\n",
       "</div>"
      ],
      "text/plain": [
       "                                storyid         storytitle  \\\n",
       "0  9a51198e-96f1-42c3-b09d-a3e1e067d803     Overweight Kid   \n",
       "1  617e7ada-3878-488d-bd56-40695b91f053  The Bike Accident   \n",
       "2  79b0da1f-e460-4173-ba58-8c9e2553c53a              Beach   \n",
       "3  d173b7de-4611-4cdf-934c-912834755e41  The bad customer.   \n",
       "4  af0fd5a4-de36-47ba-8aa2-e99d10986d7a      Being Patient   \n",
       "\n",
       "                                     sentence1  \\\n",
       "0               Dan's parents were overweight.   \n",
       "1  Carrie had just learned how to ride a bike.   \n",
       "2      Morgan enjoyed long walks on the beach.   \n",
       "3                 Jane was working at a diner.   \n",
       "4             I was talking to my crush today.   \n",
       "\n",
       "                                           sentence2  \\\n",
       "0                        Dan was overweight as well.   \n",
       "1                 She didn't have a bike of her own.   \n",
       "2  She and her boyfriend decided to go for a long...   \n",
       "3     Suddenly, a customer barged up to the counter.   \n",
       "4  She continued to complain about guys flirting ...   \n",
       "\n",
       "                                           sentence3  \\\n",
       "0     The doctors told his parents it was unhealthy.   \n",
       "1     Carrie would sneak rides on her sister's bike.   \n",
       "2  After walking for over a mile, something happe...   \n",
       "3  He began yelling about how long his food was t...   \n",
       "4  I decided to agree with what she says and list...   \n",
       "\n",
       "                                           sentence4  \\\n",
       "0  His parents understood and decided to make a c...   \n",
       "1  She got nervous on a hill and crashed into a w...   \n",
       "2        Morgan decided to propose to her boyfriend.   \n",
       "3                     Jane didn't know how to react.   \n",
       "4           After I got home, I got a text from her.   \n",
       "\n",
       "                                           sentence5  \n",
       "0             They got themselves and Dan on a diet.  \n",
       "1  The bike frame bent and Carrie got a deep gash...  \n",
       "2  Her boyfriend was upset he didn't propose to h...  \n",
       "3  Luckily, her coworker intervened and calmed th...  \n",
       "4             She asked if we can hang out tomorrow.  "
      ]
     },
     "execution_count": 3,
     "metadata": {},
     "output_type": "execute_result"
    }
   ],
   "source": [
    "df = pd.read_csv('100KStories.csv')\n",
    "df.head()"
   ]
  },
  {
   "cell_type": "code",
   "execution_count": 5,
   "id": "aa4c0921-5f38-4402-8302-9271944fcbcd",
   "metadata": {},
   "outputs": [],
   "source": [
    "df.drop(columns=['storyid', 'storytitle'], inplace=True)"
   ]
  },
  {
   "cell_type": "code",
   "execution_count": 6,
   "id": "f6a2e13b-feb3-4b9b-8e30-75c4c8b78a03",
   "metadata": {},
   "outputs": [
    {
     "data": {
      "text/html": [
       "<div>\n",
       "<style scoped>\n",
       "    .dataframe tbody tr th:only-of-type {\n",
       "        vertical-align: middle;\n",
       "    }\n",
       "\n",
       "    .dataframe tbody tr th {\n",
       "        vertical-align: top;\n",
       "    }\n",
       "\n",
       "    .dataframe thead th {\n",
       "        text-align: right;\n",
       "    }\n",
       "</style>\n",
       "<table border=\"1\" class=\"dataframe\">\n",
       "  <thead>\n",
       "    <tr style=\"text-align: right;\">\n",
       "      <th></th>\n",
       "      <th>sentence1</th>\n",
       "      <th>sentence2</th>\n",
       "      <th>sentence3</th>\n",
       "      <th>sentence4</th>\n",
       "      <th>sentence5</th>\n",
       "    </tr>\n",
       "  </thead>\n",
       "  <tbody>\n",
       "    <tr>\n",
       "      <th>0</th>\n",
       "      <td>Dan's parents were overweight.</td>\n",
       "      <td>Dan was overweight as well.</td>\n",
       "      <td>The doctors told his parents it was unhealthy.</td>\n",
       "      <td>His parents understood and decided to make a c...</td>\n",
       "      <td>They got themselves and Dan on a diet.</td>\n",
       "    </tr>\n",
       "    <tr>\n",
       "      <th>1</th>\n",
       "      <td>Carrie had just learned how to ride a bike.</td>\n",
       "      <td>She didn't have a bike of her own.</td>\n",
       "      <td>Carrie would sneak rides on her sister's bike.</td>\n",
       "      <td>She got nervous on a hill and crashed into a w...</td>\n",
       "      <td>The bike frame bent and Carrie got a deep gash...</td>\n",
       "    </tr>\n",
       "    <tr>\n",
       "      <th>2</th>\n",
       "      <td>Morgan enjoyed long walks on the beach.</td>\n",
       "      <td>She and her boyfriend decided to go for a long...</td>\n",
       "      <td>After walking for over a mile, something happe...</td>\n",
       "      <td>Morgan decided to propose to her boyfriend.</td>\n",
       "      <td>Her boyfriend was upset he didn't propose to h...</td>\n",
       "    </tr>\n",
       "    <tr>\n",
       "      <th>3</th>\n",
       "      <td>Jane was working at a diner.</td>\n",
       "      <td>Suddenly, a customer barged up to the counter.</td>\n",
       "      <td>He began yelling about how long his food was t...</td>\n",
       "      <td>Jane didn't know how to react.</td>\n",
       "      <td>Luckily, her coworker intervened and calmed th...</td>\n",
       "    </tr>\n",
       "    <tr>\n",
       "      <th>4</th>\n",
       "      <td>I was talking to my crush today.</td>\n",
       "      <td>She continued to complain about guys flirting ...</td>\n",
       "      <td>I decided to agree with what she says and list...</td>\n",
       "      <td>After I got home, I got a text from her.</td>\n",
       "      <td>She asked if we can hang out tomorrow.</td>\n",
       "    </tr>\n",
       "  </tbody>\n",
       "</table>\n",
       "</div>"
      ],
      "text/plain": [
       "                                     sentence1  \\\n",
       "0               Dan's parents were overweight.   \n",
       "1  Carrie had just learned how to ride a bike.   \n",
       "2      Morgan enjoyed long walks on the beach.   \n",
       "3                 Jane was working at a diner.   \n",
       "4             I was talking to my crush today.   \n",
       "\n",
       "                                           sentence2  \\\n",
       "0                        Dan was overweight as well.   \n",
       "1                 She didn't have a bike of her own.   \n",
       "2  She and her boyfriend decided to go for a long...   \n",
       "3     Suddenly, a customer barged up to the counter.   \n",
       "4  She continued to complain about guys flirting ...   \n",
       "\n",
       "                                           sentence3  \\\n",
       "0     The doctors told his parents it was unhealthy.   \n",
       "1     Carrie would sneak rides on her sister's bike.   \n",
       "2  After walking for over a mile, something happe...   \n",
       "3  He began yelling about how long his food was t...   \n",
       "4  I decided to agree with what she says and list...   \n",
       "\n",
       "                                           sentence4  \\\n",
       "0  His parents understood and decided to make a c...   \n",
       "1  She got nervous on a hill and crashed into a w...   \n",
       "2        Morgan decided to propose to her boyfriend.   \n",
       "3                     Jane didn't know how to react.   \n",
       "4           After I got home, I got a text from her.   \n",
       "\n",
       "                                           sentence5  \n",
       "0             They got themselves and Dan on a diet.  \n",
       "1  The bike frame bent and Carrie got a deep gash...  \n",
       "2  Her boyfriend was upset he didn't propose to h...  \n",
       "3  Luckily, her coworker intervened and calmed th...  \n",
       "4             She asked if we can hang out tomorrow.  "
      ]
     },
     "execution_count": 6,
     "metadata": {},
     "output_type": "execute_result"
    }
   ],
   "source": [
    "df.head()"
   ]
  },
  {
   "cell_type": "code",
   "execution_count": 10,
   "id": "8d1bf8e3-654b-4e2c-acc6-48c23aab2b6a",
   "metadata": {},
   "outputs": [],
   "source": [
    "texts = []\n",
    "for i in range(len(df)):\n",
    "    text = ''\n",
    "    for j in range(1, 6):\n",
    "        text += df[f'sentence{j}'][i] + ' '\n",
    "        \n",
    "    texts.append(text.strip())"
   ]
  },
  {
   "cell_type": "code",
   "execution_count": 12,
   "id": "227554ce-a9e2-40a4-875d-31b85905dfbf",
   "metadata": {},
   "outputs": [],
   "source": [
    "lens = [len(t.split()) for t in texts]"
   ]
  },
  {
   "cell_type": "code",
   "execution_count": 14,
   "id": "7b6f333f-a79c-42eb-b836-155594fe2b04",
   "metadata": {},
   "outputs": [
    {
     "data": {
      "image/png": "[encoded data removed]",
      "text/plain": [
       "<Figure size 640x480 with 1 Axes>"
      ]
     },
     "metadata": {},
     "output_type": "display_data"
    }
   ],
   "source": [
    "plt.hist(lens, bins=50);"
   ]
  },
  {
   "cell_type": "code",
   "execution_count": 24,
   "id": "26adac28-4a63-47f2-97ec-6e91edd48bb3",
   "metadata": {},
   "outputs": [],
   "source": [
    "with open('validation.txt', 'w') as f:\n",
    "    f.write('\\n'.join(texts[-5000:-4000]))"
   ]
  },
  {
   "cell_type": "code",
   "execution_count": null,
   "id": "078e8b29-589a-4ece-8de1-307aa7741336",
   "metadata": {},
   "outputs": [],
   "source": []
  },
  {
   "cell_type": "code",
   "execution_count": 16,
   "id": "08833ffb-3c7e-4030-ab6a-4d7b0356b3e7",
   "metadata": {},
   "outputs": [],
   "source": [
    "from transformers import AutoTokenizer\n",
    "tokenizer = AutoTokenizer.from_pretrained('bert-base-uncased')"
   ]
  },
  {
   "cell_type": "code",
   "execution_count": 19,
   "id": "507bbd21-6a7c-40d2-b31f-7cfa616d7190",
   "metadata": {},
   "outputs": [],
   "source": [
    "lens = []\n",
    "for t in texts:\n",
    "    lens.append(len(tokenizer(t)['input_ids']))"
   ]
  },
  {
   "cell_type": "code",
   "execution_count": 20,
   "id": "d4bbdaa6-a93f-45b1-849e-bc610808cc92",
   "metadata": {},
   "outputs": [
    {
     "data": {
      "image/png": "[encoded data removed]",
      "text/plain": [
       "<Figure size 640x480 with 1 Axes>"
      ]
     },
     "metadata": {},
     "output_type": "display_data"
    }
   ],
   "source": [
    "plt.hist(lens, bins=50);"
   ]
  },
  {
   "cell_type": "code",
   "execution_count": null,
   "id": "944cd0c4-a80d-41b4-8bb0-3415b8f655de",
   "metadata": {},
   "outputs": [],
   "source": []
  }
 ],
 "metadata": {
  "kernelspec": {
   "display_name": "Python [anaconda3]",
   "language": "python",
   "name": "conda-env-anaconda3-py"
  },
  "language_info": {
   "codemirror_mode": {
    "name": "ipython",
    "version": 3
   },
   "file_extension": ".py",
   "mimetype": "text/x-python",
   "name": "python",
   "nbconvert_exporter": "python",
   "pygments_lexer": "ipython3",
   "version": "3.9.7"
  }
 },
 "nbformat": 4,
 "nbformat_minor": 5
}
