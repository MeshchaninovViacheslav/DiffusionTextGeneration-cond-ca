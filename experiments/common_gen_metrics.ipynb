{
 "cells": [
  {
   "cell_type": "code",
   "execution_count": 1,
   "id": "4aa6f02e-aca1-4119-b2c4-bd9caa0bf963",
   "metadata": {
    "tags": []
   },
   "outputs": [],
   "source": [
    "%load_ext autoreload\n",
    "%autoreload 2"
   ]
  },
  {
   "cell_type": "code",
   "execution_count": 2,
   "id": "e93121cb-98ad-48cb-bc63-28a52258e4ad",
   "metadata": {
    "tags": []
   },
   "outputs": [],
   "source": [
    "import sys\n",
    "\n",
    "sys.path.append(\"/home/vmeshchaninov/DiffusionTextGeneration-cond-ca/\")"
   ]
  },
  {
   "cell_type": "code",
   "execution_count": 3,
   "id": "c3c7caab-2c78-4d56-b6a4-94b14ba165f0",
   "metadata": {
    "tags": []
   },
   "outputs": [],
   "source": [
    "from datasets import load_from_disk, Dataset"
   ]
  },
  {
   "cell_type": "code",
   "execution_count": 4,
   "id": "7c234323-4c4b-47f2-9574-1f091597d8b4",
   "metadata": {
    "tags": []
   },
   "outputs": [],
   "source": [
    "dt = load_from_disk(\"/home/vmeshchaninov/nlp_models/data/common_gen/valid\")"
   ]
  },
  {
   "cell_type": "code",
   "execution_count": 5,
   "id": "911fd855-e945-4ea6-be13-b042f13e651c",
   "metadata": {
    "tags": []
   },
   "outputs": [
    {
     "data": {
      "text/plain": [
       "Dataset({\n",
       "    features: ['concept_set_idx', 'concepts', 'target'],\n",
       "    num_rows: 4018\n",
       "})"
      ]
     },
     "execution_count": 5,
     "metadata": {},
     "output_type": "execute_result"
    }
   ],
   "source": [
    "dt"
   ]
  },
  {
   "cell_type": "code",
   "execution_count": 6,
   "id": "5f9704ce-9b14-4d93-a4fb-a49fede18fa2",
   "metadata": {
    "tags": []
   },
   "outputs": [
    {
     "data": {
      "text/plain": [
       "MemoryMappedTable\n",
       "concept_set_idx: int32\n",
       "concepts: list<item: string>\n",
       "  child 0, item: string\n",
       "target: string\n",
       "----\n",
       "concept_set_idx: [[0,0,0,0,1,...,269,270,270,270,270],[271,271,271,271,272,...,532,532,533,533,533],...,[752,753,753,753,753,...,988,988,988,988,988],[989,989,989,989,990,...,992,992,992,992,992]]\n",
       "concepts: [[[\"field\",\"look\",\"stand\"],[\"field\",\"look\",\"stand\"],...,[\"sit\",\"watch\",\"ground\"],[\"sit\",\"watch\",\"ground\"]],[[\"book\",\"sit\",\"bed\"],[\"book\",\"sit\",\"bed\"],...,[\"score\",\"field\",\"goal\",\"run\"],[\"score\",\"field\",\"goal\",\"run\"]],...,[[\"tree\",\"plant\",\"ground\",\"hole\",\"dig\"],[\"hit\",\"player\",\"run\",\"base\",\"ball\"],...,[\"hold\",\"pump\",\"stand\",\"car\",\"nozzle\"],[\"hold\",\"pump\",\"stand\",\"car\",\"nozzle\"]],[[\"wheelbarrow\",\"push\",\"fall\",\"sit\",\"hill\"],[\"wheelbarrow\",\"push\",\"fall\",\"sit\",\"hill\"],...,[\"perform\",\"wear\",\"dance\",\"stage\",\"costume\"],[\"perform\",\"wear\",\"dance\",\"stage\",\"costume\"]]]\n",
       "target: [[\"The player stood in the field looking at the batter.\",\"The coach stands along the field, looking at the goalkeeper.\",\"I stood and looked across the field, peacefully.\",\"Someone stands, looking around the empty field.\",\"The silly kid loves to dance in her room.\",...,\"The worker is painting the wall.\",\"The young girl sits on the ground and watches her friends.\",\"When the man sits on the ground he pulled out his watch to look at the time for his bus.\",\"Ground flood alway be sitting so the peaople in the back can watch the show\",\"A dog watching TV while sitting on the ground.\"],[\"as he sits on his bed he reads his book quietly\",\"Betty sat in the bed and read her book.\",\"bet bed book is reading while sit\",\"An book is sitting open on a bed.\",\"The football player liked to talk a lot while on the field\",...,\"Sit at the table and read the newspaper with me.\",\"A man is sitting at a table reading a newspaper.\",\"The Dallas Cowboys always score a field goal when the quarterback's run with the balls.\",\"The player on the field ran to the goal and scored a point.\",\"The soccer player runs down the field to score a goal.\"],...,[\"Two people dig a hole and plant a tree in the ground.\",\"The baseball player hit the ball, made the run to first base and scored before the other team could touch the ball.\",\"A baseball player hits a ball and runs to first base.\",\"The baseball player runs to home base once the bat hits the ball.\",\"a ball player running for base after hitting the ball\",...,\"The man will stand next to the gas pump and hold the nozzle in his car to fill it with gas.\",\"A man stands beside his car at the gas pump, holding the nozzle.\",\"Hold the nozzle while you stand outside of the car at the gas pump\",\"The girl was standing and holding the nozzle to the gas pump to put gas in her car\",\"A man is standing near a car holding a gas nozzle at a gas pump.\"],[\"The group of children pushed the wheelbarrow up the hill and then fell and sat at the bottom.\",\"The boy pushes his friend who sits in the wheelbarrow down a hill, but the friend falls out.\",\"After pushing the wheelbarrow up the hill, the boy sat down and the wheelbarrow fell over.\",\"A guy sits in a wheelbarrow while another person pushes him down a hill and he falls out.\",\"The girl begins to dance and perform a routine full of stunts and tricks.\",...,\"The women wear costumes to dance and perform on stage.\",\"the boy did wear a costume to the Halloween dance and was asked to perform on stage.\",\"She usually wears beautiful costume when performing a dance on stages.\",\"While wearing a costume on stage, I performed a dance,\",\"A group of young men and women wearing costumes perform a dance on stage.\"]]"
      ]
     },
     "execution_count": 6,
     "metadata": {},
     "output_type": "execute_result"
    }
   ],
   "source": [
    "dt.data"
   ]
  },
  {
   "cell_type": "code",
   "execution_count": 13,
   "id": "b5d6f434-ce9f-42bf-853f-f3a8a52a9530",
   "metadata": {
    "tags": []
   },
   "outputs": [],
   "source": [
    "data = {}"
   ]
  },
  {
   "cell_type": "code",
   "execution_count": 14,
   "id": "3374497a-4453-410c-9079-129261c8e5c3",
   "metadata": {
    "tags": []
   },
   "outputs": [],
   "source": [
    "for t in dt:\n",
    "    id_ = t[\"concept_set_idx\"]\n",
    "    concepts = t[\"concepts\"]\n",
    "    target = t[\"target\"]\n",
    "    \n",
    "    if id_ in data:\n",
    "        data[id_][\"targets\"].append(target)\n",
    "    else:\n",
    "        data[id_] = {\n",
    "            \"concept_set_idx\": id_,\n",
    "            \"concepts\": concepts,\n",
    "            \"targets\": [target],\n",
    "        }"
   ]
  },
  {
   "cell_type": "code",
   "execution_count": 15,
   "id": "c2503ea4-49fc-470b-b5d5-de068ed61eb4",
   "metadata": {
    "tags": []
   },
   "outputs": [
    {
     "data": {
      "text/plain": [
       "{'concept_set_idx': 0,\n",
       " 'concepts': ['field', 'look', 'stand'],\n",
       " 'targets': ['The player stood in the field looking at the batter.',\n",
       "  'The coach stands along the field, looking at the goalkeeper.',\n",
       "  'I stood and looked across the field, peacefully.',\n",
       "  'Someone stands, looking around the empty field.']}"
      ]
     },
     "execution_count": 15,
     "metadata": {},
     "output_type": "execute_result"
    }
   ],
   "source": [
    "data[0]"
   ]
  },
  {
   "cell_type": "code",
   "execution_count": null,
   "id": "c806c548-231d-4b86-b03b-961384b78125",
   "metadata": {},
   "outputs": [],
   "source": []
  },
  {
   "cell_type": "code",
   "execution_count": 17,
   "id": "661c2ca2-4de9-4d00-8dc3-e9198f916b2b",
   "metadata": {
    "tags": []
   },
   "outputs": [],
   "source": [
    "d = Dataset.from_list(list(data.values()))"
   ]
  },
  {
   "cell_type": "code",
   "execution_count": 19,
   "id": "fb158ff8-72d4-40a3-883b-3679487f2f43",
   "metadata": {
    "tags": []
   },
   "outputs": [
    {
     "data": {
      "text/plain": [
       "{'concept_set_idx': 1,\n",
       " 'concepts': ['kid', 'room', 'dance'],\n",
       " 'targets': ['The silly kid loves to dance in her room.',\n",
       "  'the dance kid  room is full of kids',\n",
       "  'A kid is dancing in the room.',\n",
       "  'A group of kids are dancing around a living room.']}"
      ]
     },
     "execution_count": 19,
     "metadata": {},
     "output_type": "execute_result"
    }
   ],
   "source": [
    "d[1]"
   ]
  },
  {
   "cell_type": "code",
   "execution_count": 11,
   "id": "14790e4f-9ec1-4842-ae06-df2ae103437a",
   "metadata": {
    "tags": []
   },
   "outputs": [],
   "source": [
    "mult_ref = []\n",
    "pred = []"
   ]
  },
  {
   "cell_type": "code",
   "execution_count": 16,
   "id": "82cd280a-9df6-4b23-9296-30805a4ac6df",
   "metadata": {
    "tags": []
   },
   "outputs": [],
   "source": [
    "for d in data.values():\n",
    "    pred.append(d[\"targets\"][0])\n",
    "    mult_ref.append(d[\"targets\"][1:])"
   ]
  },
  {
   "cell_type": "code",
   "execution_count": 17,
   "id": "afa3f9b8-23a4-4b23-a0d2-8f5382b14427",
   "metadata": {
    "tags": []
   },
   "outputs": [
    {
     "name": "stderr",
     "output_type": "stream",
     "text": [
      "/home/vmeshchaninov/.conda/envs/fap2_env/lib/python3.9/site-packages/torch/cuda/__init__.py:546: UserWarning: Can't initialize NVML\n",
      "  warnings.warn(\"Can't initialize NVML\")\n"
     ]
    }
   ],
   "source": [
    "from estimation_utils.evaluation import compute_common_gen_metrics"
   ]
  },
  {
   "cell_type": "code",
   "execution_count": 25,
   "id": "2a0f0ffe-b4ac-4196-9897-748d6c92d92a",
   "metadata": {
    "tags": []
   },
   "outputs": [],
   "source": [
    "from aac_metrics.functional import bleu"
   ]
  },
  {
   "cell_type": "code",
   "execution_count": 26,
   "id": "780f5bf2-ae3c-4361-9dc7-c6552f37b2b3",
   "metadata": {
    "tags": []
   },
   "outputs": [],
   "source": [
    "results = bleu(pred, mult_ref)"
   ]
  },
  {
   "cell_type": "code",
   "execution_count": null,
   "id": "23301bd5-d648-4a3d-bbc3-23dfedd443c0",
   "metadata": {},
   "outputs": [],
   "source": []
  },
  {
   "cell_type": "code",
   "execution_count": 11,
   "id": "b3b32ff9-f83d-448b-8b13-0e7f748b9ced",
   "metadata": {
    "tags": []
   },
   "outputs": [],
   "source": [
    "from data.dataset import CommonGenDatasetDDP"
   ]
  },
  {
   "cell_type": "code",
   "execution_count": 13,
   "id": "6d52706f-99d9-4e06-b6b0-a1781c09af7f",
   "metadata": {
    "tags": []
   },
   "outputs": [
    {
     "data": {
      "application/vnd.jupyter.widget-view+json": {
       "model_id": "612637c99c84454fb3f8c073d145bece",
       "version_major": 2,
       "version_minor": 0
      },
      "text/plain": [
       "Dataset tokenization (num_proc=30):   0%|          | 0/993 [00:00<?, ? examples/s]"
      ]
     },
     "metadata": {},
     "output_type": "display_data"
    }
   ],
   "source": [
    "dt = next(CommonGenDatasetDDP(split=\"valid\", base_path=\"/home/vmeshchaninov/nlp_models/data/common_gen\").get_data())"
   ]
  },
  {
   "cell_type": "code",
   "execution_count": 14,
   "id": "17e2c39e-c69d-40e8-bee6-c377fa0501e8",
   "metadata": {
    "tags": []
   },
   "outputs": [
    {
     "data": {
      "text/plain": [
       "Dataset({\n",
       "    features: ['concept_set_idx', 'target', 'mult_references', 'text_src', 'text_trg'],\n",
       "    num_rows: 993\n",
       "})"
      ]
     },
     "execution_count": 14,
     "metadata": {},
     "output_type": "execute_result"
    }
   ],
   "source": [
    "dt"
   ]
  },
  {
   "cell_type": "code",
   "execution_count": null,
   "id": "215bff5a-5f5c-42b3-8353-3f76d7f03b91",
   "metadata": {},
   "outputs": [],
   "source": []
  },
  {
   "cell_type": "code",
   "execution_count": null,
   "id": "e6190be0-283b-4832-b6c5-fdd0777e8b9c",
   "metadata": {},
   "outputs": [],
   "source": []
  }
 ],
 "metadata": {
  "kernelspec": {
   "display_name": "Python [.conda-fap2_env]",
   "language": "python",
   "name": "conda-env-.conda-fap2_env-py"
  },
  "language_info": {
   "codemirror_mode": {
    "name": "ipython",
    "version": 3
   },
   "file_extension": ".py",
   "mimetype": "text/x-python",
   "name": "python",
   "nbconvert_exporter": "python",
   "pygments_lexer": "ipython3",
   "version": "3.9.16"
  }
 },
 "nbformat": 4,
 "nbformat_minor": 5
}
