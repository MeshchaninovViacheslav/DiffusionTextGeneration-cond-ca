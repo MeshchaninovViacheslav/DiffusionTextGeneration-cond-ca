{
 "cells": [
  {
   "cell_type": "code",
   "execution_count": 1,
   "id": "43027a38-0983-463d-b550-3fafe24de1b7",
   "metadata": {
    "tags": []
   },
   "outputs": [],
   "source": [
    "%load_ext autoreload\n",
    "%autoreload 2"
   ]
  },
  {
   "cell_type": "code",
   "execution_count": 2,
   "id": "a8006634-e10f-45c6-8f27-db420d497e64",
   "metadata": {
    "tags": []
   },
   "outputs": [],
   "source": [
    "import sys\n",
    "sys.path.append(\"/home/vmeshchaninov/DiffusionTextGeneration-cond-ca/\")"
   ]
  },
  {
   "cell_type": "code",
   "execution_count": 9,
   "id": "66481ccc-6a75-46f8-a642-d83569d8d126",
   "metadata": {
    "tags": []
   },
   "outputs": [],
   "source": [
    "import torch\n",
    "from transformers import AutoTokenizer\n",
    "from datasets import load_from_disk"
   ]
  },
  {
   "cell_type": "code",
   "execution_count": 4,
   "id": "fc1d73b7-4b0b-4300-bdf3-cc51b2e129da",
   "metadata": {
    "tags": []
   },
   "outputs": [],
   "source": [
    "from model import Encoder\n",
    "from model.enc_normalizer import EncNormalizer"
   ]
  },
  {
   "cell_type": "code",
   "execution_count": 5,
   "id": "36781776-00b1-4ae4-8448-574805213ae7",
   "metadata": {
    "tags": []
   },
   "outputs": [],
   "source": [
    "from create_config import create_config"
   ]
  },
  {
   "cell_type": "code",
   "execution_count": 6,
   "id": "7caf8d67-9812-499e-97ba-7ac3d8a9739e",
   "metadata": {
    "tags": []
   },
   "outputs": [],
   "source": [
    "config = create_config()"
   ]
  },
  {
   "cell_type": "code",
   "execution_count": 25,
   "id": "ad6dad55-ac16-4b52-8241-544b677e7fc5",
   "metadata": {
    "tags": []
   },
   "outputs": [],
   "source": [
    "tokenizer_gen = AutoTokenizer.from_pretrained(config.model.encoder_name)\n",
    "gen_enc_normalizer = EncNormalizer(\n",
    "    enc_mean_path=config.data.enc_gen_mean,\n",
    "    enc_std_path=config.data.enc_gen_std,\n",
    ")\n",
    "encoder_gen = Encoder(\n",
    "    config.model.encoder_name,\n",
    "    enc_normalizer=gen_enc_normalizer,\n",
    "    is_change_sp_tokens=False,\n",
    ").eval().cuda()"
   ]
  },
  {
   "cell_type": "code",
   "execution_count": 10,
   "id": "2296d358-ca5f-425e-849c-31d3d16462da",
   "metadata": {
    "tags": []
   },
   "outputs": [],
   "source": [
    "path = f\"{config.data.dataset_path}/test/\"\n",
    "dt = load_from_disk(path)"
   ]
  },
  {
   "cell_type": "code",
   "execution_count": 11,
   "id": "7d5dad5f-c8f8-48e6-b1f2-a33eade6c1e4",
   "metadata": {
    "tags": []
   },
   "outputs": [],
   "source": [
    "text = dt[\"text\"][:256]"
   ]
  },
  {
   "cell_type": "code",
   "execution_count": 12,
   "id": "4519c115-0cee-4883-a469-6c52b8482af1",
   "metadata": {
    "tags": []
   },
   "outputs": [],
   "source": [
    "tokenizer = AutoTokenizer.from_pretrained(\"bert-base-cased\")"
   ]
  },
  {
   "cell_type": "code",
   "execution_count": 13,
   "id": "b79ecf43-dc60-4604-a631-7622692efc4b",
   "metadata": {
    "tags": []
   },
   "outputs": [],
   "source": [
    "input = tokenizer(text, return_tensors=\"pt\", padding=\"max_length\", max_length=64, truncation=True, return_special_tokens_mask=True)"
   ]
  },
  {
   "cell_type": "code",
   "execution_count": 26,
   "id": "a975404c-a90d-4069-9585-f28cdabebbdc",
   "metadata": {
    "tags": []
   },
   "outputs": [],
   "source": [
    "encs = encoder_gen(input_ids=input[\"input_ids\"].cuda(), attention_mask=input[\"attention_mask\"].cuda())"
   ]
  },
  {
   "cell_type": "code",
   "execution_count": 19,
   "id": "0e557271-17dc-46c7-b408-a42854125bac",
   "metadata": {
    "tags": []
   },
   "outputs": [],
   "source": [
    "embs = encoder_gen.encoder.embeddings.word_embeddings.weight.data.cuda()"
   ]
  },
  {
   "cell_type": "code",
   "execution_count": 20,
   "id": "39aedf3d-0992-4c68-bcaa-a8c49b369d49",
   "metadata": {
    "tags": []
   },
   "outputs": [
    {
     "data": {
      "text/plain": [
       "tensor(1.4820, device='cuda:0')"
      ]
     },
     "execution_count": 20,
     "metadata": {},
     "output_type": "execute_result"
    }
   ],
   "source": [
    "torch.norm(embs[tokenizer.cls_token_id])"
   ]
  },
  {
   "cell_type": "code",
   "execution_count": 21,
   "id": "ad718440-2a2b-43a9-b52d-21d184331789",
   "metadata": {
    "tags": []
   },
   "outputs": [
    {
     "data": {
      "text/plain": [
       "tensor(0.7997, device='cuda:0')"
      ]
     },
     "execution_count": 21,
     "metadata": {},
     "output_type": "execute_result"
    }
   ],
   "source": [
    "torch.norm(embs[tokenizer.sep_token_id])"
   ]
  },
  {
   "cell_type": "code",
   "execution_count": 22,
   "id": "1498988b-fe5a-450c-b041-cd16da59ed6a",
   "metadata": {
    "tags": []
   },
   "outputs": [
    {
     "data": {
      "text/plain": [
       "tensor(0.8756, device='cuda:0')"
      ]
     },
     "execution_count": 22,
     "metadata": {},
     "output_type": "execute_result"
    }
   ],
   "source": [
    "torch.norm(embs[tokenizer.pad_token_id])"
   ]
  },
  {
   "cell_type": "code",
   "execution_count": 31,
   "id": "89a0a9fe-02dd-4d8a-b8f3-9299d8bdb4b8",
   "metadata": {
    "tags": []
   },
   "outputs": [],
   "source": [
    "mask = 1 - input[\"special_tokens_mask\"].cuda()"
   ]
  },
  {
   "cell_type": "code",
   "execution_count": 40,
   "id": "3fc97e9b-105c-4408-9aea-bf51fcc80910",
   "metadata": {
    "tags": []
   },
   "outputs": [],
   "source": [
    "norm_encs = torch.norm(encs, dim=-1)"
   ]
  },
  {
   "cell_type": "code",
   "execution_count": 58,
   "id": "67943a6b-ade4-4cb3-8216-3523abb7e0c8",
   "metadata": {
    "tags": []
   },
   "outputs": [
    {
     "data": {
      "text/plain": [
       "tensor(27.3713, device='cuda:0', grad_fn=<DivBackward0>)"
      ]
     },
     "execution_count": 58,
     "metadata": {},
     "output_type": "execute_result"
    }
   ],
   "source": [
    "torch.sum(norm_encs * mask) / (torch.sum(mask) + 1e-8)"
   ]
  },
  {
   "cell_type": "code",
   "execution_count": null,
   "id": "a8230cd2-16f5-4552-bfa4-bfda47448475",
   "metadata": {},
   "outputs": [],
   "source": []
  },
  {
   "cell_type": "code",
   "execution_count": 49,
   "id": "371c7446-cb37-4543-b29d-747041e328f0",
   "metadata": {
    "tags": []
   },
   "outputs": [],
   "source": [
    "pad_mask = ((input[\"input_ids\"] == tokenizer.pad_token_id) * 1.).cuda()"
   ]
  },
  {
   "cell_type": "code",
   "execution_count": 55,
   "id": "b7e300f3-8041-4c08-825a-83a4a27f1c95",
   "metadata": {
    "tags": []
   },
   "outputs": [
    {
     "data": {
      "text/plain": [
       "tensor(20.4483, device='cuda:0', grad_fn=<DivBackward0>)"
      ]
     },
     "execution_count": 55,
     "metadata": {},
     "output_type": "execute_result"
    }
   ],
   "source": [
    "torch.sum(norm_encs * pad_mask) / (torch.sum(pad_mask) + 1e-8)"
   ]
  },
  {
   "cell_type": "code",
   "execution_count": 51,
   "id": "377d4bf2-aec6-4e40-8cb1-7dec401f50e7",
   "metadata": {
    "tags": []
   },
   "outputs": [],
   "source": [
    "cls_mask = (input[\"input_ids\"] == tokenizer.cls_token_id).cuda() * 1."
   ]
  },
  {
   "cell_type": "code",
   "execution_count": 56,
   "id": "37971521-5807-455d-9b05-7a4e0f4eb825",
   "metadata": {
    "tags": []
   },
   "outputs": [
    {
     "data": {
      "text/plain": [
       "tensor(31.0934, device='cuda:0', grad_fn=<DivBackward0>)"
      ]
     },
     "execution_count": 56,
     "metadata": {},
     "output_type": "execute_result"
    }
   ],
   "source": [
    "torch.sum(norm_encs * cls_mask) / (torch.sum(cls_mask) + 1e-8)"
   ]
  },
  {
   "cell_type": "code",
   "execution_count": 53,
   "id": "eb22e282-58c0-4911-b950-87fe2d913281",
   "metadata": {
    "tags": []
   },
   "outputs": [],
   "source": [
    "sep_mask = (input[\"input_ids\"] == tokenizer.sep_token_id).cuda() * 1."
   ]
  },
  {
   "cell_type": "code",
   "execution_count": 57,
   "id": "d6a596ee-2457-45d5-846b-04f616d0e440",
   "metadata": {
    "tags": []
   },
   "outputs": [
    {
     "data": {
      "text/plain": [
       "tensor(40.6944, device='cuda:0', grad_fn=<DivBackward0>)"
      ]
     },
     "execution_count": 57,
     "metadata": {},
     "output_type": "execute_result"
    }
   ],
   "source": [
    "torch.sum(norm_encs * sep_mask) / (torch.sum(sep_mask) + 1e-8)"
   ]
  },
  {
   "cell_type": "code",
   "execution_count": null,
   "id": "bb7eb20f-d77f-4607-a63a-5ab4b53b7750",
   "metadata": {},
   "outputs": [],
   "source": []
  },
  {
   "cell_type": "code",
   "execution_count": null,
   "id": "f49e8ac0-aa88-490b-beb2-0f55fef8fbfd",
   "metadata": {},
   "outputs": [],
   "source": []
  },
  {
   "cell_type": "code",
   "execution_count": null,
   "id": "1a628b43-fd3b-4017-b84b-c3e2b354dd0d",
   "metadata": {},
   "outputs": [],
   "source": []
  },
  {
   "cell_type": "code",
   "execution_count": null,
   "id": "44a8bb0c-b4cb-433f-84fa-1f4c42d01577",
   "metadata": {},
   "outputs": [],
   "source": []
  },
  {
   "cell_type": "code",
   "execution_count": null,
   "id": "8bf9b204-08df-41a2-aa51-a41b76adbf96",
   "metadata": {},
   "outputs": [],
   "source": []
  },
  {
   "cell_type": "code",
   "execution_count": 39,
   "id": "99935399-2088-4b8c-9bf7-bd26e197e2bc",
   "metadata": {
    "tags": []
   },
   "outputs": [
    {
     "data": {
      "text/plain": [
       "tensor([31.0934,  0.0000,  0.0000,  0.0000,  0.0000,  0.0000,  0.0000,  0.0000,\n",
       "         0.0000,  0.0000,  0.0000,  0.0000,  0.0000,  0.0000,  0.0000,  0.0000,\n",
       "         0.0000,  0.0000,  0.0000,  0.0000,  0.0000,  0.0000,  0.0000,  0.0000,\n",
       "         0.0000,  0.0000,  0.0000,  0.0000,  0.0000, 42.3054, 20.8381, 20.0870,\n",
       "        34.7069, 20.7301, 25.7028, 32.2523, 23.3954, 24.8694, 25.2757, 21.6878,\n",
       "        24.4826, 26.0106, 22.8898, 21.6156, 23.6438, 22.9424, 23.5160, 23.8497,\n",
       "        23.2279, 22.4620, 22.6546, 22.9527, 21.6776, 21.5629, 21.9630, 21.3755,\n",
       "        21.6928, 21.6146, 21.0613, 21.0973, 21.0473, 21.3029, 21.0296, 24.5769],\n",
       "       device='cuda:0', grad_fn=<DivBackward0>)"
      ]
     },
     "execution_count": 39,
     "metadata": {},
     "output_type": "execute_result"
    }
   ],
   "source": [
    "torch.sum(norm_encs * (1 - mask), dim=0) / (torch.sum(1 - mask, dim=0) + 1e-8)"
   ]
  },
  {
   "cell_type": "code",
   "execution_count": null,
   "id": "b413b987-d15e-40fd-92e8-39523f22d7d4",
   "metadata": {},
   "outputs": [],
   "source": []
  }
 ],
 "metadata": {
  "kernelspec": {
   "display_name": "Python [.conda-fap2_env]",
   "language": "python",
   "name": "conda-env-.conda-fap2_env-py"
  },
  "language_info": {
   "codemirror_mode": {
    "name": "ipython",
    "version": 3
   },
   "file_extension": ".py",
   "mimetype": "text/x-python",
   "name": "python",
   "nbconvert_exporter": "python",
   "pygments_lexer": "ipython3",
   "version": "3.9.16"
  }
 },
 "nbformat": 4,
 "nbformat_minor": 5
}
