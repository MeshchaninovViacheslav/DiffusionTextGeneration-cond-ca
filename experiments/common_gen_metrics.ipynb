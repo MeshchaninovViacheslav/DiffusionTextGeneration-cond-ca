{
 "cells": [
  {
   "cell_type": "code",
   "execution_count": 1,
   "id": "4aa6f02e-aca1-4119-b2c4-bd9caa0bf963",
   "metadata": {
    "tags": []
   },
   "outputs": [],
   "source": [
    "%load_ext autoreload\n",
    "%autoreload 2"
   ]
  },
  {
   "cell_type": "code",
   "execution_count": 2,
   "id": "e93121cb-98ad-48cb-bc63-28a52258e4ad",
   "metadata": {
    "tags": []
   },
   "outputs": [],
   "source": [
    "import sys\n",
    "\n",
    "sys.path.append(\"/home/vmeshchaninov/DiffusionTextGeneration-cond-ca/\")"
   ]
  },
  {
   "cell_type": "code",
   "execution_count": 3,
   "id": "c3c7caab-2c78-4d56-b6a4-94b14ba165f0",
   "metadata": {
    "tags": []
   },
   "outputs": [],
   "source": [
    "from datasets import load_from_disk, Dataset"
   ]
  },
  {
   "cell_type": "code",
   "execution_count": 4,
   "id": "7c234323-4c4b-47f2-9574-1f091597d8b4",
   "metadata": {
    "tags": []
   },
   "outputs": [],
   "source": [
    "dt = load_from_disk(\"/home/vmeshchaninov/nlp_models/data/common_gen/valid\")"
   ]
  },
  {
   "cell_type": "code",
   "execution_count": 5,
   "id": "911fd855-e945-4ea6-be13-b042f13e651c",
   "metadata": {
    "tags": []
   },
   "outputs": [
    {
     "data": {
      "text/plain": [
       "Dataset({\n",
       "    features: ['concept_set_idx', 'concepts', 'target'],\n",
       "    num_rows: 4018\n",
       "})"
      ]
     },
     "execution_count": 5,
     "metadata": {},
     "output_type": "execute_result"
    }
   ],
   "source": [
    "dt"
   ]
  },
  {
   "cell_type": "code",
   "execution_count": 6,
   "id": "5f9704ce-9b14-4d93-a4fb-a49fede18fa2",
   "metadata": {
    "tags": []
   },
   "outputs": [
    {
     "data": {
      "text/plain": [
       "MemoryMappedTable\n",
       "concept_set_idx: int32\n",
       "concepts: list<item: string>\n",
       "  child 0, item: string\n",
       "target: string\n",
       "----\n",
       "concept_set_idx: [[0,0,0,0,1,...,269,270,270,270,270],[271,271,271,271,272,...,532,532,533,533,533],...,[752,753,753,753,753,...,988,988,988,988,988],[989,989,989,989,990,...,992,992,992,992,992]]\n",
       "concepts: [[[\"field\",\"look\",\"stand\"],[\"field\",\"look\",\"stand\"],...,[\"sit\",\"watch\",\"ground\"],[\"sit\",\"watch\",\"ground\"]],[[\"book\",\"sit\",\"bed\"],[\"book\",\"sit\",\"bed\"],...,[\"score\",\"field\",\"goal\",\"run\"],[\"score\",\"field\",\"goal\",\"run\"]],...,[[\"tree\",\"plant\",\"ground\",\"hole\",\"dig\"],[\"hit\",\"player\",\"run\",\"base\",\"ball\"],...,[\"hold\",\"pump\",\"stand\",\"car\",\"nozzle\"],[\"hold\",\"pump\",\"stand\",\"car\",\"nozzle\"]],[[\"wheelbarrow\",\"push\",\"fall\",\"sit\",\"hill\"],[\"wheelbarrow\",\"push\",\"fall\",\"sit\",\"hill\"],...,[\"perform\",\"wear\",\"dance\",\"stage\",\"costume\"],[\"perform\",\"wear\",\"dance\",\"stage\",\"costume\"]]]\n",
       "target: [[\"The player stood in the field looking at the batter.\",\"The coach stands along the field, looking at the goalkeeper.\",\"I stood and looked across the field, peacefully.\",\"Someone stands, looking around the empty field.\",\"The silly kid loves to dance in her room.\",...,\"The worker is painting the wall.\",\"The young girl sits on the ground and watches her friends.\",\"When the man sits on the ground he pulled out his watch to look at the time for his bus.\",\"Ground flood alway be sitting so the peaople in the back can watch the show\",\"A dog watching TV while sitting on the ground.\"],[\"as he sits on his bed he reads his book quietly\",\"Betty sat in the bed and read her book.\",\"bet bed book is reading while sit\",\"An book is sitting open on a bed.\",\"The football player liked to talk a lot while on the field\",...,\"Sit at the table and read the newspaper with me.\",\"A man is sitting at a table reading a newspaper.\",\"The Dallas Cowboys always score a field goal when the quarterback's run with the balls.\",\"The player on the field ran to the goal and scored a point.\",\"The soccer player runs down the field to score a goal.\"],...,[\"Two people dig a hole and plant a tree in the ground.\",\"The baseball player hit the ball, made the run to first base and scored before the other team could touch the ball.\",\"A baseball player hits a ball and runs to first base.\",\"The baseball player runs to home base once the bat hits the ball.\",\"a ball player running for base after hitting the ball\",...,\"The man will stand next to the gas pump and hold the nozzle in his car to fill it with gas.\",\"A man stands beside his car at the gas pump, holding the nozzle.\",\"Hold the nozzle while you stand outside of the car at the gas pump\",\"The girl was standing and holding the nozzle to the gas pump to put gas in her car\",\"A man is standing near a car holding a gas nozzle at a gas pump.\"],[\"The group of children pushed the wheelbarrow up the hill and then fell and sat at the bottom.\",\"The boy pushes his friend who sits in the wheelbarrow down a hill, but the friend falls out.\",\"After pushing the wheelbarrow up the hill, the boy sat down and the wheelbarrow fell over.\",\"A guy sits in a wheelbarrow while another person pushes him down a hill and he falls out.\",\"The girl begins to dance and perform a routine full of stunts and tricks.\",...,\"The women wear costumes to dance and perform on stage.\",\"the boy did wear a costume to the Halloween dance and was asked to perform on stage.\",\"She usually wears beautiful costume when performing a dance on stages.\",\"While wearing a costume on stage, I performed a dance,\",\"A group of young men and women wearing costumes perform a dance on stage.\"]]"
      ]
     },
     "execution_count": 6,
     "metadata": {},
     "output_type": "execute_result"
    }
   ],
   "source": [
    "dt.data"
   ]
  },
  {
   "cell_type": "code",
   "execution_count": 13,
   "id": "b5d6f434-ce9f-42bf-853f-f3a8a52a9530",
   "metadata": {
    "tags": []
   },
   "outputs": [],
   "source": [
    "data = {}"
   ]
  },
  {
   "cell_type": "code",
   "execution_count": 14,
   "id": "3374497a-4453-410c-9079-129261c8e5c3",
   "metadata": {
    "tags": []
   },
   "outputs": [],
   "source": [
    "for t in dt:\n",
    "    id_ = t[\"concept_set_idx\"]\n",
    "    concepts = t[\"concepts\"]\n",
    "    target = t[\"target\"]\n",
    "    \n",
    "    if id_ in data:\n",
    "        data[id_][\"targets\"].append(target)\n",
    "    else:\n",
    "        data[id_] = {\n",
    "            \"concept_set_idx\": id_,\n",
    "            \"concepts\": concepts,\n",
    "            \"targets\": [target],\n",
    "        }"
   ]
  },
  {
   "cell_type": "code",
   "execution_count": 15,
   "id": "c2503ea4-49fc-470b-b5d5-de068ed61eb4",
   "metadata": {
    "tags": []
   },
   "outputs": [
    {
     "data": {
      "text/plain": [
       "{'concept_set_idx': 0,\n",
       " 'concepts': ['field', 'look', 'stand'],\n",
       " 'targets': ['The player stood in the field looking at the batter.',\n",
       "  'The coach stands along the field, looking at the goalkeeper.',\n",
       "  'I stood and looked across the field, peacefully.',\n",
       "  'Someone stands, looking around the empty field.']}"
      ]
     },
     "execution_count": 15,
     "metadata": {},
     "output_type": "execute_result"
    }
   ],
   "source": [
    "data[0]"
   ]
  },
  {
   "cell_type": "code",
   "execution_count": null,
   "id": "c806c548-231d-4b86-b03b-961384b78125",
   "metadata": {},
   "outputs": [],
   "source": []
  },
  {
   "cell_type": "code",
   "execution_count": 17,
   "id": "661c2ca2-4de9-4d00-8dc3-e9198f916b2b",
   "metadata": {
    "tags": []
   },
   "outputs": [],
   "source": [
    "d = Dataset.from_list(list(data.values()))"
   ]
  },
  {
   "cell_type": "code",
   "execution_count": 19,
   "id": "fb158ff8-72d4-40a3-883b-3679487f2f43",
   "metadata": {
    "tags": []
   },
   "outputs": [
    {
     "data": {
      "text/plain": [
       "{'concept_set_idx': 1,\n",
       " 'concepts': ['kid', 'room', 'dance'],\n",
       " 'targets': ['The silly kid loves to dance in her room.',\n",
       "  'the dance kid  room is full of kids',\n",
       "  'A kid is dancing in the room.',\n",
       "  'A group of kids are dancing around a living room.']}"
      ]
     },
     "execution_count": 19,
     "metadata": {},
     "output_type": "execute_result"
    }
   ],
   "source": [
    "d[1]"
   ]
  },
  {
   "cell_type": "code",
   "execution_count": 11,
   "id": "14790e4f-9ec1-4842-ae06-df2ae103437a",
   "metadata": {
    "tags": []
   },
   "outputs": [],
   "source": [
    "mult_ref = []\n",
    "pred = []"
   ]
  },
  {
   "cell_type": "code",
   "execution_count": 16,
   "id": "82cd280a-9df6-4b23-9296-30805a4ac6df",
   "metadata": {
    "tags": []
   },
   "outputs": [],
   "source": [
    "for d in data.values():\n",
    "    pred.append(d[\"targets\"][0])\n",
    "    mult_ref.append(d[\"targets\"][1:])"
   ]
  },
  {
   "cell_type": "code",
   "execution_count": 17,
   "id": "afa3f9b8-23a4-4b23-a0d2-8f5382b14427",
   "metadata": {
    "tags": []
   },
   "outputs": [
    {
     "name": "stderr",
     "output_type": "stream",
     "text": [
      "/home/vmeshchaninov/.conda/envs/fap2_env/lib/python3.9/site-packages/torch/cuda/__init__.py:546: UserWarning: Can't initialize NVML\n",
      "  warnings.warn(\"Can't initialize NVML\")\n"
     ]
    }
   ],
   "source": [
    "from estimation_utils.evaluation import compute_common_gen_metrics"
   ]
  },
  {
   "cell_type": "code",
   "execution_count": 25,
   "id": "2a0f0ffe-b4ac-4196-9897-748d6c92d92a",
   "metadata": {
    "tags": []
   },
   "outputs": [],
   "source": [
    "from aac_metrics.functional import bleu"
   ]
  },
  {
   "cell_type": "code",
   "execution_count": 26,
   "id": "780f5bf2-ae3c-4361-9dc7-c6552f37b2b3",
   "metadata": {
    "tags": []
   },
   "outputs": [],
   "source": [
    "results = bleu(pred, mult_ref)"
   ]
  },
  {
   "cell_type": "code",
   "execution_count": 27,
   "id": "ed79beee-d2b4-4480-8208-b1561c44a9cd",
   "metadata": {
    "tags": []
   },
   "outputs": [
    {
     "data": {
      "text/plain": [
       "({'bleu_4': tensor(0.1803, dtype=torch.float64)},\n",
       " {'bleu_4': tensor([3.9281e-05, 1.0724e-12, 4.9394e-05, 6.8037e-01, 3.2948e-05, 8.0343e-05,\n",
       "          6.4055e-13, 9.1932e-09, 8.3070e-09, 2.7829e-05, 4.5294e-09, 3.3032e-05,\n",
       "          6.4662e-13, 7.8451e-13, 4.7193e-05, 3.1843e-05, 8.3070e-05, 7.0889e-13,\n",
       "          3.9281e-05, 3.0935e-09, 7.7306e-09, 6.3878e-13, 9.6232e-13, 4.0041e-09,\n",
       "          3.7685e-01, 4.5746e-09, 6.2390e-09, 4.5180e-05, 4.4693e-09, 5.8739e-05,\n",
       "          3.9074e-09, 1.0724e-12, 4.9394e-09, 5.8739e-09, 5.3864e-09, 8.7836e-13,\n",
       "          6.0580e-09, 8.0343e-05, 7.3861e-09, 1.0933e-08, 8.0343e-09, 4.0982e-09,\n",
       "          7.5832e-09, 1.2132e-12, 3.7982e-09, 6.8037e-05, 3.3874e-01, 3.3141e-09,\n",
       "          6.9853e-09, 3.6705e-01, 2.6658e-05, 9.6818e-09, 8.4090e-01, 3.3032e-01,\n",
       "          3.9754e-09, 9.1287e-09, 9.4386e-13, 5.0933e-01, 4.5169e-09, 4.2836e-09,\n",
       "          4.6714e-05, 5.9610e-09, 5.8093e-09, 3.5921e-09, 4.3748e-09, 1.4772e-12,\n",
       "          6.0307e-09, 1.6467e-01, 5.1442e-13, 1.7609e-01, 6.8407e-13, 6.9853e-09,\n",
       "          8.7836e-09, 5.7212e-05, 5.0000e-01, 1.0295e-08, 3.5084e-05, 5.5552e-05,\n",
       "          4.3472e-05, 8.9306e-13, 4.5169e-09, 3.2636e-01, 2.5568e-05, 6.9853e-09,\n",
       "          5.6910e-09, 9.0180e-13, 8.1392e-13, 7.5984e-05, 6.4662e-13, 1.9817e-01,\n",
       "          8.1350e-13, 9.4386e-13, 1.6990e-12, 4.6386e-05, 8.0706e-01, 4.4116e-09,\n",
       "          2.0448e-01, 7.0711e-05, 4.6714e-05, 9.1932e-09, 4.2836e-09, 4.7988e-01,\n",
       "          5.8739e-09, 1.0446e-12, 4.7193e-05, 3.1239e-01, 5.4402e-09, 1.0446e-12,\n",
       "          9.1932e-09, 3.5149e-05, 8.3922e-09, 3.1702e-05, 5.4525e-09, 6.6741e-13,\n",
       "          3.8827e-05, 9.9801e-13, 3.5495e-05, 3.6556e-01, 1.1560e-12, 5.7061e-09,\n",
       "          4.5294e-09, 1.1560e-12, 4.9394e-05, 4.1316e-09, 6.2390e-09, 6.6741e-09,\n",
       "          3.3260e-05, 3.2372e-05, 2.5965e-01, 3.8260e-01, 8.7836e-13, 6.9363e-09,\n",
       "          6.9009e-09, 3.8827e-05, 7.9369e-13, 3.7531e-05, 3.2631e-01, 1.1340e-12,\n",
       "          4.2729e-01, 4.1801e-01, 9.4386e-13, 7.3471e-13, 4.9617e-05, 6.4319e-01,\n",
       "          3.4384e-13, 4.1113e-01, 7.3861e-09, 1.0446e-12, 3.4146e-05, 6.6741e-09,\n",
       "          6.4728e-13, 9.5785e-17, 5.5010e-13, 7.0889e-13, 6.2390e-09, 4.4632e-09,\n",
       "          3.7597e-05, 3.1282e-01, 3.2003e-05, 7.7306e-09, 8.7836e-09, 2.6421e-09,\n",
       "          2.4737e-01, 1.1868e-12, 4.1672e-09, 9.9801e-13, 4.2836e-09, 1.0000e+00,\n",
       "          7.5984e-05, 3.9074e-09, 1.2574e-08, 5.7368e-09, 1.1560e-12, 5.7212e-05,\n",
       "          3.8163e-01, 3.9074e-09, 5.3077e-05, 6.0307e-09, 3.4235e-09, 8.4090e-05,\n",
       "          4.0353e-01, 3.9281e-05, 7.3861e-09, 5.4402e-09, 4.1374e-01, 3.6556e-01,\n",
       "          1.0267e-08, 4.7406e-09, 5.3728e-01, 3.9754e-09, 2.2503e-01, 2.4956e-01,\n",
       "          1.2574e-08, 5.4108e-01, 6.6741e-09, 2.8788e-09, 4.1746e-05, 2.3794e-05,\n",
       "          8.7836e-09, 2.8646e-05, 2.6305e-01, 4.1316e-09, 4.9362e-05, 7.9369e-13,\n",
       "          3.7844e-09, 3.3032e-01, 1.0000e+00, 6.1479e-05, 4.7627e-05, 2.8339e-09,\n",
       "          7.9369e-09, 1.1001e-12, 4.1535e-05, 5.6122e-09, 6.3767e-09, 6.6741e-09,\n",
       "          2.5749e-01, 1.3135e-12, 9.1932e-09, 5.4663e-05, 5.3077e-05, 3.7531e-05,\n",
       "          4.5294e-09, 6.8460e-09, 1.2910e-08, 3.3765e-01, 7.3861e-09, 3.9074e-09,\n",
       "          3.6362e-09, 5.6122e-09, 3.7158e-09, 6.3206e-09, 2.0684e-01, 3.0935e-05,\n",
       "          5.2463e-09, 6.4045e-05, 2.4624e-05, 6.9853e-09, 7.6143e-09, 7.3111e-05,\n",
       "          3.2467e-01, 1.0600e-16, 5.6122e-09, 9.0180e-13, 6.6741e-13, 4.2729e-01,\n",
       "          8.7836e-13, 1.2422e-12, 4.5294e-09, 4.4179e-01, 2.4808e-01, 3.9864e-09,\n",
       "          9.0360e-05, 1.0147e-12, 8.4301e-13, 3.9754e-09, 3.1239e-01, 1.3135e-12,\n",
       "          1.0267e-08, 8.3070e-09, 1.0724e-12, 8.4301e-13, 3.3032e-05, 1.2996e-12,\n",
       "          6.9484e-13, 3.6788e-09, 4.0213e-09, 3.0290e-05, 6.0307e-09, 6.4346e-01,\n",
       "          2.3462e-01, 7.8451e-13, 2.5139e-05, 5.2899e-01, 8.7613e-13, 3.4329e-01,\n",
       "          7.8451e-13, 5.7735e-01, 2.3462e-01, 6.3894e-05, 9.0180e-13, 4.5537e-13,\n",
       "          8.2487e-09, 1.0267e-08, 4.1799e-09, 5.8739e-09, 8.0343e-05, 5.6122e-09,\n",
       "          4.1225e-05, 7.9369e-13, 7.0889e-13, 4.6714e-05, 4.7988e-01, 1.4772e-12,\n",
       "          6.6741e-09, 4.8892e-01, 6.2504e-13, 4.2384e-01, 3.6889e-01, 5.8429e-13,\n",
       "          8.7836e-13, 6.1479e-05, 4.7193e-05, 6.1479e-01, 6.3767e-09, 3.2014e-09,\n",
       "          2.8918e-05, 5.2538e-01, 3.5495e-05, 3.3584e-05, 4.5180e-05, 6.3206e-09,\n",
       "          1.0724e-12, 8.3070e-09, 1.0147e-12, 3.9864e-09, 6.0580e-09, 6.3878e-13,\n",
       "          4.8736e-09, 3.1615e-05, 2.8928e-09, 5.3077e-09, 7.7306e-09, 4.6826e-09,\n",
       "          4.9707e-13, 6.5600e-05, 7.8451e-13, 4.5294e-09, 3.6021e-09, 8.6907e-09,\n",
       "          5.0197e-01, 3.6721e-01, 6.8037e-05, 6.6741e-09, 5.4108e-01, 4.0330e-05,\n",
       "          8.0343e-05, 3.6889e-01, 9.5544e-09, 6.2504e-13, 1.8798e-01, 4.0000e-13,\n",
       "          2.7776e-01, 5.2463e-09, 6.3878e-13, 1.8272e-01, 5.7212e-05, 6.1645e-09,\n",
       "          4.6714e-01, 3.6556e-01, 5.8739e-09, 6.1479e-05, 7.7306e-09, 3.6954e-05,\n",
       "          4.3472e-05, 6.5006e-05, 4.1113e-01, 3.3521e-05, 4.7406e-09, 8.4301e-13,\n",
       "          6.5182e-09, 5.0197e-05, 7.5832e-09, 7.0889e-13, 4.0330e-05, 7.0084e-13,\n",
       "          5.1335e-05, 7.9369e-13, 3.8260e-01, 4.9394e-09, 6.4662e-13, 1.5353e-12,\n",
       "          2.9792e-05, 1.5620e-16, 1.1560e-12, 3.7158e-09, 5.8429e-13, 4.9394e-09,\n",
       "          4.4632e-05, 5.7212e-05, 6.8659e-05, 6.3271e-13, 5.3077e-09, 3.4988e-05,\n",
       "          5.3864e-13, 5.6122e-09, 8.4301e-13, 6.3120e-09, 2.4384e-01, 6.9853e-09,\n",
       "          6.8659e-05, 2.7902e-01, 6.6741e-09, 2.8918e-05, 3.9411e-09, 8.1130e-09,\n",
       "          5.4255e-05, 1.6944e-01, 6.5182e-09, 8.0545e-13, 9.6960e-13, 3.6788e-09,\n",
       "          9.0180e-13, 5.5552e-05, 2.5460e-05, 7.7306e-09, 5.9460e-01, 8.7836e-13,\n",
       "          8.9306e-13, 7.0711e-01, 5.8739e-09, 5.1335e-01, 7.0711e-01, 5.4663e-05,\n",
       "          6.8037e-05, 8.0343e-05, 5.4525e-09, 1.1917e-12, 4.9269e-09, 3.8260e-01,\n",
       "          5.0712e-09, 2.5568e-05, 5.5552e-01, 6.3767e-09, 5.3077e-05, 3.7531e-05,\n",
       "          4.2644e-05, 6.3767e-09, 1.0446e-12, 4.2836e-09, 5.8591e-09, 8.4090e-01,\n",
       "          7.9369e-09, 3.3521e-05, 9.4386e-13, 2.3901e-01, 1.4287e-08, 3.3260e-05,\n",
       "          6.4055e-13, 5.7368e-09, 7.8451e-13, 5.6122e-09, 2.6013e-05, 5.5163e-05,\n",
       "          7.0889e-13, 3.8988e-01, 5.9445e-13, 1.1560e-12, 8.7485e-09, 2.0448e-01,\n",
       "          5.9146e-09, 2.3901e-01, 2.5451e-01, 9.3348e-13, 6.2390e-09, 4.9394e-05,\n",
       "          3.2260e-01, 4.3472e-05, 3.2003e-05, 4.9133e-13, 1.0000e+00, 4.0330e-05,\n",
       "          5.3444e-09, 4.2644e-05, 1.1389e-12, 5.8739e-09, 4.6467e-09, 1.6069e-08,\n",
       "          2.2894e-05, 3.3670e-09, 9.5544e-09, 6.2069e-09, 1.0600e-16, 1.2209e-08,\n",
       "          5.3864e-09, 6.9853e-09, 5.0920e-05, 5.7035e-05, 5.4910e-05, 4.5294e-09,\n",
       "          7.3861e-09, 5.3715e-13, 4.3472e-05, 7.2012e-09, 6.9853e-09, 7.9369e-09,\n",
       "          7.2598e-05, 5.0712e-05, 9.0028e-13, 7.0889e-13, 4.6714e-05, 7.5984e-01,\n",
       "          8.7836e-13, 1.0574e-08, 3.5084e-01, 8.8489e-09, 2.0596e-01, 4.8549e-05,\n",
       "          1.2501e-05, 3.6375e-09, 5.5994e-01, 4.4038e-09, 6.5419e-13, 5.0126e-09,\n",
       "          9.5965e-13, 4.3066e-09, 8.8394e-13, 3.8163e-01, 4.6714e-05, 2.9502e-01,\n",
       "          5.6122e-09, 5.6234e-01, 2.3962e-01, 4.3472e-05, 4.2836e-05, 3.8058e-01,\n",
       "          3.9864e-09, 7.5296e-05, 4.4082e-01, 3.6362e-01, 2.6585e-05, 5.3317e-01,\n",
       "          5.0574e-09, 4.8549e-01, 5.9881e-01, 6.6063e-01, 5.0126e-05, 3.6463e-05,\n",
       "          4.1608e-05, 3.5148e-09, 1.0000e+00, 2.3462e-01, 4.9761e-01, 4.7010e-09,\n",
       "          8.1130e-09, 6.0768e-01, 6.1456e-09, 8.0545e-13, 4.3668e-01, 6.3767e-09,\n",
       "          4.1113e-01, 1.1591e-12, 4.6925e-01, 4.9617e-05, 2.6802e-01, 4.6714e-05,\n",
       "          4.4888e-01, 4.3242e-01, 3.1615e-05, 3.6362e-01, 2.5671e-01, 9.4386e-13,\n",
       "          1.0142e-08, 2.0105e-05, 7.2598e-01, 5.2712e-09, 9.0272e-13, 5.7212e-01,\n",
       "          3.3032e-01, 4.2836e-09, 4.5329e-09, 4.6714e-01, 2.7226e-01, 3.6788e-09,\n",
       "          6.3554e-09, 5.0317e-09, 4.2559e-09, 3.1980e-05, 5.0348e-05, 6.7042e-09,\n",
       "          5.8591e-09, 3.3241e-05, 3.1702e-05, 4.9269e-09, 3.6721e-01, 3.1681e-01,\n",
       "          3.7982e-09, 5.1335e-05, 2.8433e-05, 4.5294e-09, 5.6870e-09, 5.6968e-09,\n",
       "          7.6412e-09, 7.0889e-13, 6.0307e-05, 6.3405e-01, 4.1535e-01, 4.9228e-01,\n",
       "          5.8143e-01, 5.2463e-09, 6.2390e-09, 5.3295e-05, 4.5294e-09, 5.8739e-05,\n",
       "          2.8998e-01, 5.1931e-01, 3.8246e-05, 2.5607e-09, 5.1335e-05, 2.9367e-01,\n",
       "          5.3077e-01, 6.0580e-09, 4.8309e-09, 5.1424e-01, 3.9836e-05, 4.5467e-09,\n",
       "          6.9808e-01, 4.6386e-05, 3.8940e-01, 2.0015e-01, 5.0317e-01, 1.6907e-01,\n",
       "          2.9283e-01, 7.8254e-01, 1.1001e-12, 5.5259e-09, 2.2537e-05, 4.7406e-09,\n",
       "          3.8827e-05, 4.1065e-01, 2.0448e-01, 4.1672e-09, 5.6122e-09, 5.8739e-09,\n",
       "          5.1335e-01, 2.6777e-01, 8.0608e-13, 4.5294e-09, 5.6376e-09, 3.8292e-09,\n",
       "          5.0000e-01, 6.9853e-09, 5.4525e-01, 2.7226e-05, 4.1614e-09, 5.8060e-01,\n",
       "          2.1142e-01, 3.6463e-05, 4.1793e-09, 4.3818e-01, 5.9460e-05, 4.3362e-05,\n",
       "          1.8207e-01, 2.6332e-05, 2.5074e-01, 2.1973e-01, 5.5552e-05, 4.7275e-09,\n",
       "          3.6463e-05, 5.2924e-09, 4.5169e-05, 2.0615e-05, 3.5543e-01, 4.9617e-01,\n",
       "          7.5984e-01, 3.9791e-09, 7.1718e-05, 1.7001e-05, 1.4680e-01, 3.5084e-05,\n",
       "          6.0307e-09, 6.2390e-09, 4.9269e-09, 6.5600e-05, 2.4925e-09, 4.5670e-05,\n",
       "          3.5084e-05, 5.5259e-09, 3.2467e-01, 3.2926e-09, 4.2718e-05, 8.5553e-09,\n",
       "          5.0226e-01, 5.1424e-09, 5.1697e-05, 2.4678e-01, 5.5163e-05, 4.2836e-05,\n",
       "          2.9168e-05, 2.6986e-01, 5.0138e-05, 3.7992e-01, 2.9072e-01, 4.5770e-09,\n",
       "          4.9269e-01, 7.5832e-09, 4.5180e-01, 1.0933e-08, 8.3070e-09, 4.4082e-01,\n",
       "          3.8071e-01, 3.8898e-09, 5.0197e-05, 4.0195e-01, 6.3767e-09, 4.3472e-05,\n",
       "          6.8046e-09, 4.5294e-09, 3.4389e-05, 1.8693e-09, 6.0768e-01, 3.7982e-05,\n",
       "          6.9853e-09, 2.1012e-05, 5.6220e-09, 1.4398e-09, 8.7836e-09, 8.2487e-09,\n",
       "          4.0712e-05, 9.9801e-13, 4.9394e-05, 2.1402e-01, 7.2598e-09, 3.9754e-09,\n",
       "          6.0879e-13, 3.2036e-05, 2.3962e-01, 3.8163e-01, 7.8254e-01, 4.7406e-05,\n",
       "          1.0446e-12, 2.8339e-05, 2.8040e-05, 1.0620e-12, 2.4752e-01, 6.2402e-05,\n",
       "          4.9394e-05, 5.3580e-09, 4.1723e-05, 3.8233e-09, 4.1316e-09, 5.3580e-09,\n",
       "          5.2463e-05, 1.1101e-12, 4.0290e-13, 3.7701e-05, 4.8549e-01, 8.6334e-01,\n",
       "          3.9074e-09, 4.5293e-09, 3.1859e-05, 4.3748e-09, 3.5084e-05, 3.0935e-05,\n",
       "          1.6467e-01, 4.8110e-05, 2.1024e-01, 1.9783e-05, 3.8827e-05, 5.3877e-01,\n",
       "          2.9190e-01, 4.5915e-01, 6.5299e-01, 2.1848e-05, 3.8177e-05, 5.7286e-01,\n",
       "          3.7307e-09, 5.4374e-05, 2.6460e-05, 4.8892e-01, 6.7729e-13, 2.4919e-01,\n",
       "          2.3517e-05, 4.9269e-09, 4.1374e-01, 5.6376e-01, 5.1424e-05, 3.6788e-09,\n",
       "          4.0241e-05, 3.0935e-09, 5.3728e-01, 4.5294e-09, 4.9700e-05, 3.1171e-01,\n",
       "          1.5749e-01, 3.7273e-05, 6.2390e-09, 2.2894e-01, 3.9281e-01, 2.4998e-01,\n",
       "          2.8567e-05, 2.1418e-01, 3.0421e-05, 3.2713e-05, 4.7179e-09, 3.7711e-01,\n",
       "          5.7900e-09, 7.3471e-13, 2.4601e-01, 2.6332e-05, 6.3206e-05, 5.3715e-09,\n",
       "          3.6362e-01, 3.1702e-01, 1.9565e-01, 5.9112e-09, 2.7977e-05, 2.1931e-01,\n",
       "          3.0935e-05, 3.6788e-09, 8.4301e-13, 3.2560e-05, 5.5259e-09, 5.3580e-09,\n",
       "          7.2042e-09, 2.5948e-01, 5.2463e-09, 2.9698e-05, 2.5460e-05, 3.6375e-09,\n",
       "          3.0721e-05, 7.0169e-01, 3.1849e-09, 4.1316e-09, 2.9256e-05, 2.7073e-05,\n",
       "          3.6602e-01, 2.7377e-01, 2.7226e-05, 5.5259e-01, 2.3335e-09, 4.3616e-09,\n",
       "          3.0935e-05, 5.2664e-01, 2.8928e-05, 3.6990e-09, 2.2242e-01, 4.6258e-05,\n",
       "          2.4601e-01, 3.8827e-05, 2.2242e-01, 7.7306e-09, 2.3901e-01, 4.2688e-09,\n",
       "          4.0455e-01, 2.8725e-09, 6.0580e-09, 4.2312e-09, 2.2230e-01, 3.7088e-09,\n",
       "          4.6190e-09, 4.6046e-05, 3.1083e-01, 4.1723e-01, 2.8383e-01, 5.5584e-01,\n",
       "          2.5195e-01, 2.3233e-01, 3.5740e-05, 5.0505e-05, 5.8429e-13, 3.9531e-09,\n",
       "          3.1074e-05, 5.6376e-09, 3.4786e-05, 3.6990e-05, 4.5275e-09, 3.9761e-09,\n",
       "          2.9900e-01, 5.6420e-01, 5.9230e-01, 4.3818e-01, 7.2598e-09, 3.4235e-05,\n",
       "          4.8415e-09, 1.0202e-12, 2.8433e-01, 3.7520e-05, 3.4792e-05, 3.2560e-05,\n",
       "          3.0130e-05, 2.5020e-09, 3.7903e-09, 3.0266e-01, 2.3794e-05, 4.0888e-09,\n",
       "          4.4033e-09, 6.0580e-09, 3.4389e-05, 4.5259e-05, 2.9100e-05, 6.2504e-13,\n",
       "          2.0218e-05, 2.5024e-09, 4.9533e-09, 4.1723e-05, 2.6758e-09, 2.7629e-05,\n",
       "          4.3257e-09, 2.6013e-01, 7.6116e-01, 3.6556e-01, 4.3748e-09, 2.9119e-01,\n",
       "          5.0941e-05, 3.1843e-05, 4.9533e-01, 2.7629e-01, 1.5821e-01, 2.2152e-05,\n",
       "          3.6954e-05, 2.5405e-05, 7.1718e-09, 2.9061e-05, 5.2344e-09, 4.6258e-05,\n",
       "          7.0889e-09, 6.2686e-01, 1.8815e-05, 2.8646e-01, 2.7309e-09, 2.3398e-01,\n",
       "          2.2250e-05, 6.5006e-09, 3.5580e-09, 2.7882e-01, 3.1314e-01, 1.7415e-05,\n",
       "          3.0798e-05, 1.8107e-05, 7.9477e-13, 3.9488e-05, 4.8549e-05, 4.4535e-01,\n",
       "          5.9005e-05, 7.5965e-13, 3.6556e-05, 3.9047e-05, 2.6191e-09, 2.1652e-01,\n",
       "          3.2306e-09, 4.6757e-05, 2.9168e-05, 3.4235e-09, 2.1774e-01, 4.5670e-05,\n",
       "          2.5451e-01, 4.5467e-09, 3.5753e-09, 2.4422e-01, 3.4066e-05, 2.1142e-01,\n",
       "          4.4116e-05, 5.6591e-01, 7.3471e-13, 6.4532e-01, 6.3878e-13, 4.8026e-01,\n",
       "          5.9881e-01, 8.0706e-01, 1.0229e-12, 4.0825e-05, 4.9394e-05, 5.1424e-09,\n",
       "          1.8167e-01, 3.7239e-01, 3.9235e-01, 7.7110e-01, 2.5337e-05, 2.5460e-05,\n",
       "          4.1316e-09, 2.9883e-05, 3.7845e-01, 2.6760e-01, 4.1723e-05, 4.9707e-09,\n",
       "          4.0781e-05, 2.6013e-05, 2.7882e-01, 3.4160e-09, 3.8097e-01, 4.7010e-09,\n",
       "          4.1122e-09, 3.9697e-01, 5.5347e-09, 4.5586e-01, 5.7113e-09, 6.4662e-13,\n",
       "          5.0317e-05, 1.9287e-01, 1.8751e-01, 4.0029e-05, 4.3167e-01, 3.6788e-05,\n",
       "          6.6222e-09, 2.8918e-05, 2.3185e-01, 7.6916e-01, 1.7669e-01, 1.8167e-01,\n",
       "          2.9435e-01, 5.6779e-09, 9.3295e-13], dtype=torch.float64)})"
      ]
     },
     "execution_count": 27,
     "metadata": {},
     "output_type": "execute_result"
    }
   ],
   "source": [
    "results"
   ]
  },
  {
   "cell_type": "code",
   "execution_count": null,
   "id": "23301bd5-d648-4a3d-bbc3-23dfedd443c0",
   "metadata": {},
   "outputs": [],
   "source": []
  }
 ],
 "metadata": {
  "kernelspec": {
   "display_name": "Python [.conda-fap2_env]",
   "language": "python",
   "name": "conda-env-.conda-fap2_env-py"
  },
  "language_info": {
   "codemirror_mode": {
    "name": "ipython",
    "version": 3
   },
   "file_extension": ".py",
   "mimetype": "text/x-python",
   "name": "python",
   "nbconvert_exporter": "python",
   "pygments_lexer": "ipython3",
   "version": "3.9.16"
  }
 },
 "nbformat": 4,
 "nbformat_minor": 5
}
