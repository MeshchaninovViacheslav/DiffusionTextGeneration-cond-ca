{
 "cells": [
  {
   "cell_type": "code",
   "execution_count": 1,
   "id": "fc00d039-3d4c-4d5c-950c-21cb2e58526a",
   "metadata": {
    "tags": []
   },
   "outputs": [],
   "source": [
    "from __future__ import division\n",
    "import os\n",
    "import sys\n",
    "import subprocess\n",
    "import threading\n",
    "import json\n",
    "import numpy as np\n",
    "import ast\n",
    "import tempfile"
   ]
  },
  {
   "cell_type": "code",
   "execution_count": 2,
   "id": "68f51708-4345-43cc-87d7-5de1ed126701",
   "metadata": {
    "tags": []
   },
   "outputs": [],
   "source": [
    "SPICE_JAR = 'spice-1.0.jar'\n",
    "TEMP_DIR = 'tmp'\n",
    "CACHE_DIR = 'cache'"
   ]
  },
  {
   "cell_type": "code",
   "execution_count": null,
   "id": "b41895ea-0a09-402d-8a66-a13839f82a07",
   "metadata": {},
   "outputs": [],
   "source": []
  },
  {
   "cell_type": "code",
   "execution_count": 3,
   "id": "6564e7a8-e0e2-4c16-a0c3-19af8ec05f3d",
   "metadata": {
    "tags": []
   },
   "outputs": [],
   "source": [
    "gts = [\"How do I read and find my YouTube comments?\"]\n",
    "res = [\"How do I find my YouTube comments 2016?\"]"
   ]
  },
  {
   "cell_type": "code",
   "execution_count": 4,
   "id": "2108ee22-abf3-47c2-83ee-87868aea0026",
   "metadata": {
    "tags": []
   },
   "outputs": [],
   "source": [
    "class Spice:\n",
    "    \"\"\"\n",
    "    Main Class to compute the SPICE metric \n",
    "    \"\"\"\n",
    "\n",
    "    def float_convert(self, obj):\n",
    "        try:\n",
    "            return float(obj)\n",
    "        except:\n",
    "            return np.nan\n",
    "\n",
    "    def compute_score(self, gts, res):\n",
    "        assert(sorted(gts.keys()) == sorted(res.keys()))\n",
    "        imgIds = sorted(gts.keys())\n",
    "        \n",
    "        # Prepare temp input file for the SPICE scorer\n",
    "        input_data = []\n",
    "        for id in imgIds:\n",
    "            hypo = res[id]\n",
    "            ref = gts[id]\n",
    "\n",
    "            # Sanity check.\n",
    "            assert(type(hypo) is list)\n",
    "            assert(len(hypo) == 1)\n",
    "            assert(type(ref) is list)\n",
    "            assert(len(ref) >= 1)\n",
    "\n",
    "            input_data.append({\n",
    "              \"image_id\" : id,\n",
    "              \"test\" : hypo[0],\n",
    "              \"refs\" : ref\n",
    "            })\n",
    "\n",
    "        cwd = os.path.dirname(os.path.abspath(__file__))\n",
    "        temp_dir=os.path.join(cwd, TEMP_DIR)\n",
    "        if not os.path.exists(temp_dir):\n",
    "            os.makedirs(temp_dir)\n",
    "        in_file = tempfile.NamedTemporaryFile(delete=False, dir=temp_dir)\n",
    "        json.dump(input_data, in_file, indent=2)\n",
    "        in_file.close()\n",
    "\n",
    "        # Start job\n",
    "        out_file = tempfile.NamedTemporaryFile(delete=False, dir=temp_dir)\n",
    "        out_file.close()\n",
    "        cache_dir=os.path.join(cwd, CACHE_DIR)\n",
    "        if not os.path.exists(cache_dir):\n",
    "            os.makedirs(cache_dir)\n",
    "        spice_cmd = ['java', '-jar', '-Xmx8G', SPICE_JAR, in_file.name,\n",
    "          '-cache', cache_dir,\n",
    "          '-out', out_file.name,\n",
    "          '-subset',\n",
    "          '-silent'\n",
    "        ]\n",
    "        subprocess.check_call(spice_cmd, \n",
    "            cwd=os.path.dirname(os.path.abspath(__file__)))\n",
    "\n",
    "        # Read and process results\n",
    "        with open(out_file.name) as data_file:    \n",
    "            results = json.load(data_file)\n",
    "        os.remove(in_file.name)\n",
    "        os.remove(out_file.name)\n",
    "\n",
    "        imgId_to_scores = {}\n",
    "        spice_scores = []\n",
    "        for item in results:\n",
    "            imgId_to_scores[item['image_id']] = item['scores']\n",
    "            spice_scores.append(self.float_convert(item['scores']['All']['f']))\n",
    "        average_score = np.mean(np.array(spice_scores))\n",
    "        scores = []\n",
    "        for image_id in imgIds:\n",
    "            # Convert none to NaN before saving scores over subcategories\n",
    "            score_set = {}\n",
    "            for category,score_tuple in imgId_to_scores[image_id].iteritems():\n",
    "                score_set[category] = {k: self.float_convert(v) for k, v in score_tuple.items()}\n",
    "            scores.append(score_set)\n",
    "        return average_score, scores\n",
    "\n",
    "    def method(self):\n",
    "        return \"SPICE\""
   ]
  },
  {
   "cell_type": "code",
   "execution_count": 6,
   "id": "39ab8c55-2b1b-4988-b1c8-0ecfc97201a5",
   "metadata": {
    "tags": []
   },
   "outputs": [],
   "source": [
    "met = Spice()"
   ]
  },
  {
   "cell_type": "code",
   "execution_count": 7,
   "id": "fdc9cfc5-3bb5-488f-ac04-70c3bf95c0e9",
   "metadata": {
    "tags": []
   },
   "outputs": [
    {
     "ename": "AttributeError",
     "evalue": "'list' object has no attribute 'keys'",
     "output_type": "error",
     "traceback": [
      "\u001b[0;31m---------------------------------------------------------------------------\u001b[0m",
      "\u001b[0;31mAttributeError\u001b[0m                            Traceback (most recent call last)",
      "Cell \u001b[0;32mIn[7], line 1\u001b[0m\n\u001b[0;32m----> 1\u001b[0m \u001b[43mmet\u001b[49m\u001b[38;5;241;43m.\u001b[39;49m\u001b[43mcompute_score\u001b[49m\u001b[43m(\u001b[49m\u001b[43mgts\u001b[49m\u001b[43m,\u001b[49m\u001b[43m \u001b[49m\u001b[43mres\u001b[49m\u001b[43m)\u001b[49m\n",
      "Cell \u001b[0;32mIn[4], line 13\u001b[0m, in \u001b[0;36mSpice.compute_score\u001b[0;34m(self, gts, res)\u001b[0m\n\u001b[1;32m     12\u001b[0m \u001b[38;5;28;01mdef\u001b[39;00m \u001b[38;5;21mcompute_score\u001b[39m(\u001b[38;5;28mself\u001b[39m, gts, res):\n\u001b[0;32m---> 13\u001b[0m     \u001b[38;5;28;01massert\u001b[39;00m(\u001b[38;5;28msorted\u001b[39m(\u001b[43mgts\u001b[49m\u001b[38;5;241;43m.\u001b[39;49m\u001b[43mkeys\u001b[49m()) \u001b[38;5;241m==\u001b[39m \u001b[38;5;28msorted\u001b[39m(res\u001b[38;5;241m.\u001b[39mkeys()))\n\u001b[1;32m     14\u001b[0m     imgIds \u001b[38;5;241m=\u001b[39m \u001b[38;5;28msorted\u001b[39m(gts\u001b[38;5;241m.\u001b[39mkeys())\n\u001b[1;32m     16\u001b[0m     \u001b[38;5;66;03m# Prepare temp input file for the SPICE scorer\u001b[39;00m\n",
      "\u001b[0;31mAttributeError\u001b[0m: 'list' object has no attribute 'keys'"
     ]
    }
   ],
   "source": [
    "met.compute_score(gts, res)"
   ]
  },
  {
   "cell_type": "code",
   "execution_count": null,
   "id": "4aa6f02e-aca1-4119-b2c4-bd9caa0bf963",
   "metadata": {},
   "outputs": [],
   "source": []
  },
  {
   "cell_type": "code",
   "execution_count": null,
   "id": "14790e4f-9ec1-4842-ae06-df2ae103437a",
   "metadata": {},
   "outputs": [],
   "source": []
  }
 ],
 "metadata": {
  "kernelspec": {
   "display_name": "Python [.conda-fap2_env]",
   "language": "python",
   "name": "conda-env-.conda-fap2_env-py"
  },
  "language_info": {
   "codemirror_mode": {
    "name": "ipython",
    "version": 3
   },
   "file_extension": ".py",
   "mimetype": "text/x-python",
   "name": "python",
   "nbconvert_exporter": "python",
   "pygments_lexer": "ipython3",
   "version": "3.9.16"
  }
 },
 "nbformat": 4,
 "nbformat_minor": 5
}
