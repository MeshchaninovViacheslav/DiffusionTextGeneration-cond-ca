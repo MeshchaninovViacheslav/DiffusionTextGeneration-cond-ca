{
 "cells": [
  {
   "cell_type": "code",
   "execution_count": 1,
   "id": "c3a18d17-f1fb-4210-86cf-5d5de965a04a",
   "metadata": {
    "tags": []
   },
   "outputs": [],
   "source": [
    "%load_ext autoreload\n",
    "%autoreload 2"
   ]
  },
  {
   "cell_type": "code",
   "execution_count": 2,
   "id": "046a2d1f-838c-4eae-b4a4-bb65dea3443c",
   "metadata": {
    "tags": []
   },
   "outputs": [],
   "source": [
    "import os\n",
    "import pandas as pd\n",
    "import matplotlib.pyplot as plt\n",
    "from datasets import Dataset"
   ]
  },
  {
   "cell_type": "code",
   "execution_count": 3,
   "id": "ac14b7ad-4cbd-46bf-81c7-5fae792d5852",
   "metadata": {
    "tags": []
   },
   "outputs": [],
   "source": [
    "folder_path = \"/home/vmeshchaninov/nlp_models/data/rocstories/\""
   ]
  },
  {
   "cell_type": "code",
   "execution_count": 4,
   "id": "c9e4d131-e85d-4a3f-851c-616f02812b70",
   "metadata": {
    "tags": []
   },
   "outputs": [
    {
     "data": {
      "text/html": [
       "<div>\n",
       "<style scoped>\n",
       "    .dataframe tbody tr th:only-of-type {\n",
       "        vertical-align: middle;\n",
       "    }\n",
       "\n",
       "    .dataframe tbody tr th {\n",
       "        vertical-align: top;\n",
       "    }\n",
       "\n",
       "    .dataframe thead th {\n",
       "        text-align: right;\n",
       "    }\n",
       "</style>\n",
       "<table border=\"1\" class=\"dataframe\">\n",
       "  <thead>\n",
       "    <tr style=\"text-align: right;\">\n",
       "      <th></th>\n",
       "      <th>storyid</th>\n",
       "      <th>storytitle</th>\n",
       "      <th>sentence1</th>\n",
       "      <th>sentence2</th>\n",
       "      <th>sentence3</th>\n",
       "      <th>sentence4</th>\n",
       "      <th>sentence5</th>\n",
       "    </tr>\n",
       "  </thead>\n",
       "  <tbody>\n",
       "    <tr>\n",
       "      <th>0</th>\n",
       "      <td>9a51198e-96f1-42c3-b09d-a3e1e067d803</td>\n",
       "      <td>Overweight Kid</td>\n",
       "      <td>Dan's parents were overweight.</td>\n",
       "      <td>Dan was overweight as well.</td>\n",
       "      <td>The doctors told his parents it was unhealthy.</td>\n",
       "      <td>His parents understood and decided to make a c...</td>\n",
       "      <td>They got themselves and Dan on a diet.</td>\n",
       "    </tr>\n",
       "    <tr>\n",
       "      <th>1</th>\n",
       "      <td>617e7ada-3878-488d-bd56-40695b91f053</td>\n",
       "      <td>The Bike Accident</td>\n",
       "      <td>Carrie had just learned how to ride a bike.</td>\n",
       "      <td>She didn't have a bike of her own.</td>\n",
       "      <td>Carrie would sneak rides on her sister's bike.</td>\n",
       "      <td>She got nervous on a hill and crashed into a w...</td>\n",
       "      <td>The bike frame bent and Carrie got a deep gash...</td>\n",
       "    </tr>\n",
       "    <tr>\n",
       "      <th>2</th>\n",
       "      <td>79b0da1f-e460-4173-ba58-8c9e2553c53a</td>\n",
       "      <td>Beach</td>\n",
       "      <td>Morgan enjoyed long walks on the beach.</td>\n",
       "      <td>She and her boyfriend decided to go for a long...</td>\n",
       "      <td>After walking for over a mile, something happe...</td>\n",
       "      <td>Morgan decided to propose to her boyfriend.</td>\n",
       "      <td>Her boyfriend was upset he didn't propose to h...</td>\n",
       "    </tr>\n",
       "    <tr>\n",
       "      <th>3</th>\n",
       "      <td>d173b7de-4611-4cdf-934c-912834755e41</td>\n",
       "      <td>The bad customer.</td>\n",
       "      <td>Jane was working at a diner.</td>\n",
       "      <td>Suddenly, a customer barged up to the counter.</td>\n",
       "      <td>He began yelling about how long his food was t...</td>\n",
       "      <td>Jane didn't know how to react.</td>\n",
       "      <td>Luckily, her coworker intervened and calmed th...</td>\n",
       "    </tr>\n",
       "    <tr>\n",
       "      <th>4</th>\n",
       "      <td>af0fd5a4-de36-47ba-8aa2-e99d10986d7a</td>\n",
       "      <td>Being Patient</td>\n",
       "      <td>I was talking to my crush today.</td>\n",
       "      <td>She continued to complain about guys flirting ...</td>\n",
       "      <td>I decided to agree with what she says and list...</td>\n",
       "      <td>After I got home, I got a text from her.</td>\n",
       "      <td>She asked if we can hang out tomorrow.</td>\n",
       "    </tr>\n",
       "  </tbody>\n",
       "</table>\n",
       "</div>"
      ],
      "text/plain": [
       "                                storyid         storytitle   \n",
       "0  9a51198e-96f1-42c3-b09d-a3e1e067d803     Overweight Kid  \\\n",
       "1  617e7ada-3878-488d-bd56-40695b91f053  The Bike Accident   \n",
       "2  79b0da1f-e460-4173-ba58-8c9e2553c53a              Beach   \n",
       "3  d173b7de-4611-4cdf-934c-912834755e41  The bad customer.   \n",
       "4  af0fd5a4-de36-47ba-8aa2-e99d10986d7a      Being Patient   \n",
       "\n",
       "                                     sentence1   \n",
       "0               Dan's parents were overweight.  \\\n",
       "1  Carrie had just learned how to ride a bike.   \n",
       "2      Morgan enjoyed long walks on the beach.   \n",
       "3                 Jane was working at a diner.   \n",
       "4             I was talking to my crush today.   \n",
       "\n",
       "                                           sentence2   \n",
       "0                        Dan was overweight as well.  \\\n",
       "1                 She didn't have a bike of her own.   \n",
       "2  She and her boyfriend decided to go for a long...   \n",
       "3     Suddenly, a customer barged up to the counter.   \n",
       "4  She continued to complain about guys flirting ...   \n",
       "\n",
       "                                           sentence3   \n",
       "0     The doctors told his parents it was unhealthy.  \\\n",
       "1     Carrie would sneak rides on her sister's bike.   \n",
       "2  After walking for over a mile, something happe...   \n",
       "3  He began yelling about how long his food was t...   \n",
       "4  I decided to agree with what she says and list...   \n",
       "\n",
       "                                           sentence4   \n",
       "0  His parents understood and decided to make a c...  \\\n",
       "1  She got nervous on a hill and crashed into a w...   \n",
       "2        Morgan decided to propose to her boyfriend.   \n",
       "3                     Jane didn't know how to react.   \n",
       "4           After I got home, I got a text from her.   \n",
       "\n",
       "                                           sentence5  \n",
       "0             They got themselves and Dan on a diet.  \n",
       "1  The bike frame bent and Carrie got a deep gash...  \n",
       "2  Her boyfriend was upset he didn't propose to h...  \n",
       "3  Luckily, her coworker intervened and calmed th...  \n",
       "4             She asked if we can hang out tomorrow.  "
      ]
     },
     "execution_count": 4,
     "metadata": {},
     "output_type": "execute_result"
    }
   ],
   "source": [
    "df = pd.read_csv(os.path.join(folder_path, '100KStories.csv'))\n",
    "df.head()"
   ]
  },
  {
   "cell_type": "code",
   "execution_count": 5,
   "id": "36901038-4ef1-4c8b-a54d-3d1d2610fe58",
   "metadata": {
    "tags": []
   },
   "outputs": [],
   "source": [
    "df.drop(columns=['storyid', 'storytitle'], inplace=True)"
   ]
  },
  {
   "cell_type": "code",
   "execution_count": 6,
   "id": "cfc9febf-0934-4603-b6b4-041af4326fff",
   "metadata": {
    "tags": []
   },
   "outputs": [],
   "source": [
    "texts = []\n",
    "for i in range(len(df)):\n",
    "    text = ''\n",
    "    for j in range(1, 6):\n",
    "        text += df[f'sentence{j}'][i] + ' '\n",
    "        \n",
    "    texts.append(text.strip())"
   ]
  },
  {
   "cell_type": "code",
   "execution_count": 7,
   "id": "cc5c00e8-29ab-4821-af33-2ed3c76dfa4a",
   "metadata": {
    "tags": []
   },
   "outputs": [
    {
     "data": {
      "image/png": "[encoded data removed]",
      "text/plain": [
       "<Figure size 640x480 with 1 Axes>"
      ]
     },
     "metadata": {},
     "output_type": "display_data"
    }
   ],
   "source": [
    "lens = [len(t.split()) for t in texts]\n",
    "plt.hist(lens, bins=50);"
   ]
  },
  {
   "cell_type": "markdown",
   "id": "46b1bd1a-5c92-4603-b722-8a108de6f306",
   "metadata": {
    "tags": []
   },
   "source": [
    "Предобработка SSD-LM: https://github.com/xhan77/ssd-lm/blob/c0b67612c27928350aa073b303bc9df3a0e87f28/ssd_process_data.py#L430 "
   ]
  },
  {
   "cell_type": "code",
   "execution_count": 8,
   "id": "ec0d7dd0-6259-40cb-ab2a-e3c781550e5e",
   "metadata": {
    "tags": []
   },
   "outputs": [],
   "source": [
    "raw_dataset = Dataset.from_list([{\"text\": t} for t in texts])"
   ]
  },
  {
   "cell_type": "code",
   "execution_count": 9,
   "id": "0e0540d9-acac-455c-89c2-3ee9a4a39230",
   "metadata": {
    "tags": []
   },
   "outputs": [
    {
     "data": {
      "text/plain": [
       "Dataset({\n",
       "    features: ['text'],\n",
       "    num_rows: 98167\n",
       "})"
      ]
     },
     "execution_count": 9,
     "metadata": {},
     "output_type": "execute_result"
    }
   ],
   "source": [
    "raw_dataset"
   ]
  },
  {
   "cell_type": "code",
   "execution_count": 10,
   "id": "983f205d-71d5-4615-813f-28c5c726b6cd",
   "metadata": {
    "tags": []
   },
   "outputs": [],
   "source": [
    "from transformers import AutoTokenizer\n",
    "tokenizer = AutoTokenizer.from_pretrained('bert-base-uncased')"
   ]
  },
  {
   "cell_type": "code",
   "execution_count": 11,
   "id": "4af7fbba-4f7e-4389-9719-daa4708b5b87",
   "metadata": {
    "tags": []
   },
   "outputs": [],
   "source": [
    "def tokenize_function(batch):\n",
    "    return tokenizer(batch[\"text\"], return_special_tokens_mask=True)"
   ]
  },
  {
   "cell_type": "code",
   "execution_count": 12,
   "id": "c76b8129-a58d-4049-8d2c-f9761f4f6e0b",
   "metadata": {
    "tags": []
   },
   "outputs": [
    {
     "data": {
      "application/vnd.jupyter.widget-view+json": {
       "model_id": "b8d4cf134f144185b68a9edb226c0734",
       "version_major": 2,
       "version_minor": 0
      },
      "text/plain": [
       "Running tokenizer on every text in dataset (num_proc=4):   0%|          | 0/98167 [00:00<?, ? examples/s]"
      ]
     },
     "metadata": {},
     "output_type": "display_data"
    }
   ],
   "source": [
    "tokenized_dataset = raw_dataset.map(\n",
    "    tokenize_function,\n",
    "    batched=True,\n",
    "    num_proc=4,\n",
    "    remove_columns=[\"text\"],\n",
    "    desc=\"Running tokenizer on every text in dataset\",\n",
    ")"
   ]
  },
  {
   "cell_type": "code",
   "execution_count": 13,
   "id": "a1906226-24e8-4489-b433-a4aad68e903f",
   "metadata": {
    "tags": []
   },
   "outputs": [],
   "source": [
    "max_seq_length = 100"
   ]
  },
  {
   "cell_type": "code",
   "execution_count": 14,
   "id": "158bcc73-10c8-40f5-a25b-4cf63d986987",
   "metadata": {
    "tags": []
   },
   "outputs": [],
   "source": [
    "tokenized_dataset = tokenized_dataset.remove_columns([\"attention_mask\", \"token_type_ids\"])"
   ]
  },
  {
   "cell_type": "code",
   "execution_count": 15,
   "id": "ddcc52da-747e-4fd6-b0ef-58e935620359",
   "metadata": {
    "tags": []
   },
   "outputs": [],
   "source": [
    "def group_texts(batch):\n",
    "    # Concatenate all texts.\n",
    "    concatenated_batch = {k: sum(batch[k], []) for k in batch.keys()}\n",
    "    total_length = len(concatenated_batch[list(batch.keys())[0]])\n",
    "    \n",
    "    # We drop the small remainder, we could add padding if the model supported it instead of this drop, you can\n",
    "    # customize this part to your needs.\n",
    "    if total_length >= max_seq_length:\n",
    "        total_length = (total_length // max_seq_length) * max_seq_length\n",
    "    \n",
    "    # Split by chunks of max_len.\n",
    "    result = {\n",
    "        k: [t[i : i + max_seq_length] for i in range(0, total_length, max_seq_length)]\n",
    "        for k, t in concatenated_batch.items()\n",
    "    }\n",
    "    return result"
   ]
  },
  {
   "cell_type": "code",
   "execution_count": 16,
   "id": "a4f6d08f-a696-4c58-ba27-be17f2fcf6a2",
   "metadata": {
    "tags": []
   },
   "outputs": [
    {
     "data": {
      "application/vnd.jupyter.widget-view+json": {
       "model_id": "138c968d8ef145939a2db32bfcf5edd8",
       "version_major": 2,
       "version_minor": 0
      },
      "text/plain": [
       "Grouping texts in chunks of 100 (num_proc=4):   0%|          | 0/98167 [00:00<?, ? examples/s]"
      ]
     },
     "metadata": {},
     "output_type": "display_data"
    }
   ],
   "source": [
    "tokenized_dataset = tokenized_dataset.map(\n",
    "    group_texts,\n",
    "    batched=True,\n",
    "    num_proc=4,\n",
    "    desc=f\"Grouping texts in chunks of {max_seq_length}\",\n",
    ")"
   ]
  },
  {
   "cell_type": "code",
   "execution_count": 17,
   "id": "e7b1dbd7-3cc3-407d-9898-4eb6dc542b8f",
   "metadata": {
    "tags": []
   },
   "outputs": [
    {
     "name": "stdout",
     "output_type": "stream",
     "text": [
      "{'input_ids': [101, 4907, 1005, 1055, 3008, 2020, 2058, 11179, 1012, 4907, 2001, 2058, 11179, 2004, 2092, 1012, 1996, 7435, 2409, 2010, 3008, 2009, 2001, 4895, 20192, 24658, 2100, 1012, 2010, 3008, 5319, 1998, 2787, 2000, 2191, 1037, 2689, 1012, 2027, 2288, 3209, 1998, 4907, 2006, 1037, 8738, 1012, 102, 101, 13223, 2018, 2074, 4342, 2129, 2000, 4536, 1037, 7997, 1012, 2016, 2134, 1005, 1056, 2031, 1037, 7997, 1997, 2014, 2219, 1012, 13223, 2052, 13583, 12271, 2006, 2014, 2905, 1005, 1055, 7997, 1012, 2016, 2288, 6091, 2006, 1037, 2940, 1998, 8007, 2046, 1037, 2813, 1012, 1996, 7997, 4853, 6260, 1998, 13223, 2288], 'special_tokens_mask': [1, 0, 0, 0, 0, 0, 0, 0, 0, 0, 0, 0, 0, 0, 0, 0, 0, 0, 0, 0, 0, 0, 0, 0, 0, 0, 0, 0, 0, 0, 0, 0, 0, 0, 0, 0, 0, 0, 0, 0, 0, 0, 0, 0, 0, 0, 0, 1, 1, 0, 0, 0, 0, 0, 0, 0, 0, 0, 0, 0, 0, 0, 0, 0, 0, 0, 0, 0, 0, 0, 0, 0, 0, 0, 0, 0, 0, 0, 0, 0, 0, 0, 0, 0, 0, 0, 0, 0, 0, 0, 0, 0, 0, 0, 0, 0, 0, 0, 0, 0]}\n"
     ]
    }
   ],
   "source": [
    "print(tokenized_dataset[0])"
   ]
  },
  {
   "cell_type": "code",
   "execution_count": 18,
   "id": "44de605e-5da8-492f-b0ad-525aa81a2215",
   "metadata": {
    "tags": []
   },
   "outputs": [
    {
     "data": {
      "image/png": "[encoded data removed]",
      "text/plain": [
       "<Figure size 640x480 with 1 Axes>"
      ]
     },
     "metadata": {},
     "output_type": "display_data"
    }
   ],
   "source": [
    "lens = [len(t['input_ids']) for t in tokenized_dataset]\n",
    "plt.hist(lens, bins=50);"
   ]
  },
  {
   "cell_type": "code",
   "execution_count": 19,
   "id": "1e5303ca-b27d-412a-aa7c-418f0819cd9b",
   "metadata": {
    "tags": []
   },
   "outputs": [],
   "source": [
    "def detokenize(batch):\n",
    "    batch[\"text\"] = tokenizer.batch_decode(batch[\"input_ids\"], skip_special_tokens=False)\n",
    "    return batch"
   ]
  },
  {
   "cell_type": "code",
   "execution_count": 20,
   "id": "fe503de7-ff9a-4657-9353-3fe637d11ce3",
   "metadata": {
    "tags": []
   },
   "outputs": [
    {
     "data": {
      "application/vnd.jupyter.widget-view+json": {
       "model_id": "151ff940aa804f80943405433b66d367",
       "version_major": 2,
       "version_minor": 0
      },
      "text/plain": [
       "Running tokenizer on every text in dataset (num_proc=4):   0%|          | 0/52483 [00:00<?, ? examples/s]"
      ]
     },
     "metadata": {},
     "output_type": "display_data"
    }
   ],
   "source": [
    "tokenized_dataset = tokenized_dataset.map(\n",
    "    detokenize, \n",
    "    batched=True,\n",
    "    num_proc=4,\n",
    "    desc=\"Running tokenizer on every text in dataset\",\n",
    ")"
   ]
  },
  {
   "cell_type": "code",
   "execution_count": 21,
   "id": "87d1323a-7c11-48f8-af55-3310b5a01f10",
   "metadata": {
    "tags": []
   },
   "outputs": [
    {
     "name": "stdout",
     "output_type": "stream",
     "text": [
      "{'input_ids': [101, 4907, 1005, 1055, 3008, 2020, 2058, 11179, 1012, 4907, 2001, 2058, 11179, 2004, 2092, 1012, 1996, 7435, 2409, 2010, 3008, 2009, 2001, 4895, 20192, 24658, 2100, 1012, 2010, 3008, 5319, 1998, 2787, 2000, 2191, 1037, 2689, 1012, 2027, 2288, 3209, 1998, 4907, 2006, 1037, 8738, 1012, 102, 101, 13223, 2018, 2074, 4342, 2129, 2000, 4536, 1037, 7997, 1012, 2016, 2134, 1005, 1056, 2031, 1037, 7997, 1997, 2014, 2219, 1012, 13223, 2052, 13583, 12271, 2006, 2014, 2905, 1005, 1055, 7997, 1012, 2016, 2288, 6091, 2006, 1037, 2940, 1998, 8007, 2046, 1037, 2813, 1012, 1996, 7997, 4853, 6260, 1998, 13223, 2288], 'special_tokens_mask': [1, 0, 0, 0, 0, 0, 0, 0, 0, 0, 0, 0, 0, 0, 0, 0, 0, 0, 0, 0, 0, 0, 0, 0, 0, 0, 0, 0, 0, 0, 0, 0, 0, 0, 0, 0, 0, 0, 0, 0, 0, 0, 0, 0, 0, 0, 0, 1, 1, 0, 0, 0, 0, 0, 0, 0, 0, 0, 0, 0, 0, 0, 0, 0, 0, 0, 0, 0, 0, 0, 0, 0, 0, 0, 0, 0, 0, 0, 0, 0, 0, 0, 0, 0, 0, 0, 0, 0, 0, 0, 0, 0, 0, 0, 0, 0, 0, 0, 0, 0], 'text': \"[CLS] dan's parents were overweight. dan was overweight as well. the doctors told his parents it was unhealthy. his parents understood and decided to make a change. they got themselves and dan on a diet. [SEP] [CLS] carrie had just learned how to ride a bike. she didn't have a bike of her own. carrie would sneak rides on her sister's bike. she got nervous on a hill and crashed into a wall. the bike frame bent and carrie got\"}\n"
     ]
    }
   ],
   "source": [
    "print(tokenized_dataset[0])"
   ]
  },
  {
   "cell_type": "code",
   "execution_count": 22,
   "id": "f0dc5c89-79ab-4257-9c3a-e2f60ed52eb6",
   "metadata": {
    "tags": []
   },
   "outputs": [],
   "source": [
    "dt_dict = tokenized_dataset.train_test_split(test_size=2700, seed=0)"
   ]
  },
  {
   "cell_type": "code",
   "execution_count": 23,
   "id": "a8ef778a-5a19-496f-84ff-59512b3bc0b0",
   "metadata": {
    "tags": []
   },
   "outputs": [
    {
     "data": {
      "text/plain": [
       "DatasetDict({\n",
       "    train: Dataset({\n",
       "        features: ['input_ids', 'special_tokens_mask', 'text'],\n",
       "        num_rows: 49783\n",
       "    })\n",
       "    test: Dataset({\n",
       "        features: ['input_ids', 'special_tokens_mask', 'text'],\n",
       "        num_rows: 2700\n",
       "    })\n",
       "})"
      ]
     },
     "execution_count": 23,
     "metadata": {},
     "output_type": "execute_result"
    }
   ],
   "source": [
    "dt_dict"
   ]
  },
  {
   "cell_type": "code",
   "execution_count": 24,
   "id": "0df0d4e9-f122-48f1-a980-9bbfc627945f",
   "metadata": {
    "tags": []
   },
   "outputs": [
    {
     "data": {
      "application/vnd.jupyter.widget-view+json": {
       "model_id": "6ac82614b80549ad9268fec902b159f1",
       "version_major": 2,
       "version_minor": 0
      },
      "text/plain": [
       "Saving the dataset (0/1 shards):   0%|          | 0/49783 [00:00<?, ? examples/s]"
      ]
     },
     "metadata": {},
     "output_type": "display_data"
    }
   ],
   "source": [
    "dt_dict[\"train\"].save_to_disk(os.path.join(folder_path, \"grouped_data/train\"))"
   ]
  },
  {
   "cell_type": "code",
   "execution_count": 25,
   "id": "da18a05f-14fd-4be3-ba58-afe0f9c75dc9",
   "metadata": {
    "tags": []
   },
   "outputs": [
    {
     "data": {
      "application/vnd.jupyter.widget-view+json": {
       "model_id": "1bcc0d30492c471586280e30a60fabe5",
       "version_major": 2,
       "version_minor": 0
      },
      "text/plain": [
       "Saving the dataset (0/1 shards):   0%|          | 0/2700 [00:00<?, ? examples/s]"
      ]
     },
     "metadata": {},
     "output_type": "display_data"
    }
   ],
   "source": [
    "dt_dict[\"test\"].save_to_disk(os.path.join(folder_path, \"grouped_data/test\"))"
   ]
  },
  {
   "cell_type": "code",
   "execution_count": null,
   "id": "ecff8d42-295b-4a50-ac22-df71cbb32d71",
   "metadata": {},
   "outputs": [],
   "source": []
  },
  {
   "cell_type": "code",
   "execution_count": 28,
   "id": "49fcf79c-1c7d-4045-9dcc-3b184447555e",
   "metadata": {
    "tags": []
   },
   "outputs": [
    {
     "data": {
      "text/plain": [
       "{'input_ids': [101, 4907, 1005, 1055, 3008, 2020, 2058, 11179, 1012], 'token_type_ids': [0, 0, 0, 0, 0, 0, 0, 0, 0], 'attention_mask': [1, 1, 1, 1, 1, 1, 1, 1, 1]}"
      ]
     },
     "execution_count": 29,
     "metadata": {},
     "output_type": "execute_result"
    }
   ],
   "source": [
    "tokenizer(\"[CLS] dan's parents were overweight.[SEP]\", add_special_tokens=False)"
   ]
  },
  {
   "cell_type": "code",
   "execution_count": 30,
   "id": "e14fb255-b2ac-4394-90bb-4700ce197415",
   "metadata": {
    "tags": []
   },
   "outputs": [
    {
     "name": "stderr",
     "output_type": "stream",
     "text": [
      "/home/vmeshchaninov/.conda/envs/fap2_env/lib/python3.9/site-packages/transformers/models/t5/tokenization_t5_fast.py:155: FutureWarning: This tokenizer was incorrectly instantiated with a model max length of 512 which will be corrected in Transformers v5.\n",
      "For now, this behavior is kept to avoid breaking backwards compatibility when padding/encoding with `truncation is True`.\n",
      "- Be aware that you SHOULD NOT rely on t5-base automatically truncating your input to 512 when padding/encoding.\n",
      "- If you want to encode/pad to sequences longer than 512 you can either instantiate this tokenizer with `model_max_length` or pass `max_length` when encoding/padding.\n",
      "- To avoid this warning, please instantiate this tokenizer with `model_max_length` set to your preferred value.\n",
      "  warnings.warn(\n"
     ]
    }
   ],
   "source": [
    "t5_tokenizer = AutoTokenizer.from_pretrained(\"t5-base\")"
   ]
  },
  {
   "cell_type": "code",
   "execution_count": 34,
   "id": "ad9344e2-866d-4c45-92b2-6bee2a84d9ba",
   "metadata": {
    "tags": []
   },
   "outputs": [
    {
     "data": {
      "text/plain": [
       "\"[CLS] dan's parents were overweight.[SEP]</s>\""
      ]
     },
     "execution_count": 34,
     "metadata": {},
     "output_type": "execute_result"
    }
   ],
   "source": [
    "t5_tokenizer.decode(t5_tokenizer(\"[CLS] dan's parents were overweight.[SEP]\", add_special_tokens=True)[\"input_ids\"], skip_special_tokens=False)"
   ]
  },
  {
   "cell_type": "code",
   "execution_count": 55,
   "id": "03a7ea69-4bb8-43b9-972e-cb05c87f20b0",
   "metadata": {},
   "outputs": [
    {
     "data": {
      "text/plain": [
       "Dataset({\n",
       "    features: ['input_ids', 'special_tokens_mask', 'text'],\n",
       "    num_rows: 3\n",
       "})"
      ]
     },
     "execution_count": 55,
     "metadata": {},
     "output_type": "execute_result"
    }
   ],
   "source": [
    "dt_dict[\"test\"].select([1, 5, 4])"
   ]
  },
  {
   "cell_type": "code",
   "execution_count": null,
   "id": "7cb96f56-1576-4f08-a424-c83d24e59964",
   "metadata": {},
   "outputs": [],
   "source": []
  },
  {
   "cell_type": "code",
   "execution_count": 3,
   "id": "28f1d82b-4ae6-4804-b602-9db6b3fba156",
   "metadata": {
    "tags": []
   },
   "outputs": [],
   "source": [
    "import torch\n",
    "from torch.utils.data import TensorDataset, DataLoader"
   ]
  },
  {
   "cell_type": "code",
   "execution_count": 7,
   "id": "8a94527f-dfbf-465d-9991-6bd1c32ead38",
   "metadata": {
    "tags": []
   },
   "outputs": [],
   "source": [
    "inps = torch.arange(6 * 3, dtype=torch.float32).view(6, 3)\n",
    "dataset = TensorDataset(inps)\n",
    "\n",
    "loader = DataLoader(dataset, batch_size=2, shuffle=True)"
   ]
  },
  {
   "cell_type": "code",
   "execution_count": 8,
   "id": "179704c1-8322-46bf-b51f-72f87c982d23",
   "metadata": {
    "tags": []
   },
   "outputs": [],
   "source": [
    "iter_loader = iter(loader)"
   ]
  },
  {
   "cell_type": "code",
   "execution_count": 9,
   "id": "fffcd340-5e09-4fd0-955e-b015a733051b",
   "metadata": {
    "tags": []
   },
   "outputs": [
    {
     "data": {
      "text/plain": [
       "[tensor([[0., 1., 2.],\n",
       "         [3., 4., 5.]])]"
      ]
     },
     "execution_count": 9,
     "metadata": {},
     "output_type": "execute_result"
    }
   ],
   "source": [
    "next(iter_loader)"
   ]
  },
  {
   "cell_type": "code",
   "execution_count": 10,
   "id": "cc1fcb7a-dc19-4be5-a5fc-e3c7b1a0d474",
   "metadata": {
    "tags": []
   },
   "outputs": [
    {
     "data": {
      "text/plain": [
       "[tensor([[ 6.,  7.,  8.],\n",
       "         [15., 16., 17.]])]"
      ]
     },
     "execution_count": 10,
     "metadata": {},
     "output_type": "execute_result"
    }
   ],
   "source": [
    "next(iter_loader)"
   ]
  },
  {
   "cell_type": "code",
   "execution_count": 11,
   "id": "2e48760d-8c12-4bf7-b21d-9bc692205adb",
   "metadata": {
    "tags": []
   },
   "outputs": [
    {
     "data": {
      "text/plain": [
       "[tensor([[12., 13., 14.],\n",
       "         [ 9., 10., 11.]])]"
      ]
     },
     "execution_count": 11,
     "metadata": {},
     "output_type": "execute_result"
    }
   ],
   "source": [
    "next(iter_loader)"
   ]
  },
  {
   "cell_type": "code",
   "execution_count": null,
   "id": "bc25e4c7-dcce-4efd-8cb3-533385809397",
   "metadata": {},
   "outputs": [],
   "source": []
  },
  {
   "cell_type": "code",
   "execution_count": 25,
   "id": "d79887a6-e089-44fb-9936-6b1a6155502c",
   "metadata": {
    "tags": []
   },
   "outputs": [],
   "source": [
    "iter_loader = iter(loader)"
   ]
  },
  {
   "cell_type": "code",
   "execution_count": 26,
   "id": "6f9c906d-0543-4d3d-a6e3-f06dae97acac",
   "metadata": {
    "tags": []
   },
   "outputs": [
    {
     "data": {
      "text/plain": [
       "[tensor([[ 3.,  4.,  5.],\n",
       "         [12., 13., 14.]])]"
      ]
     },
     "execution_count": 26,
     "metadata": {},
     "output_type": "execute_result"
    }
   ],
   "source": [
    "next(iter_loader)"
   ]
  },
  {
   "cell_type": "code",
   "execution_count": 27,
   "id": "f1e6c771-060c-4d88-a1bd-cc6614ae2478",
   "metadata": {
    "tags": []
   },
   "outputs": [
    {
     "data": {
      "text/plain": [
       "[tensor([[ 9., 10., 11.],\n",
       "         [ 0.,  1.,  2.]])]"
      ]
     },
     "execution_count": 27,
     "metadata": {},
     "output_type": "execute_result"
    }
   ],
   "source": [
    "next(iter_loader)"
   ]
  },
  {
   "cell_type": "code",
   "execution_count": 28,
   "id": "b1087205-89bd-4d45-86b3-f2ef11dbd38a",
   "metadata": {
    "tags": []
   },
   "outputs": [
    {
     "data": {
      "text/plain": [
       "[tensor([[ 6.,  7.,  8.],\n",
       "         [15., 16., 17.]])]"
      ]
     },
     "execution_count": 28,
     "metadata": {},
     "output_type": "execute_result"
    }
   ],
   "source": [
    "next(iter_loader)"
   ]
  },
  {
   "cell_type": "code",
   "execution_count": null,
   "id": "669f6528-e938-40fe-ac74-b30278e7cf44",
   "metadata": {},
   "outputs": [],
   "source": []
  }
 ],
 "metadata": {
  "kernelspec": {
   "display_name": "Python [.conda-fap2_env]",
   "language": "python",
   "name": "conda-env-.conda-fap2_env-py"
  },
  "language_info": {
   "codemirror_mode": {
    "name": "ipython",
    "version": 3
   },
   "file_extension": ".py",
   "mimetype": "text/x-python",
   "name": "python",
   "nbconvert_exporter": "python",
   "pygments_lexer": "ipython3",
   "version": "3.9.16"
  }
 },
 "nbformat": 4,
 "nbformat_minor": 5
}
