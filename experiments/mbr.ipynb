{
 "cells": [
  {
   "cell_type": "code",
   "execution_count": 1,
   "id": "7d3737b8-31e0-4c6a-a6a9-5e07e17bba1c",
   "metadata": {
    "tags": []
   },
   "outputs": [],
   "source": [
    "%load_ext autoreload\n",
    "%autoreload 2"
   ]
  },
  {
   "cell_type": "code",
   "execution_count": 2,
   "id": "d4c6a68e-ef89-40ea-b40d-bdcc0eddf228",
   "metadata": {
    "tags": []
   },
   "outputs": [],
   "source": [
    "import sys\n",
    "\n",
    "sys.path.append(\"/home/vmeshchaninov/DiffusionTextGeneration-cond-ca/\")"
   ]
  },
  {
   "cell_type": "code",
   "execution_count": 3,
   "id": "5af5c7a0-f0b2-47af-b3f3-b6c5e750f0fa",
   "metadata": {
    "tags": []
   },
   "outputs": [],
   "source": [
    "pred = [\n",
    "    \"The player stood in the field looking at the batter.\",\n",
    "    \"The coach stands along the field, looking at the goalkeeper.\",\n",
    "    \"I stood and looked across the field, peacefully.\",\n",
    "    \"I stood and looked across the field.\",\n",
    "    \"Someone stands, looking around the empty field.\"\n",
    "]"
   ]
  },
  {
   "cell_type": "code",
   "execution_count": 9,
   "id": "075ec8af-72d1-4bbc-af38-204354f82bcc",
   "metadata": {
    "tags": []
   },
   "outputs": [],
   "source": [
    "import numpy as np\n",
    "from estimation_utils.pymteval import BLEUScore\n",
    "\n",
    "def bleu_score(predictions, references):\n",
    "    scorer = BLEUScore(smoothing=1.0)\n",
    "    scorer.reset()\n",
    "    scorer.append(predictions, [references])\n",
    "    return scorer.score()\n",
    "\n",
    "def mbr(samples):\n",
    "\n",
    "    score_dict = {}\n",
    "    for idx_y in range(len(samples)):\n",
    "        y = samples[idx_y]\n",
    "        \n",
    "        blue_lst = []\n",
    "        for idx_x in range(len(samples)):\n",
    "            if idx_x != idx_y:\n",
    "                x = samples[idx_x]\n",
    "                b = bleu_score(predictions=y, references=x)\n",
    "                blue_lst.append(b)\n",
    "        score_dict[idx_y] = np.array(blue_lst).mean()\n",
    "\n",
    "    best_y = sorted(score_dict.items(), key=lambda item: item[1])[-1]\n",
    "\n",
    "    return samples[best_y[0]]"
   ]
  },
  {
   "cell_type": "code",
   "execution_count": 10,
   "id": "3f868fae-9077-4fde-963c-10333b93f7c9",
   "metadata": {
    "tags": []
   },
   "outputs": [
    {
     "name": "stdout",
     "output_type": "stream",
     "text": [
      "[0.24737714147554013, 0.17033186037639278, 0.17033186037639278, 0.14323145079400493]\n",
      "[0.24712442545253582, 0.2044800736021839, 0.14694106251955755, 0.1690062198556585]\n",
      "[0.1705647399369684, 0.20311412297014433, 0.6989307622784944, 0.15851165692617156]\n",
      "[0.16481400866629634, 0.13755608571892394, 0.6924626985290344, 0.20014292374951972]\n",
      "[0.14211011212459493, 0.16449759298465816, 0.15881076016027915, 0.19960198807747329]\n"
     ]
    },
    {
     "data": {
      "text/plain": [
       "'I stood and looked across the field, peacefully.'"
      ]
     },
     "execution_count": 10,
     "metadata": {},
     "output_type": "execute_result"
    }
   ],
   "source": [
    "mbr(pred)"
   ]
  },
  {
   "cell_type": "code",
   "execution_count": 4,
   "id": "9626a0d0-fa56-4ac7-b8fd-a68fd5e99406",
   "metadata": {
    "tags": []
   },
   "outputs": [],
   "source": [
    "from transformers import AutoTokenizer"
   ]
  },
  {
   "cell_type": "code",
   "execution_count": 6,
   "id": "ac39a652-1296-4639-8c62-121b7cc687ec",
   "metadata": {
    "tags": []
   },
   "outputs": [],
   "source": [
    "from estimation_utils.nmt_bleu import compute_bleu as bleu\n",
    "tokenizer_mbert = AutoTokenizer.from_pretrained('bert-base-multilingual-cased')"
   ]
  },
  {
   "cell_type": "code",
   "execution_count": 12,
   "id": "ed8bd380-fa03-4fc6-a469-c1be130ee9d9",
   "metadata": {
    "tags": []
   },
   "outputs": [],
   "source": [
    "references = [[tokenizer_mbert.tokenize(item)] for item in pred[:2]]\n",
    "predictions = [tokenizer_mbert.tokenize(item) for item in pred[3:]]"
   ]
  },
  {
   "cell_type": "code",
   "execution_count": 13,
   "id": "35276924-ed56-47c7-a4e1-db408dacaaf3",
   "metadata": {
    "tags": []
   },
   "outputs": [],
   "source": [
    "results = bleu(reference_corpus=references, translation_corpus=predictions, max_order=4, smooth=True)"
   ]
  },
  {
   "cell_type": "code",
   "execution_count": 14,
   "id": "416c97d1-b6f0-4429-be06-6eb9d96f991b",
   "metadata": {
    "tags": []
   },
   "outputs": [
    {
     "data": {
      "text/plain": [
       "(0.10705967064287497,\n",
       " [0.6111111111111112, 0.1875, 0.07142857142857142, 0.08333333333333333],\n",
       " 0.6624801353939264,\n",
       " 0.7083333333333334,\n",
       " 17,\n",
       " 24)"
      ]
     },
     "execution_count": 14,
     "metadata": {},
     "output_type": "execute_result"
    }
   ],
   "source": [
    "results"
   ]
  },
  {
   "cell_type": "code",
   "execution_count": 23,
   "id": "2f397e25-ffec-42da-a1b7-e5fdb92af272",
   "metadata": {
    "tags": []
   },
   "outputs": [],
   "source": [
    "from rouge_score import rouge_scorer, scoring"
   ]
  },
  {
   "cell_type": "code",
   "execution_count": 24,
   "id": "21e42af7-1806-46bf-a503-25e9ff2df887",
   "metadata": {
    "tags": []
   },
   "outputs": [],
   "source": [
    "aggregator = scoring.BootstrapAggregator()"
   ]
  },
  {
   "cell_type": "code",
   "execution_count": 25,
   "id": "8fe58a2a-02f4-449b-baf5-f8af0f52c438",
   "metadata": {
    "tags": []
   },
   "outputs": [],
   "source": [
    "scorer = rouge_scorer.RougeScorer(['rouge1', 'rouge2', 'rougeL'], use_stemmer=False)\n",
    "scores = scorer.score('The quick brown fox jumps over the lazy dog',\n",
    "                      'The quick brown dog jumps on the log.')\n",
    "aggregator.add_scores(scores)"
   ]
  },
  {
   "cell_type": "code",
   "execution_count": null,
   "id": "c1d3410b-c423-422f-9c69-ece168253f71",
   "metadata": {},
   "outputs": [],
   "source": [
    "scorer = rouge_scorer.RougeScorer(['rouge1', 'rouge2', 'rougeL'], use_stemmer=False)\n",
    "scores = scorer.score('The quick brown fox jumps over the lazy dog',\n",
    "                      'The quick brown dog jumps on the log.')\n",
    "aggregator.add_scores(scores)"
   ]
  },
  {
   "cell_type": "code",
   "execution_count": 26,
   "id": "d600c083-9fac-4659-8580-024b18d04c1e",
   "metadata": {
    "tags": []
   },
   "outputs": [],
   "source": [
    "result = aggregator.aggregate()"
   ]
  },
  {
   "cell_type": "code",
   "execution_count": 27,
   "id": "74a26bb3-d652-4a92-a234-9c7ceaf223b2",
   "metadata": {
    "tags": []
   },
   "outputs": [
    {
     "data": {
      "text/plain": [
       "{'rouge1': AggregateScore(low=Score(precision=0.75, recall=0.6666666666666666, fmeasure=0.7058823529411765), mid=Score(precision=0.75, recall=0.6666666666666666, fmeasure=0.7058823529411765), high=Score(precision=0.75, recall=0.6666666666666666, fmeasure=0.7058823529411765)),\n",
       " 'rouge2': AggregateScore(low=Score(precision=0.2857142857142857, recall=0.25, fmeasure=0.26666666666666666), mid=Score(precision=0.2857142857142857, recall=0.25, fmeasure=0.26666666666666666), high=Score(precision=0.2857142857142857, recall=0.25, fmeasure=0.26666666666666666)),\n",
       " 'rougeL': AggregateScore(low=Score(precision=0.625, recall=0.5555555555555556, fmeasure=0.5882352941176471), mid=Score(precision=0.625, recall=0.5555555555555556, fmeasure=0.5882352941176471), high=Score(precision=0.625, recall=0.5555555555555556, fmeasure=0.5882352941176471))}"
      ]
     },
     "execution_count": 27,
     "metadata": {},
     "output_type": "execute_result"
    }
   ],
   "source": [
    "result"
   ]
  },
  {
   "cell_type": "code",
   "execution_count": null,
   "id": "35226877-e87b-49a8-a0d4-cf2fc1d0bdab",
   "metadata": {},
   "outputs": [],
   "source": []
  }
 ],
 "metadata": {
  "kernelspec": {
   "display_name": "Python [.conda-fap2_env]",
   "language": "python",
   "name": "conda-env-.conda-fap2_env-py"
  },
  "language_info": {
   "codemirror_mode": {
    "name": "ipython",
    "version": 3
   },
   "file_extension": ".py",
   "mimetype": "text/x-python",
   "name": "python",
   "nbconvert_exporter": "python",
   "pygments_lexer": "ipython3",
   "version": "3.9.16"
  }
 },
 "nbformat": 4,
 "nbformat_minor": 5
}
