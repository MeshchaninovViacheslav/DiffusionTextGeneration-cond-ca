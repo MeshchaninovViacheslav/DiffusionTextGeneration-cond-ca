{
 "cells": [
  {
   "cell_type": "code",
   "execution_count": null,
   "id": "e08bc2b8-e050-4cd7-b536-d3199948fe8d",
   "metadata": {
    "tags": []
   },
   "outputs": [],
   "source": [
    "%load_ext autoreload\n",
    "%autoreload 2\n",
    "\n",
    "import sys\n",
    "\n",
    "sys.path.append(\"/home/vmeshchaninov/DiffusionTextGeneration-cond-ca/\")"
   ]
  },
  {
   "cell_type": "code",
   "execution_count": null,
   "id": "69ff3d33-9db9-449b-9351-512ff3a9f792",
   "metadata": {
    "tags": []
   },
   "outputs": [],
   "source": [
    "import torch\n",
    "from transformers import BertLMHeadModel, BertTokenizerFast\n",
    "from torch.utils.data import DataLoader\n",
    "from torch.nn.functional import cross_entropy\n",
    "from tqdm import tqdm\n",
    "import random"
   ]
  },
  {
   "cell_type": "code",
   "execution_count": null,
   "id": "17bdfa62-47e8-45f4-899f-e79fcbcc9afe",
   "metadata": {
    "tags": []
   },
   "outputs": [],
   "source": [
    "from data.dataset import WikipediaDataset\n",
    "from estimation_utils.metrics import BloomMetricConditional, BloomMetric\n",
    "from utils.util import dict_to_cuda\n",
    "from estimation_utils.util import compute_metric"
   ]
  },
  {
   "cell_type": "code",
   "execution_count": null,
   "id": "18b1345a-3a37-45f8-b24b-d663e1ea9a21",
   "metadata": {
    "tags": []
   },
   "outputs": [],
   "source": [
    "tokenizer = BertTokenizerFast.from_pretrained(\"bert-base-uncased\")"
   ]
  },
  {
   "cell_type": "code",
   "execution_count": null,
   "id": "2b79befa-81a8-4eae-821b-e38cf3a2b26c",
   "metadata": {
    "tags": []
   },
   "outputs": [],
   "source": [
    "dataset = next(WikipediaDataset(\n",
    "    split=\"test\",\n",
    "    tokenizer_bert=tokenizer,\n",
    "    tokenizer_cond=tokenizer,\n",
    "    tokenizer_gen=tokenizer,\n",
    "    max_sequence_len=128,\n",
    "    pos_begin=0.33,\n",
    "    pos_end=0.67,\n",
    ").get_data())"
   ]
  },
  {
   "cell_type": "code",
   "execution_count": null,
   "id": "8a8b69da-a931-4f63-a1a5-82a5d65d62ec",
   "metadata": {
    "tags": []
   },
   "outputs": [],
   "source": [
    "batch_size = 2048\n",
    "loader = DataLoader(\n",
    "            dataset,\n",
    "            batch_size=batch_size,\n",
    "            num_workers=1,\n",
    "            shuffle=False,\n",
    "        )\n",
    "loader = iter(loader)"
   ]
  },
  {
   "cell_type": "markdown",
   "id": "9c1211d8-185c-4dac-a9af-73f98e9ec18a",
   "metadata": {
    "jp-MarkdownHeadingCollapsed": true,
    "tags": []
   },
   "source": [
    "# Условная генерация с помощью GPT-2"
   ]
  },
  {
   "cell_type": "code",
   "execution_count": 56,
   "id": "f1a6b5a4-dc8a-480f-82a4-44b5befc8383",
   "metadata": {
    "tags": []
   },
   "outputs": [],
   "source": [
    "X = next(loader)\n",
    "\n",
    "text_cond = tokenizer.batch_decode(\n",
    "    X[\"cond_ids\"], \n",
    "    skip_special_tokens=True,\n",
    ")\n",
    "\n",
    "text_gen = tokenizer.batch_decode(\n",
    "    X[\"input_ids\"], \n",
    "    skip_special_tokens=True,\n",
    ")"
   ]
  },
  {
   "cell_type": "code",
   "execution_count": 57,
   "id": "96682ac4-12ce-42d9-ba0e-0fa8a1d1aaf4",
   "metadata": {
    "tags": []
   },
   "outputs": [
    {
     "data": {
      "text/plain": [
       "tensor(53.0498)"
      ]
     },
     "execution_count": 57,
     "metadata": {},
     "output_type": "execute_result"
    }
   ],
   "source": [
    "torch.mean(torch.sum(X[\"cond_mask\"], dim=1) * 1.)"
   ]
  },
  {
   "cell_type": "code",
   "execution_count": 58,
   "id": "d5231af0-8e24-4262-a94e-d089c5801918",
   "metadata": {
    "tags": []
   },
   "outputs": [
    {
     "data": {
      "text/plain": [
       "tensor(107.5869)"
      ]
     },
     "execution_count": 58,
     "metadata": {},
     "output_type": "execute_result"
    }
   ],
   "source": [
    "torch.mean((torch.sum(X[\"cond_mask\"], dim=1) + torch.sum(X[\"input_mask\"], dim=1)) * 1.)"
   ]
  },
  {
   "cell_type": "code",
   "execution_count": 9,
   "id": "8a0eac0f-8d30-4277-b1a0-1e293b9cfdc4",
   "metadata": {
    "tags": []
   },
   "outputs": [],
   "source": [
    "from transformers import pipeline"
   ]
  },
  {
   "cell_type": "code",
   "execution_count": 11,
   "id": "b0f27da9-9c3d-45c2-b4d8-1f2b91fcb304",
   "metadata": {
    "tags": []
   },
   "outputs": [],
   "source": [
    "# gpt2 == gpt2-small\n",
    "generator_gpt2 = pipeline('text-generation', model='gpt2', device=0)"
   ]
  },
  {
   "cell_type": "markdown",
   "id": "f96a8c24-ce6f-4a14-887f-315eda9b4999",
   "metadata": {},
   "source": [
    "## Условная метрика текста: BloomMetricConditional"
   ]
  },
  {
   "cell_type": "code",
   "execution_count": 12,
   "id": "6ce7631a-3e7b-400b-8aa6-3159154f44f1",
   "metadata": {
    "tags": []
   },
   "outputs": [],
   "source": [
    "metric_bloom_fn = BloomMetricConditional(device=\"cuda:0\")"
   ]
  },
  {
   "cell_type": "code",
   "execution_count": 80,
   "id": "216e78c0-0ecb-4e3e-a4f1-2bd2680e0c98",
   "metadata": {
    "tags": []
   },
   "outputs": [
    {
     "name": "stdout",
     "output_type": "stream",
     "text": [
      "CPU times: user 18min 17s, sys: 18 s, total: 18min 35s\n",
      "Wall time: 18min 41s\n"
     ]
    }
   ],
   "source": [
    "%%time\n",
    "\n",
    "texts_gpt = generator_gpt2(text_cond, max_new_tokens=64, num_return_sequences=1, return_full_text=False, pad_token_id=50256)"
   ]
  },
  {
   "cell_type": "code",
   "execution_count": 81,
   "id": "eabdbcfd-ee6c-44ad-b3ef-1fceb5c7f330",
   "metadata": {
    "tags": []
   },
   "outputs": [
    {
     "name": "stderr",
     "output_type": "stream",
     "text": [
      "100%|██████████| 100/100 [00:13<00:00,  7.41it/s]\n"
     ]
    },
    {
     "data": {
      "text/plain": [
       "(3.606053533394779, 2.86474609375)"
      ]
     },
     "execution_count": 81,
     "metadata": {},
     "output_type": "execute_result"
    }
   ],
   "source": [
    "sum_metric, num_tokens = 0., 0.\n",
    "\n",
    "for ind in tqdm(range(len(text_cond))[:100]):\n",
    "    output = metric_bloom_fn(text_cond=text_cond[ind], text_gen=texts_gpt[ind][0][\"generated_text\"], reduce=\"sum\")\n",
    "    if output[1] != 0:\n",
    "        sum_metric += output[0]\n",
    "        num_tokens += output[1]\n",
    "\n",
    "sum_metric / num_tokens, num_tokens / batch_size"
   ]
  },
  {
   "cell_type": "markdown",
   "id": "56503011-9bb4-420f-8729-b8aecd02d988",
   "metadata": {},
   "source": [
    "## Безусловная метрика текста: BloomMetric"
   ]
  },
  {
   "cell_type": "code",
   "execution_count": 15,
   "id": "4b0fe2e5-3e51-4d9f-8506-5f4e2b00a6c9",
   "metadata": {
    "tags": []
   },
   "outputs": [],
   "source": [
    "metric_bloom_uncond_fn = BloomMetric(device=\"cuda:0\")"
   ]
  },
  {
   "cell_type": "code",
   "execution_count": 71,
   "id": "7b98c5f6-8608-4bc6-a347-2c9e08501d54",
   "metadata": {
    "tags": []
   },
   "outputs": [
    {
     "name": "stdout",
     "output_type": "stream",
     "text": [
      "CPU times: user 18min 12s, sys: 18 s, total: 18min 30s\n",
      "Wall time: 18min 32s\n"
     ]
    }
   ],
   "source": [
    "%%time\n",
    "\n",
    "texts_gpt = generator_gpt2(text_cond, max_new_tokens=64, num_return_sequences=1, return_full_text=True, pad_token_id=50256)"
   ]
  },
  {
   "cell_type": "code",
   "execution_count": 72,
   "id": "98abb5d7-c144-43ac-ae7c-fe8291a7fb59",
   "metadata": {
    "tags": []
   },
   "outputs": [
    {
     "name": "stderr",
     "output_type": "stream",
     "text": [
      "100%|██████████| 2048/2048 [04:10<00:00,  8.18it/s]\n"
     ]
    },
    {
     "data": {
      "text/plain": [
       "(3.6600863342248546, 112.189453125)"
      ]
     },
     "execution_count": 72,
     "metadata": {},
     "output_type": "execute_result"
    }
   ],
   "source": [
    "sum_metric, num_tokens = 0., 0.\n",
    "\n",
    "for ind in tqdm(range(len(text_cond))):\n",
    "    output = metric_bloom_uncond_fn(text=texts_gpt[ind][0][\"generated_text\"], reduce=\"sum\")\n",
    "    sum_metric += output[0]\n",
    "    num_tokens += output[1]\n",
    "\n",
    "sum_metric / num_tokens, num_tokens / batch_size"
   ]
  },
  {
   "cell_type": "markdown",
   "id": "62c05dbe-8d4b-4f8a-b867-25349c4280dc",
   "metadata": {},
   "source": [
    "## Метрики батча"
   ]
  },
  {
   "cell_type": "code",
   "execution_count": 59,
   "id": "ddae5509-972a-4055-8a5a-7c8b7612f556",
   "metadata": {
    "tags": []
   },
   "outputs": [
    {
     "name": "stderr",
     "output_type": "stream",
     "text": [
      "100%|██████████| 2048/2048 [04:05<00:00,  8.36it/s]\n"
     ]
    },
    {
     "data": {
      "text/plain": [
       "(3.4296206837482495, 107.177734375)"
      ]
     },
     "execution_count": 59,
     "metadata": {},
     "output_type": "execute_result"
    }
   ],
   "source": [
    "sum_metric, num_tokens = 0., 0.\n",
    "texts = [f\"{text_cond[i]} {text_gen[i]}\" for i in range(batch_size)]\n",
    "\n",
    "for ind in tqdm(range(len(text_cond))):\n",
    "    output = metric_bloom_uncond_fn(text=texts[ind], reduce=\"sum\")\n",
    "    sum_metric += output[0]\n",
    "    num_tokens += output[1]\n",
    "\n",
    "sum_metric / num_tokens, num_tokens / batch_size"
   ]
  },
  {
   "cell_type": "code",
   "execution_count": 60,
   "id": "6e743daf-f15b-480b-bba8-2918fa3c93c1",
   "metadata": {
    "tags": []
   },
   "outputs": [
    {
     "name": "stderr",
     "output_type": "stream",
     "text": [
      "100%|██████████| 2048/2048 [04:05<00:00,  8.33it/s]\n"
     ]
    },
    {
     "data": {
      "text/plain": [
       "(3.2399693615122613, 54.89990234375)"
      ]
     },
     "execution_count": 60,
     "metadata": {},
     "output_type": "execute_result"
    }
   ],
   "source": [
    "sum_metric, num_tokens = 0., 0.\n",
    "\n",
    "for ind in tqdm(range(len(text_cond))):\n",
    "    output = metric_bloom_fn(text_cond=text_cond[ind], text_gen=text_gen[ind], reduce=\"sum\")\n",
    "    sum_metric += output[0]\n",
    "    num_tokens += output[1]\n",
    "\n",
    "sum_metric / num_tokens, num_tokens / batch_size"
   ]
  },
  {
   "cell_type": "markdown",
   "id": "596284ec-b21c-47ff-8e78-1138fe67b33a",
   "metadata": {
    "tags": []
   },
   "source": [
    "# Метрики реального текста"
   ]
  },
  {
   "cell_type": "code",
   "execution_count": 7,
   "id": "5d8553ee-1c92-42de-9957-b82ed4d30418",
   "metadata": {
    "tags": []
   },
   "outputs": [
    {
     "data": {
      "application/vnd.jupyter.widget-view+json": {
       "model_id": "9a0d08918f1f493d84afe5307e03e5d8",
       "version_major": 2,
       "version_minor": 0
      },
      "text/plain": [
       "Loading checkpoint shards:   0%|          | 0/2 [00:00<?, ?it/s]"
      ]
     },
     "metadata": {},
     "output_type": "display_data"
    }
   ],
   "source": [
    "metric_bloom_fn = BloomMetric(device=\"cuda:0\")"
   ]
  },
  {
   "cell_type": "code",
   "execution_count": 8,
   "id": "b9203354-e1e7-413a-b1a7-39b5d8a06d68",
   "metadata": {
    "tags": []
   },
   "outputs": [],
   "source": [
    "X = next(loader)"
   ]
  },
  {
   "cell_type": "code",
   "execution_count": 9,
   "id": "0010023f-e85f-4fbd-b41e-8b6db9928812",
   "metadata": {
    "tags": []
   },
   "outputs": [],
   "source": [
    "text_cond = tokenizer.batch_decode(\n",
    "    X[\"cond_ids\"], \n",
    "    skip_special_tokens=True\n",
    ")"
   ]
  },
  {
   "cell_type": "code",
   "execution_count": 10,
   "id": "b8f12453-d293-46a1-a97e-9e569822dd67",
   "metadata": {
    "tags": []
   },
   "outputs": [],
   "source": [
    "text_gen = tokenizer.batch_decode(\n",
    "    X[\"input_ids\"], \n",
    "    skip_special_tokens=True\n",
    ")"
   ]
  },
  {
   "cell_type": "markdown",
   "id": "952cc5a0-27c4-4e29-b23b-cbc49badda10",
   "metadata": {
    "jp-MarkdownHeadingCollapsed": true,
    "tags": []
   },
   "source": [
    "### Правильно расположенный текст"
   ]
  },
  {
   "cell_type": "code",
   "execution_count": 41,
   "id": "6371ae67-70d9-4bb1-9963-6228b425f93a",
   "metadata": {
    "tags": []
   },
   "outputs": [],
   "source": [
    "text = [f\"{text_cond[i]} {text_gen[i]}\" for i in range(batch_size)]"
   ]
  },
  {
   "cell_type": "code",
   "execution_count": 42,
   "id": "872779f7-0163-4709-a794-dffc485a4b95",
   "metadata": {
    "tags": []
   },
   "outputs": [
    {
     "name": "stderr",
     "output_type": "stream",
     "text": [
      "metric: bigscience/bloom-7b1, 3.4458: 100%|██████████| 1024/1024 [02:03<00:00,  8.30it/s]\n"
     ]
    },
    {
     "data": {
      "text/plain": [
       "3.4458400700800738"
      ]
     },
     "execution_count": 42,
     "metadata": {},
     "output_type": "execute_result"
    }
   ],
   "source": [
    "compute_metric(metric_bloom_uncond_fn, text)"
   ]
  },
  {
   "cell_type": "markdown",
   "id": "006a859b-0a83-4cca-8533-cb7ac048892f",
   "metadata": {
    "jp-MarkdownHeadingCollapsed": true,
    "tags": []
   },
   "source": [
    "### Условие и генерацию поменяли местами "
   ]
  },
  {
   "cell_type": "code",
   "execution_count": 61,
   "id": "6f402bee-4940-40f9-bb78-b88b077c82f6",
   "metadata": {
    "tags": []
   },
   "outputs": [],
   "source": [
    "text = [f\"{text_gen[i]} {text_cond[i]}\" for i in range(batch_size)]"
   ]
  },
  {
   "cell_type": "code",
   "execution_count": 62,
   "id": "52a78460-da55-45d0-9745-643ab960c760",
   "metadata": {
    "tags": []
   },
   "outputs": [
    {
     "name": "stderr",
     "output_type": "stream",
     "text": [
      "metric: bigscience/bloom-7b1, 3.5764: 100%|██████████| 2048/2048 [04:07<00:00,  8.28it/s]\n"
     ]
    },
    {
     "data": {
      "text/plain": [
       "3.5763897249226058"
      ]
     },
     "execution_count": 62,
     "metadata": {},
     "output_type": "execute_result"
    }
   ],
   "source": [
    "compute_metric(metric_bloom_uncond_fn, text)"
   ]
  },
  {
   "cell_type": "markdown",
   "id": "d342c2db-e028-4c77-9844-8e33c4961a83",
   "metadata": {
    "jp-MarkdownHeadingCollapsed": true,
    "tags": []
   },
   "source": [
    "### Перемешенные части"
   ]
  },
  {
   "cell_type": "code",
   "execution_count": 48,
   "id": "9807ff58-2639-4bb8-a639-846aaab81e50",
   "metadata": {
    "tags": []
   },
   "outputs": [],
   "source": [
    "import random"
   ]
  },
  {
   "cell_type": "code",
   "execution_count": 64,
   "id": "af01fb2c-8980-43af-8722-df46a96d9e8a",
   "metadata": {
    "tags": []
   },
   "outputs": [],
   "source": [
    "random.shuffle(text_cond)"
   ]
  },
  {
   "cell_type": "code",
   "execution_count": 65,
   "id": "4a419ac3-e402-4b10-9831-d0c41d400579",
   "metadata": {
    "tags": []
   },
   "outputs": [],
   "source": [
    "text = [f\"{text_gen[i]} {text_cond[i]}\" for i in range(batch_size)]"
   ]
  },
  {
   "cell_type": "code",
   "execution_count": 66,
   "id": "ee525abc-3f27-4b7e-9cf1-11c89123065d",
   "metadata": {
    "tags": []
   },
   "outputs": [
    {
     "name": "stderr",
     "output_type": "stream",
     "text": [
      "metric: bigscience/bloom-7b1, 3.7576: 100%|██████████| 2048/2048 [04:05<00:00,  8.33it/s]\n"
     ]
    },
    {
     "data": {
      "text/plain": [
       "3.757617524947899"
      ]
     },
     "execution_count": 66,
     "metadata": {},
     "output_type": "execute_result"
    }
   ],
   "source": [
    "compute_metric(metric_bloom_uncond_fn, text)"
   ]
  },
  {
   "cell_type": "code",
   "execution_count": null,
   "id": "c9220289-0818-41c2-9701-1a27de607cb6",
   "metadata": {},
   "outputs": [],
   "source": []
  },
  {
   "cell_type": "code",
   "execution_count": 67,
   "id": "c7e5cf5a-b9c6-406c-94b8-083e441a2d0a",
   "metadata": {
    "tags": []
   },
   "outputs": [],
   "source": [
    "text = [f\"{text_cond[i]} {text_gen[i]}\" for i in range(batch_size)]"
   ]
  },
  {
   "cell_type": "code",
   "execution_count": 68,
   "id": "da7fa741-0b19-4bda-bd46-1b7a3744f267",
   "metadata": {
    "tags": []
   },
   "outputs": [
    {
     "name": "stderr",
     "output_type": "stream",
     "text": [
      "metric: bigscience/bloom-7b1, 3.8073: 100%|██████████| 2048/2048 [04:04<00:00,  8.36it/s]\n"
     ]
    },
    {
     "data": {
      "text/plain": [
       "3.807272912530623"
      ]
     },
     "execution_count": 68,
     "metadata": {},
     "output_type": "execute_result"
    }
   ],
   "source": [
    "compute_metric(metric_bloom_uncond_fn, text)"
   ]
  },
  {
   "cell_type": "markdown",
   "id": "306c47af-eee2-4236-9d8d-ff8b57e759da",
   "metadata": {
    "jp-MarkdownHeadingCollapsed": true,
    "tags": []
   },
   "source": [
    "### Bloom loss только на условной части"
   ]
  },
  {
   "cell_type": "code",
   "execution_count": 8,
   "id": "f13b1f7b-55d0-49ef-b6a5-55671ac56302",
   "metadata": {
    "tags": []
   },
   "outputs": [],
   "source": [
    "from transformers import BloomTokenizerFast, BloomForCausalLM"
   ]
  },
  {
   "cell_type": "code",
   "execution_count": 10,
   "id": "509deb42-5a71-46f8-a48d-001200f8e7d2",
   "metadata": {
    "tags": []
   },
   "outputs": [],
   "source": [
    "name = \"bigscience/bloom-7b1\""
   ]
  },
  {
   "cell_type": "code",
   "execution_count": 9,
   "id": "1d2ace90-e06c-4eef-9f64-344db0171155",
   "metadata": {
    "tags": []
   },
   "outputs": [],
   "source": [
    "bloom = BloomForCausalLM.from_pretrained(name).eval().to(\"cuda:0\")"
   ]
  },
  {
   "cell_type": "code",
   "execution_count": 11,
   "id": "b0ee97f8-5959-40d4-b4fd-1c906d811ef9",
   "metadata": {
    "tags": []
   },
   "outputs": [],
   "source": [
    "tokenizer_bloom = BloomTokenizerFast.from_pretrained(name)"
   ]
  },
  {
   "cell_type": "markdown",
   "id": "db8f2aab-a105-4a4e-b063-2629c7ef7c25",
   "metadata": {
    "jp-MarkdownHeadingCollapsed": true,
    "tags": []
   },
   "source": [
    "### Анализ выходов токенизатора"
   ]
  },
  {
   "cell_type": "code",
   "execution_count": 29,
   "id": "5c7198d0-c42c-4121-a30e-5ced691b488a",
   "metadata": {
    "tags": []
   },
   "outputs": [],
   "source": [
    "i = 0\n",
    "inputs_gen = tokenizer_bloom(text_gen[i], return_tensors=\"pt\")\n",
    "inputs_cond = tokenizer_bloom(f\" {text_cond[i]}\", return_tensors=\"pt\")"
   ]
  },
  {
   "cell_type": "code",
   "execution_count": 30,
   "id": "9dae3e74-26c0-414b-92ec-9cf615666d7c",
   "metadata": {
    "tags": []
   },
   "outputs": [
    {
     "data": {
      "text/plain": [
       "{'input_ids': tensor([[   368,    337,  19645,   1620,   3466,   7086,    361, 249849,   1002,\n",
       "            267,    427,  88170,   5550,     15,    368,    427,  88170,  22470,\n",
       "             15,    919,    368,   2972,   6209,  11507,     17,    368,    643,\n",
       "         210673,  10393,   1002,   3776, 123871, 243713,  92564,  65615,  42548,\n",
       "          28649,   3262,    368,  51950,  26109,    529,  21671,   1485, 123871]]), 'attention_mask': tensor([[1, 1, 1, 1, 1, 1, 1, 1, 1, 1, 1, 1, 1, 1, 1, 1, 1, 1, 1, 1, 1, 1, 1, 1,\n",
       "         1, 1, 1, 1, 1, 1, 1, 1, 1, 1, 1, 1, 1, 1, 1, 1, 1, 1, 1, 1, 1]])}"
      ]
     },
     "execution_count": 30,
     "metadata": {},
     "output_type": "execute_result"
    }
   ],
   "source": [
    "inputs_cond"
   ]
  },
  {
   "cell_type": "code",
   "execution_count": 31,
   "id": "3afd5e7e-c05c-4264-88ac-505d4acb57fa",
   "metadata": {
    "tags": []
   },
   "outputs": [
    {
     "data": {
      "text/plain": [
       "{'input_ids': tensor([[  1025,  62667, 177949,    361,  12156,     17,    368, 123871,  20038,\n",
       "         134159,   3320,    368,  12457,    326,  15886,  62667,  27999,   2233,\n",
       "           8603,    427,   2592,   4604,   1485,   3776,  21260,   3727,    294,\n",
       "           3658,     68,  62796,  39173,    375,   5840,  39173,    707,   1163,\n",
       "          54113,    361,  47720,     15,  14779,    368,  38026,    461,    368,\n",
       "            664,    647,  61189,  97200,    319,     17,    352,   6580,  33304,\n",
       "         107121,  44171, 163602,    361,  39858,     15,  10494,    368,   5343,\n",
       "          77719,    393,     17, 236871,  11347,     17,    368,  60478, 200058,\n",
       "          25224,    427,    368,   1849,   2277,    440,    361,  33515,     15,\n",
       "           3808,   3968,   5559,    361,    368,  25694,  33032,  49482,  58970,\n",
       "          56238,     15,    613]]), 'attention_mask': tensor([[1, 1, 1, 1, 1, 1, 1, 1, 1, 1, 1, 1, 1, 1, 1, 1, 1, 1, 1, 1, 1, 1, 1, 1,\n",
       "         1, 1, 1, 1, 1, 1, 1, 1, 1, 1, 1, 1, 1, 1, 1, 1, 1, 1, 1, 1, 1, 1, 1, 1,\n",
       "         1, 1, 1, 1, 1, 1, 1, 1, 1, 1, 1, 1, 1, 1, 1, 1, 1, 1, 1, 1, 1, 1, 1, 1,\n",
       "         1, 1, 1, 1, 1, 1, 1, 1, 1, 1, 1, 1, 1, 1, 1, 1, 1, 1, 1, 1, 1]])}"
      ]
     },
     "execution_count": 31,
     "metadata": {},
     "output_type": "execute_result"
    }
   ],
   "source": [
    "inputs_gen"
   ]
  },
  {
   "cell_type": "code",
   "execution_count": 32,
   "id": "94c871da-999e-44a0-9920-31fdd669b601",
   "metadata": {
    "tags": []
   },
   "outputs": [],
   "source": [
    "inputs = tokenizer_bloom(f\" {text_cond[i]} {text_gen[i]}\", return_tensors=\"pt\")"
   ]
  },
  {
   "cell_type": "code",
   "execution_count": 33,
   "id": "6dae62b3-8c33-489d-85d9-72d73a6e05e7",
   "metadata": {
    "tags": []
   },
   "outputs": [
    {
     "data": {
      "text/plain": [
       "{'input_ids': tensor([[   368,    337,  19645,   1620,   3466,   7086,    361, 249849,   1002,\n",
       "            267,    427,  88170,   5550,     15,    368,    427,  88170,  22470,\n",
       "             15,    919,    368,   2972,   6209,  11507,     17,    368,    643,\n",
       "         210673,  10393,   1002,   3776, 123871, 243713,  92564,  65615,  42548,\n",
       "          28649,   3262,    368,  51950,  26109,    529,  21671,   1485, 123871,\n",
       "            427,  62667, 177949,    361,  12156,     17,    368, 123871,  20038,\n",
       "         134159,   3320,    368,  12457,    326,  15886,  62667,  27999,   2233,\n",
       "           8603,    427,   2592,   4604,   1485,   3776,  21260,   3727,    294,\n",
       "           3658,     68,  62796,  39173,    375,   5840,  39173,    707,   1163,\n",
       "          54113,    361,  47720,     15,  14779,    368,  38026,    461,    368,\n",
       "            664,    647,  61189,  97200,    319,     17,    352,   6580,  33304,\n",
       "         107121,  44171, 163602,    361,  39858,     15,  10494,    368,   5343,\n",
       "          77719,    393,     17, 236871,  11347,     17,    368,  60478, 200058,\n",
       "          25224,    427,    368,   1849,   2277,    440,    361,  33515,     15,\n",
       "           3808,   3968,   5559,    361,    368,  25694,  33032,  49482,  58970,\n",
       "          56238,     15,    613]]), 'attention_mask': tensor([[1, 1, 1, 1, 1, 1, 1, 1, 1, 1, 1, 1, 1, 1, 1, 1, 1, 1, 1, 1, 1, 1, 1, 1,\n",
       "         1, 1, 1, 1, 1, 1, 1, 1, 1, 1, 1, 1, 1, 1, 1, 1, 1, 1, 1, 1, 1, 1, 1, 1,\n",
       "         1, 1, 1, 1, 1, 1, 1, 1, 1, 1, 1, 1, 1, 1, 1, 1, 1, 1, 1, 1, 1, 1, 1, 1,\n",
       "         1, 1, 1, 1, 1, 1, 1, 1, 1, 1, 1, 1, 1, 1, 1, 1, 1, 1, 1, 1, 1, 1, 1, 1,\n",
       "         1, 1, 1, 1, 1, 1, 1, 1, 1, 1, 1, 1, 1, 1, 1, 1, 1, 1, 1, 1, 1, 1, 1, 1,\n",
       "         1, 1, 1, 1, 1, 1, 1, 1, 1, 1, 1, 1, 1, 1, 1, 1, 1, 1]])}"
      ]
     },
     "execution_count": 33,
     "metadata": {},
     "output_type": "execute_result"
    }
   ],
   "source": [
    "inputs"
   ]
  },
  {
   "cell_type": "code",
   "execution_count": 34,
   "id": "639ecf78-9d0d-4d4b-a79a-11c052c9f8ee",
   "metadata": {
    "tags": []
   },
   "outputs": [
    {
     "data": {
      "text/plain": [
       "' to'"
      ]
     },
     "execution_count": 34,
     "metadata": {},
     "output_type": "execute_result"
    }
   ],
   "source": [
    "tokenizer_bloom.decode(427)"
   ]
  },
  {
   "cell_type": "code",
   "execution_count": 36,
   "id": "f54ae8cb-0ae0-4b29-885f-bb379def6cd0",
   "metadata": {
    "tags": []
   },
   "outputs": [
    {
     "data": {
      "text/plain": [
       "tensor([   427,  62667, 177949,    361,  12156,     17,    368, 123871,  20038,\n",
       "        134159,   3320,    368,  12457,    326,  15886,  62667,  27999,   2233,\n",
       "          8603,    427,   2592,   4604,   1485,   3776,  21260,   3727,    294,\n",
       "          3658,     68,  62796,  39173,    375,   5840,  39173,    707,   1163,\n",
       "         54113,    361,  47720,     15,  14779,    368,  38026,    461,    368,\n",
       "           664,    647,  61189,  97200,    319,     17,    352,   6580,  33304,\n",
       "        107121,  44171, 163602,    361,  39858,     15,  10494,    368,   5343,\n",
       "         77719,    393,     17, 236871,  11347,     17,    368,  60478, 200058,\n",
       "         25224,    427,    368,   1849,   2277,    440,    361,  33515,     15,\n",
       "          3808,   3968,   5559,    361,    368,  25694,  33032,  49482,  58970,\n",
       "         56238,     15,    613])"
      ]
     },
     "execution_count": 36,
     "metadata": {},
     "output_type": "execute_result"
    }
   ],
   "source": [
    "inputs[\"input_ids\"][0, - torch.sum(inputs_gen[\"attention_mask\"]):]"
   ]
  },
  {
   "cell_type": "code",
   "execution_count": 26,
   "id": "0c90d5e2-0a89-4930-a716-347756352bb5",
   "metadata": {
    "tags": []
   },
   "outputs": [
    {
     "data": {
      "text/plain": [
       "tensor(45)"
      ]
     },
     "execution_count": 26,
     "metadata": {},
     "output_type": "execute_result"
    }
   ],
   "source": [
    "torch.sum(inputs[\"attention_mask\"]) "
   ]
  },
  {
   "cell_type": "markdown",
   "id": "ff8711dd-9165-444c-8d79-64f1a9017c8b",
   "metadata": {
    "jp-MarkdownHeadingCollapsed": true,
    "tags": []
   },
   "source": [
    "### Измерение метрики"
   ]
  },
  {
   "cell_type": "code",
   "execution_count": 39,
   "id": "64afcef6-1c07-45ad-b92f-2b1d61d1887a",
   "metadata": {
    "tags": []
   },
   "outputs": [
    {
     "name": "stderr",
     "output_type": "stream",
     "text": [
      "100%|██████████| 1024/1024 [01:41<00:00, 10.11it/s]\n"
     ]
    },
    {
     "data": {
      "text/plain": [
       "tensor(3.4119, device='cuda:0')"
      ]
     },
     "execution_count": 39,
     "metadata": {},
     "output_type": "execute_result"
    }
   ],
   "source": [
    "num = 0\n",
    "loss = 0\n",
    "\n",
    "with torch.no_grad():\n",
    "    for i in tqdm(range(batch_size)):\n",
    "        # the first word is necessary for tokens to start with an unnecessary word, because metric doeesn't count it\n",
    "        inputs = tokenizer_bloom(f\" {text_cond[i]} {text_gen[i]}\", return_tensors=\"pt\")\n",
    "        inputs_gen = tokenizer_bloom(f\"{text_gen[i]}\", return_tensors=\"pt\")\n",
    "\n",
    "        inputs = dict_to_cuda(inputs)\n",
    "        outputs = bloom(**inputs, labels=inputs[\"input_ids\"])\n",
    "\n",
    "        losses = cross_entropy(\n",
    "                input=outputs.logits.reshape(-1, outputs.logits.shape[-1])[:-1],\n",
    "                target=inputs[\"input_ids\"].reshape(-1)[1:],\n",
    "                reduce=False,\n",
    "            )\n",
    "        losses = losses[torch.sum(inputs_cond[\"attention_mask\"]).item() - 1:]\n",
    "        loss += losses.sum()\n",
    "        num += losses.shape[0]\n",
    "\n",
    "loss / num"
   ]
  },
  {
   "cell_type": "code",
   "execution_count": 109,
   "id": "9ae0e6c9-682f-4b59-b98c-3156028cf30b",
   "metadata": {
    "tags": []
   },
   "outputs": [],
   "source": [
    "inputs_gen = tokenizer_bloom(text_gen[0], return_tensors=\"pt\")\n",
    "inputs_cond = tokenizer_bloom(text_cond[0], return_tensors=\"pt\")"
   ]
  },
  {
   "cell_type": "code",
   "execution_count": 110,
   "id": "b10328cd-337a-48ee-bb55-5a995543ae55",
   "metadata": {
    "tags": []
   },
   "outputs": [],
   "source": [
    "inputs = {\n",
    "    \"input_ids\": torch.cat([inputs_cond[\"input_ids\"], inputs_gen[\"input_ids\"]], dim=-1),\n",
    "    \"attention_mask\": torch.cat([inputs_cond[\"attention_mask\"], inputs_gen[\"attention_mask\"]], dim=-1)\n",
    "}"
   ]
  },
  {
   "cell_type": "code",
   "execution_count": 111,
   "id": "f80dc38b-4f36-441a-8c94-08db297fe32c",
   "metadata": {
    "tags": []
   },
   "outputs": [],
   "source": [
    "inputs = dict_to_cuda(inputs)"
   ]
  },
  {
   "cell_type": "code",
   "execution_count": 112,
   "id": "c3434857-a684-4dea-9b53-0a0023a8711d",
   "metadata": {
    "tags": []
   },
   "outputs": [],
   "source": [
    "outputs = bloom(**inputs, labels=inputs[\"input_ids\"])"
   ]
  },
  {
   "cell_type": "code",
   "execution_count": 114,
   "id": "2c3e456a-0167-42be-a344-cb4887fe4312",
   "metadata": {
    "tags": []
   },
   "outputs": [],
   "source": [
    "losses = cross_entropy(\n",
    "            input=outputs.logits.reshape(-1, outputs.logits.shape[-1])[:-1],\n",
    "            target=inputs[\"input_ids\"].reshape(-1)[1:],\n",
    "            reduce=False,\n",
    "        )"
   ]
  },
  {
   "cell_type": "code",
   "execution_count": 127,
   "id": "8927d15e-d126-468b-b2f7-418cfdbf536b",
   "metadata": {
    "tags": []
   },
   "outputs": [
    {
     "data": {
      "text/plain": [
       "tensor(4.3345, device='cuda:0', grad_fn=<MeanBackward0>)"
      ]
     },
     "execution_count": 127,
     "metadata": {},
     "output_type": "execute_result"
    }
   ],
   "source": [
    "losses = losses[torch.sum(inputs_cond[\"attention_mask\"]).item() - 1:]"
   ]
  },
  {
   "cell_type": "markdown",
   "id": "0da8ef49-8390-4a49-8b24-f44f5084cdb8",
   "metadata": {},
   "source": [
    "## Метрика Roberta"
   ]
  },
  {
   "cell_type": "code",
   "execution_count": 14,
   "id": "eedd49cd-d4cc-4297-8f9a-b95beab767e7",
   "metadata": {},
   "outputs": [],
   "source": [
    "from estimation_utils.metrics import RobertaMetric"
   ]
  },
  {
   "cell_type": "code",
   "execution_count": 15,
   "id": "d612b3a4-6005-495c-a14a-5b02a5a184fa",
   "metadata": {
    "tags": []
   },
   "outputs": [
    {
     "name": "stderr",
     "output_type": "stream",
     "text": [
      "Some weights of the model checkpoint at textattack/roberta-base-CoLA were not used when initializing RobertaForSequenceClassification: ['roberta.pooler.dense.bias', 'roberta.pooler.dense.weight']\n",
      "- This IS expected if you are initializing RobertaForSequenceClassification from the checkpoint of a model trained on another task or with another architecture (e.g. initializing a BertForSequenceClassification model from a BertForPreTraining model).\n",
      "- This IS NOT expected if you are initializing RobertaForSequenceClassification from the checkpoint of a model that you expect to be exactly identical (initializing a BertForSequenceClassification model from a BertForSequenceClassification model).\n"
     ]
    }
   ],
   "source": [
    "roberta = RobertaMetric(device=\"cuda:0\")"
   ]
  },
  {
   "cell_type": "code",
   "execution_count": null,
   "id": "fa5d44bc-b773-478a-94ff-6f389bd30e43",
   "metadata": {
    "tags": []
   },
   "outputs": [],
   "source": [
    "texts = [f\"{text_cond[i]} {text_gen[i]}\" for i in range(batch_size)]\n",
    "roberta(texts=texts)"
   ]
  },
  {
   "cell_type": "code",
   "execution_count": 60,
   "id": "2e59d2f8-876d-477e-a460-cae0b7e15b24",
   "metadata": {
    "tags": []
   },
   "outputs": [
    {
     "data": {
      "text/plain": [
       "0.39841729402542114"
      ]
     },
     "execution_count": 60,
     "metadata": {},
     "output_type": "execute_result"
    }
   ],
   "source": [
    "texts = [f\"{text_gen[i]} {text_cond[i]}\" for i in range(batch_size)]\n",
    "roberta(texts=texts)"
   ]
  },
  {
   "cell_type": "code",
   "execution_count": 61,
   "id": "afccb00f-e3dc-4459-bdcd-bcde80176b3e",
   "metadata": {
    "tags": []
   },
   "outputs": [
    {
     "data": {
      "text/plain": [
       "0.3662017583847046"
      ]
     },
     "execution_count": 61,
     "metadata": {},
     "output_type": "execute_result"
    }
   ],
   "source": [
    "random.shuffle(text_cond)\n",
    "texts = [f\"{text_gen[i]} {text_cond[i]}\" for i in range(batch_size)]\n",
    "roberta(texts=texts)"
   ]
  },
  {
   "cell_type": "code",
   "execution_count": 62,
   "id": "3127b364-e2e8-4513-be7f-4ea4787dff52",
   "metadata": {
    "tags": []
   },
   "outputs": [
    {
     "data": {
      "text/plain": [
       "0.4591570198535919"
      ]
     },
     "execution_count": 62,
     "metadata": {},
     "output_type": "execute_result"
    }
   ],
   "source": [
    "roberta(texts=text_gen)"
   ]
  },
  {
   "cell_type": "code",
   "execution_count": 63,
   "id": "18c0d412-ad18-4642-83b6-4c37798e73c5",
   "metadata": {
    "tags": []
   },
   "outputs": [
    {
     "data": {
      "text/plain": [
       "0.5204423666000366"
      ]
     },
     "execution_count": 63,
     "metadata": {},
     "output_type": "execute_result"
    }
   ],
   "source": [
    "roberta(texts=text_cond)"
   ]
  },
  {
   "cell_type": "code",
   "execution_count": 89,
   "id": "7ef0214b-e936-4649-945d-d104685a3440",
   "metadata": {
    "tags": []
   },
   "outputs": [],
   "source": [
    "texts = [f\"{text_cond[i]} {text_gen[i]}\" for i in range(batch_size)]"
   ]
  },
  {
   "cell_type": "code",
   "execution_count": 90,
   "id": "5d816fef-1155-4a53-8590-ab99e4e9ebe8",
   "metadata": {
    "tags": []
   },
   "outputs": [
    {
     "data": {
      "text/plain": [
       "0.49922260642051697"
      ]
     },
     "execution_count": 90,
     "metadata": {},
     "output_type": "execute_result"
    }
   ],
   "source": [
    "roberta(texts=texts)"
   ]
  },
  {
   "cell_type": "code",
   "execution_count": 13,
   "id": "da34f9aa-3121-49f1-9c30-094b3ace3ce7",
   "metadata": {
    "tags": []
   },
   "outputs": [],
   "source": [
    "texts = [f\"{text_cond[i]} {text_gen[i]}\" for i in range(batch_size)]\n",
    "for i, text in enumerate(texts):\n",
    "    p = 0.1\n",
    "    text = text.split(\" \")\n",
    "    new_text = []\n",
    "    for word in text:\n",
    "        if random.random() < p:\n",
    "            new_text.append(\".\")\n",
    "        else:\n",
    "            new_text.append(word)\n",
    "            \n",
    "    texts[i] = \" \".join(new_text)"
   ]
  },
  {
   "cell_type": "code",
   "execution_count": null,
   "id": "5a0c83fe-f5fe-4ff8-afba-0f8706875180",
   "metadata": {
    "tags": []
   },
   "outputs": [],
   "source": [
    "compute_metric(metric_bloom_fn, texts=texts)"
   ]
  },
  {
   "cell_type": "code",
   "execution_count": 93,
   "id": "b11a5e8c-df0f-4a6d-8afc-75fcc11a1f57",
   "metadata": {
    "tags": []
   },
   "outputs": [
    {
     "data": {
      "text/plain": [
       "0.3128419816493988"
      ]
     },
     "execution_count": 93,
     "metadata": {},
     "output_type": "execute_result"
    }
   ],
   "source": [
    "roberta(texts=texts)"
   ]
  },
  {
   "cell_type": "code",
   "execution_count": null,
   "id": "bdd68bb6-5e39-48b8-8592-965ef64a609f",
   "metadata": {},
   "outputs": [],
   "source": []
  },
  {
   "cell_type": "code",
   "execution_count": 94,
   "id": "72f1b78f-8f0b-4c8c-b819-2d868d1edd74",
   "metadata": {
    "tags": []
   },
   "outputs": [],
   "source": [
    "texts = [f\"{text_cond[i]} {text_gen[i]}\" for i in range(batch_size)]\n",
    "for i, text in enumerate(texts):\n",
    "    p = 0.1\n",
    "    text = text.split(\" \")\n",
    "    new_text = []\n",
    "    for word in text:\n",
    "        if random.random() < p:\n",
    "            new_text.append(\" \")\n",
    "        else:\n",
    "            new_text.append(word)\n",
    "            \n",
    "    texts[i] = \" \".join(new_text)"
   ]
  },
  {
   "cell_type": "code",
   "execution_count": 95,
   "id": "efa616b8-0632-4283-ad27-438ccd90df26",
   "metadata": {
    "tags": []
   },
   "outputs": [
    {
     "data": {
      "text/plain": [
       "0.3207021951675415"
      ]
     },
     "execution_count": 95,
     "metadata": {},
     "output_type": "execute_result"
    }
   ],
   "source": [
    "roberta(texts=texts)"
   ]
  },
  {
   "cell_type": "code",
   "execution_count": null,
   "id": "a04d578a-489f-411f-bf62-c0109529684d",
   "metadata": {},
   "outputs": [],
   "source": []
  }
 ],
 "metadata": {
  "kernelspec": {
   "display_name": "Python [.conda-fap2_env]",
   "language": "python",
   "name": "conda-env-.conda-fap2_env-py"
  },
  "language_info": {
   "codemirror_mode": {
    "name": "ipython",
    "version": 3
   },
   "file_extension": ".py",
   "mimetype": "text/x-python",
   "name": "python",
   "nbconvert_exporter": "python",
   "pygments_lexer": "ipython3",
   "version": "3.9.16"
  }
 },
 "nbformat": 4,
 "nbformat_minor": 5
}
