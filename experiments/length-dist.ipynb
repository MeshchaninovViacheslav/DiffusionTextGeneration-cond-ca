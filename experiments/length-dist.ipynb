{
 "cells": [
  {
   "cell_type": "code",
   "execution_count": 1,
   "id": "078f7e95-a8a0-4464-abc9-c5ceb38f7257",
   "metadata": {
    "tags": []
   },
   "outputs": [],
   "source": [
    "%load_ext autoreload\n",
    "%autoreload 2"
   ]
  },
  {
   "cell_type": "code",
   "execution_count": 2,
   "id": "0c3d8a25-7e7d-4568-9e9b-36ad46093521",
   "metadata": {
    "tags": []
   },
   "outputs": [],
   "source": [
    "import sys\n",
    "\n",
    "sys.path.append(\"/home/vmeshchaninov/DiffusionTextGeneration-cond-ca/\")"
   ]
  },
  {
   "cell_type": "code",
   "execution_count": 15,
   "id": "90dff637-d31d-4a1c-97be-878037ee9aa7",
   "metadata": {
    "tags": []
   },
   "outputs": [],
   "source": [
    "from datasets import load_from_disk, Dataset\n",
    "import matplotlib.pyplot as plt\n",
    "from transformers import AutoTokenizer\n",
    "import numpy as np"
   ]
  },
  {
   "cell_type": "code",
   "execution_count": 4,
   "id": "f222dce9-f5a1-49fd-889e-4bab13cf73f2",
   "metadata": {
    "tags": []
   },
   "outputs": [],
   "source": [
    "dt = load_from_disk(\"/home/vmeshchaninov/nlp_models/data/common_gen/train\")"
   ]
  },
  {
   "cell_type": "code",
   "execution_count": 7,
   "id": "0f916745-6061-452b-9f81-86c991ff9d70",
   "metadata": {
    "tags": []
   },
   "outputs": [],
   "source": [
    "from data.dataset import CommonGenDatasetDDP"
   ]
  },
  {
   "cell_type": "code",
   "execution_count": 9,
   "id": "8302190b-69d2-45ed-bd6a-272c68fdfc38",
   "metadata": {
    "tags": []
   },
   "outputs": [
    {
     "data": {
      "application/vnd.jupyter.widget-view+json": {
       "model_id": "d7dce24dab2e42ab91335d006e5cfa06",
       "version_major": 2,
       "version_minor": 0
      },
      "text/plain": [
       "Dataset tokenization (num_proc=30):   0%|          | 0/67389 [00:00<?, ? examples/s]"
      ]
     },
     "metadata": {},
     "output_type": "display_data"
    }
   ],
   "source": [
    "dt = next(CommonGenDatasetDDP(split=\"train\", base_path=\"/home/vmeshchaninov/nlp_models/data/common_gen\").get_data())"
   ]
  },
  {
   "cell_type": "code",
   "execution_count": 10,
   "id": "a9260f2d-1b1c-4108-8b27-b4e744f3b136",
   "metadata": {
    "tags": []
   },
   "outputs": [
    {
     "data": {
      "text/plain": [
       "Dataset({\n",
       "    features: ['concept_set_idx', 'target', 'text_src', 'text_trg'],\n",
       "    num_rows: 67389\n",
       "})"
      ]
     },
     "execution_count": 10,
     "metadata": {},
     "output_type": "execute_result"
    }
   ],
   "source": [
    "dt"
   ]
  },
  {
   "cell_type": "code",
   "execution_count": 13,
   "id": "f8743170-eba1-40c3-ac9d-b0c533e9b884",
   "metadata": {
    "tags": []
   },
   "outputs": [],
   "source": [
    "tokenizer = AutoTokenizer.from_pretrained(\"bert-base-cased\")"
   ]
  },
  {
   "cell_type": "code",
   "execution_count": 14,
   "id": "10dd9146-f459-4084-869e-1e414c90ef28",
   "metadata": {
    "tags": []
   },
   "outputs": [],
   "source": [
    "prompt_lens = []\n",
    "dif_lens = []"
   ]
  },
  {
   "cell_type": "code",
   "execution_count": 29,
   "id": "30c5e4df-5522-48f5-a9f0-8a377c35734d",
   "metadata": {
    "tags": []
   },
   "outputs": [],
   "source": [
    "def get_lens(batch):\n",
    "    mask = tokenizer(\n",
    "        batch[\"text_src\"],\n",
    "        padding=True,\n",
    "    )[\"attention_mask\"]\n",
    "    lens_src = np.sum(mask, axis=1)\n",
    "    mask = tokenizer(\n",
    "        batch[\"text_trg\"],\n",
    "        padding=True,\n",
    "    )[\"attention_mask\"]\n",
    "    lens_trg = np.sum(mask, axis=1)\n",
    "    return {\n",
    "        \"lens_src\": lens_src,\n",
    "        \"lens_trg\": lens_trg\n",
    "    }"
   ]
  },
  {
   "cell_type": "code",
   "execution_count": 31,
   "id": "6646724a-679c-4032-97b7-092220264846",
   "metadata": {
    "tags": []
   },
   "outputs": [
    {
     "data": {
      "application/vnd.jupyter.widget-view+json": {
       "model_id": "28ca9a257fe7499e9bad487faf9967d9",
       "version_major": 2,
       "version_minor": 0
      },
      "text/plain": [
       "Map:   0%|          | 0/67389 [00:00<?, ? examples/s]"
      ]
     },
     "metadata": {},
     "output_type": "display_data"
    }
   ],
   "source": [
    "dt_p = dt.map(\n",
    "    get_lens,\n",
    "    batch_size=1000,\n",
    "    batched=True\n",
    ")"
   ]
  },
  {
   "cell_type": "code",
   "execution_count": 36,
   "id": "57c28ee8-e74e-42ed-a0d9-164fd8c86de8",
   "metadata": {
    "tags": []
   },
   "outputs": [
    {
     "data": {
      "image/png": "[encoded data removed]",
      "text/plain": [
       "<Figure size 1500x400 with 2 Axes>"
      ]
     },
     "metadata": {},
     "output_type": "display_data"
    }
   ],
   "source": [
    "fig, axs = plt.subplots(1, 2, figsize=(15, 4), sharey=True, sharex=True)\n",
    "\n",
    "range = (0, 50)\n",
    "bins = 10\n",
    "\n",
    "axs[0].hist(dt_p[\"lens_src\"], range=range, bins=bins)\n",
    "axs[0].set_title(\"text_src\", fontsize=16)\n",
    "\n",
    "axs[1].hist(dt_p[\"lens_trg\"], range=range, bins=bins)\n",
    "axs[1].set_title(\"text_trg\", fontsize=16)\n",
    "\n",
    "plt.show()"
   ]
  },
  {
   "cell_type": "code",
   "execution_count": 35,
   "id": "1992b061-d38d-47bc-bd9c-1d5769df996a",
   "metadata": {
    "tags": []
   },
   "outputs": [
    {
     "data": {
      "text/plain": [
       "20"
      ]
     },
     "execution_count": 35,
     "metadata": {},
     "output_type": "execute_result"
    }
   ],
   "source": [
    "np.max(dt_p[\"lens_src\"])"
   ]
  },
  {
   "cell_type": "code",
   "execution_count": null,
   "id": "f6a35eab-b3d4-4d0c-a6a6-6e19be7ef83c",
   "metadata": {},
   "outputs": [],
   "source": []
  }
 ],
 "metadata": {
  "kernelspec": {
   "display_name": "Python [.conda-fap2_env]",
   "language": "python",
   "name": "conda-env-.conda-fap2_env-py"
  },
  "language_info": {
   "codemirror_mode": {
    "name": "ipython",
    "version": 3
   },
   "file_extension": ".py",
   "mimetype": "text/x-python",
   "name": "python",
   "nbconvert_exporter": "python",
   "pygments_lexer": "ipython3",
   "version": "3.9.16"
  }
 },
 "nbformat": 4,
 "nbformat_minor": 5
}
