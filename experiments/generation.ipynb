{
 "cells": [
  {
   "cell_type": "code",
   "execution_count": 1,
   "id": "319e633a-cade-408a-948f-593329863dce",
   "metadata": {},
   "outputs": [],
   "source": [
    "%load_ext autoreload\n",
    "%autoreload 2"
   ]
  },
  {
   "cell_type": "code",
   "execution_count": 3,
   "id": "2259cb57-9459-42b7-ac02-7e08d7f9f5d7",
   "metadata": {},
   "outputs": [],
   "source": [
    "import sys\n",
    "sys.path.append(\"/home/jovyan/vmeshchaninov/DiffusionTextGeneration-cond-ca\")"
   ]
  },
  {
   "cell_type": "code",
   "execution_count": 5,
   "id": "2fc2b983-9a4d-404e-971f-b791e473c7a5",
   "metadata": {},
   "outputs": [],
   "source": [
    "import os\n",
    "import pandas as pd\n",
    "import torch.distributed as dist\n",
    "import json\n",
    "import torch\n",
    "import numpy as np\n",
    "from transformers import AutoTokenizer\n",
    "from tqdm import tqdm\n",
    "from torch.nn.functional import cross_entropy, softmax\n",
    "import itertools\n",
    "from collections import Counter\n",
    "import matplotlib.pyplot as plt"
   ]
  },
  {
   "cell_type": "code",
   "execution_count": 74,
   "id": "a457a6bf-2e22-47a5-8577-b8be04e7130d",
   "metadata": {},
   "outputs": [],
   "source": [
    "from create_config import create_config\n",
    "from diffusion_holder import DiffusionRunner\n",
    "from utils import set_seed"
   ]
  },
  {
   "cell_type": "code",
   "execution_count": 8,
   "id": "458f22b4-cbaa-4496-9291-be10f033ef7b",
   "metadata": {},
   "outputs": [
    {
     "name": "stdout",
     "output_type": "stream",
     "text": [
      "/home/jovyan/vmeshchaninov/DiffusionTextGeneration-cond-ca\n"
     ]
    }
   ],
   "source": [
    "%cd .."
   ]
  },
  {
   "cell_type": "code",
   "execution_count": 102,
   "id": "1c7ab88b-8522-413f-8bc7-65dfa3ad7b31",
   "metadata": {},
   "outputs": [
    {
     "data": {
      "application/vnd.jupyter.widget-view+json": {
       "model_id": "e9a0a9874b83485f8fa9eb5756575d89",
       "version_major": 2,
       "version_minor": 0
      },
      "text/plain": [
       "Dataset tokenization (num_proc=30):   0%|          | 0/1000 [00:00<?, ? examples/s]"
      ]
     },
     "metadata": {},
     "output_type": "display_data"
    },
    {
     "name": "stdout",
     "output_type": "stream",
     "text": [
      "Checkpoint is loaded ./checkpoints/rocstory-sd-8-64-lr=0.0002-compressed/400000.pth\n"
     ]
    }
   ],
   "source": [
    "config = create_config()\n",
    "config.device = \"cuda:0\"\n",
    "config.ddp = False\n",
    "config.training.checkpoints_prefix = \"rocstory-sd-8-64-lr=0.0002-compressed\"\n",
    "config.bert_config.num_hidden_layers = 12\n",
    "config.eval = True\n",
    "config.bert_config.is_decoder = False\n",
    "\n",
    "diffusion_1 = DiffusionRunner(config, eval=True)"
   ]
  },
  {
   "cell_type": "code",
   "execution_count": 103,
   "id": "8da3c0b9-75dc-4862-b07d-508f239105b6",
   "metadata": {},
   "outputs": [
    {
     "data": {
      "application/vnd.jupyter.widget-view+json": {
       "model_id": "ba9c921181c5481c91ab775f905519c2",
       "version_major": 2,
       "version_minor": 0
      },
      "text/plain": [
       "Dataset tokenization (num_proc=30):   0%|          | 0/1000 [00:00<?, ? examples/s]"
      ]
     },
     "metadata": {},
     "output_type": "display_data"
    },
    {
     "name": "stdout",
     "output_type": "stream",
     "text": [
      "Checkpoint is loaded ./checkpoints/rocstory-sd-8-64-512-lr=0.0004-compressed-v2-0.5cfg/30000.pth\n"
     ]
    }
   ],
   "source": [
    "config = create_config()\n",
    "config.device = \"cuda:0\"\n",
    "config.ddp = False\n",
    "config.training.checkpoints_prefix = \"rocstory-sd-8-64-512-lr=0.0004-compressed-v2-0.5cfg\"\n",
    "config.bert_config.num_hidden_layers = 4\n",
    "config.eval = True\n",
    "config.bert_config.is_decoder = True\n",
    "\n",
    "diffusion_2 = DiffusionRunner(config, eval=True)"
   ]
  },
  {
   "cell_type": "code",
   "execution_count": null,
   "id": "db163989-fc5e-469c-be2d-c91df30c4a71",
   "metadata": {},
   "outputs": [],
   "source": []
  },
  {
   "cell_type": "code",
   "execution_count": 104,
   "id": "a171bbfa-0f70-4523-8c7a-0ac1c29886ed",
   "metadata": {},
   "outputs": [],
   "source": [
    "batch_size = 1000"
   ]
  },
  {
   "cell_type": "code",
   "execution_count": 105,
   "id": "06493ca2-db9c-470d-946e-c03bc7b62204",
   "metadata": {},
   "outputs": [],
   "source": [
    "set_seed(1)"
   ]
  },
  {
   "cell_type": "code",
   "execution_count": 106,
   "id": "7b1d0136-d7ed-4861-bf66-405846e47919",
   "metadata": {},
   "outputs": [
    {
     "name": "stderr",
     "output_type": "stream",
     "text": [
      "100%|██████████| 100/100 [00:08<00:00, 11.74it/s]\n"
     ]
    }
   ],
   "source": [
    "diffusion_1.score_estimator.eval()\n",
    "\n",
    "cond_x = None\n",
    "cond_mask = None\n",
    "attention_mask = None\n",
    "\n",
    "shape = (\n",
    "    batch_size,\n",
    "    diffusion_1.config.autoencoder.compressor.num_latents,\n",
    "    diffusion_1.config.autoencoder.compressor.latent_dim\n",
    ")\n",
    "\n",
    "with torch.no_grad():\n",
    "    x = diffusion_1.dynamic.prior_sampling(shape).to(diffusion_1.device)\n",
    "    x_0_self_cond = torch.zeros_like(x, dtype=x.dtype)\n",
    "    eps_t = diffusion_1.config.generation.t_min\n",
    "\n",
    "    timesteps = torch.linspace(diffusion_1.dynamic.T, eps_t, diffusion_1.dynamic.N + 1, device=diffusion_1.device)\n",
    "\n",
    "    for idx in tqdm(range(diffusion_1.dynamic.N)):\n",
    "        t = timesteps[idx]\n",
    "        next_t = timesteps[idx + 1]\n",
    "\n",
    "        input_t = t * torch.ones(shape[0], device=diffusion_1.device)\n",
    "        next_input_t = next_t * torch.ones(shape[0], device=diffusion_1.device)\n",
    "\n",
    "        output = diffusion_1.diff_eq_solver.step(\n",
    "            x_t=x, t=input_t, next_t=next_input_t,\n",
    "            cond=cond_x,\n",
    "            cond_mask=cond_mask,\n",
    "            attention_mask=attention_mask,\n",
    "            x_0_self_cond=x_0_self_cond,\n",
    "        )\n",
    "\n",
    "        x, x_mean = output[\"x\"], output[\"x_mean\"]\n",
    "        x_0_self_cond = output[\"x_0\"]\n",
    "\n",
    "    pred_latents = x_mean"
   ]
  },
  {
   "cell_type": "code",
   "execution_count": null,
   "id": "ee038972-89a2-494b-b2e1-82b99cbfc066",
   "metadata": {},
   "outputs": [],
   "source": []
  },
  {
   "cell_type": "code",
   "execution_count": 117,
   "id": "5cef36b5-0405-416e-9e82-80186d5172c5",
   "metadata": {},
   "outputs": [],
   "source": [
    "diffusion_2.config.generation.cfg_coef = 1"
   ]
  },
  {
   "cell_type": "code",
   "execution_count": 118,
   "id": "097b3347-f30d-4ab7-8212-b06dd1bbc99b",
   "metadata": {},
   "outputs": [
    {
     "name": "stderr",
     "output_type": "stream",
     "text": [
      "100%|██████████| 100/100 [00:15<00:00,  6.42it/s]\n"
     ]
    }
   ],
   "source": [
    "diffusion_2.score_estimator.eval()\n",
    "\n",
    "cond_x = pred_latents\n",
    "cond_mask = None\n",
    "attention_mask = None\n",
    "\n",
    "shape = (\n",
    "    batch_size,\n",
    "    diffusion_2.config.data.max_sequence_len,\n",
    "    diffusion_2.config.autoencoder.compressor.latent_dim\n",
    ")\n",
    "\n",
    "with torch.no_grad():\n",
    "    x = diffusion_2.dynamic.prior_sampling(shape).to(diffusion_2.device)\n",
    "    x_0_self_cond = torch.zeros_like(x, dtype=x.dtype)\n",
    "    eps_t = diffusion_2.config.generation.t_min\n",
    "\n",
    "    timesteps = torch.linspace(diffusion_2.dynamic.T, eps_t, diffusion_2.dynamic.N + 1, device=diffusion_2.device)\n",
    "\n",
    "    for idx in tqdm(range(diffusion_2.dynamic.N)):\n",
    "        t = timesteps[idx]\n",
    "        next_t = timesteps[idx + 1]\n",
    "\n",
    "        input_t = t * torch.ones(shape[0], device=diffusion_2.device)\n",
    "        next_input_t = next_t * torch.ones(shape[0], device=diffusion_2.device)\n",
    "\n",
    "        output = diffusion_2.diff_eq_solver.step(\n",
    "            x_t=x, t=input_t, next_t=next_input_t,\n",
    "            cond=cond_x,\n",
    "            cond_mask=cond_mask,\n",
    "            attention_mask=attention_mask,\n",
    "            x_0_self_cond=x_0_self_cond,\n",
    "        )\n",
    "\n",
    "        x, x_mean = output[\"x\"], output[\"x_mean\"]\n",
    "        x_0_self_cond = output[\"x_0\"]\n",
    "\n",
    "    pred_embeddings = x_mean"
   ]
  },
  {
   "cell_type": "code",
   "execution_count": 119,
   "id": "48e9f18a-b067-4982-839f-d8cbcee58971",
   "metadata": {},
   "outputs": [],
   "source": [
    "output = diffusion_2.pred_logits(pred_embeddings)\n",
    "tokens = output.argmax(dim=-1)"
   ]
  },
  {
   "cell_type": "code",
   "execution_count": 120,
   "id": "45b6ec18-9091-457e-9c5c-1ee9021a4abf",
   "metadata": {},
   "outputs": [],
   "source": [
    "eos_id = diffusion_2.tokenizer_gen.vocab[diffusion_2.tokenizer_gen.sep_token]\n",
    "tokens = tokens.detach().cpu().tolist()\n",
    "\n",
    "tokens_list = []\n",
    "for seq in tokens:\n",
    "    id = 0\n",
    "    while id < len(seq) and seq[id] != eos_id:\n",
    "        id += 1\n",
    "    tokens_list.append(seq[0: id])\n",
    "\n",
    "text = diffusion_2.tokenizer_gen.batch_decode(tokens_list, skip_special_tokens=True)"
   ]
  },
  {
   "cell_type": "code",
   "execution_count": 121,
   "id": "b11fd009-052f-474f-a26e-93bacb06a758",
   "metadata": {},
   "outputs": [],
   "source": [
    "from estimation_utils.evaluation import *"
   ]
  },
  {
   "cell_type": "code",
   "execution_count": 122,
   "id": "abd19357-66ef-45d9-b155-bc2f10e39f65",
   "metadata": {},
   "outputs": [
    {
     "data": {
      "application/vnd.jupyter.widget-view+json": {
       "model_id": "86c5fcc849ed489f8ca52681e322f418",
       "version_major": 2,
       "version_minor": 0
      },
      "text/plain": [
       "  0%|          | 0/63 [00:00<?, ?it/s]"
      ]
     },
     "metadata": {},
     "output_type": "display_data"
    },
    {
     "data": {
      "text/plain": [
       "30.80314806365967"
      ]
     },
     "execution_count": 122,
     "metadata": {},
     "output_type": "execute_result"
    }
   ],
   "source": [
    "compute_perplexity(all_texts_list=text)"
   ]
  },
  {
   "cell_type": "code",
   "execution_count": 112,
   "id": "2b1014b4-462a-4bc1-834b-790384ea0eb6",
   "metadata": {},
   "outputs": [],
   "source": [
    "from datasets import load_from_disk"
   ]
  },
  {
   "cell_type": "code",
   "execution_count": 113,
   "id": "6238e60c-8f45-4f43-afd5-082a761a1d36",
   "metadata": {},
   "outputs": [],
   "source": [
    "path = f\"{diffusion_2.config.data.dataset_path}/test/\"\n",
    "dt = load_from_disk(path)"
   ]
  },
  {
   "cell_type": "code",
   "execution_count": 114,
   "id": "86b8810e-f23e-4d59-be58-37e0b52df3e7",
   "metadata": {},
   "outputs": [],
   "source": [
    "references = dt[\"text\"]"
   ]
  },
  {
   "cell_type": "code",
   "execution_count": 115,
   "id": "4d812c06-210f-43b8-953d-f1bea033751b",
   "metadata": {},
   "outputs": [
    {
     "data": {
      "application/vnd.jupyter.widget-view+json": {
       "model_id": "895ee5f79d3642899784637bda3dfef1",
       "version_major": 2,
       "version_minor": 0
      },
      "text/plain": [
       "Featurizing p:   0%|          | 0/1000 [00:00<?, ?it/s]"
      ]
     },
     "metadata": {},
     "output_type": "display_data"
    },
    {
     "data": {
      "application/vnd.jupyter.widget-view+json": {
       "model_id": "b99c7e35a57e4fb1861bcd872b624ec0",
       "version_major": 2,
       "version_minor": 0
      },
      "text/plain": [
       "Featurizing q:   0%|          | 0/1000 [00:00<?, ?it/s]"
      ]
     },
     "metadata": {},
     "output_type": "display_data"
    },
    {
     "name": "stderr",
     "output_type": "stream",
     "text": [
      "WARNING clustering 2000 points to 100 centroids: please provide at least 3900 training points\n"
     ]
    }
   ],
   "source": [
    "mauve = compute_mauve(all_texts_list=text, human_references=references)"
   ]
  },
  {
   "cell_type": "code",
   "execution_count": 116,
   "id": "b6bd81e1-7b1f-40b9-993c-126bd0cd9b5c",
   "metadata": {},
   "outputs": [
    {
     "data": {
      "text/plain": [
       "0.6057939736536875"
      ]
     },
     "execution_count": 116,
     "metadata": {},
     "output_type": "execute_result"
    }
   ],
   "source": [
    "mauve"
   ]
  },
  {
   "cell_type": "code",
   "execution_count": null,
   "id": "4b460426-c977-4abc-af70-02d68f0e4312",
   "metadata": {},
   "outputs": [],
   "source": []
  },
  {
   "cell_type": "code",
   "execution_count": null,
   "id": "868ce7ce-cb62-4a40-bc19-a94feb3bb6f0",
   "metadata": {},
   "outputs": [],
   "source": []
  },
  {
   "cell_type": "code",
   "execution_count": null,
   "id": "bb211178-1acf-4681-94e6-8763a03405f1",
   "metadata": {},
   "outputs": [],
   "source": []
  },
  {
   "cell_type": "code",
   "execution_count": null,
   "id": "4266133d-e5d2-4589-a9f7-05f0fcb8d467",
   "metadata": {},
   "outputs": [],
   "source": []
  }
 ],
 "metadata": {
  "kernelspec": {
   "display_name": "Python 3 (ipykernel)",
   "language": "python",
   "name": "python3"
  },
  "language_info": {
   "codemirror_mode": {
    "name": "ipython",
    "version": 3
   },
   "file_extension": ".py",
   "mimetype": "text/x-python",
   "name": "python",
   "nbconvert_exporter": "python",
   "pygments_lexer": "ipython3",
   "version": "3.10.12"
  }
 },
 "nbformat": 4,
 "nbformat_minor": 5
}
