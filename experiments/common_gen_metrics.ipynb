{
 "cells": [
  {
   "cell_type": "code",
   "execution_count": 1,
   "id": "fc00d039-3d4c-4d5c-950c-21cb2e58526a",
   "metadata": {
    "tags": []
   },
   "outputs": [],
   "source": [
    "from __future__ import division\n",
    "import os\n",
    "import sys\n",
    "import subprocess\n",
    "import threading\n",
    "import json\n",
    "import numpy as np\n",
    "import ast\n",
    "import tempfile"
   ]
  },
  {
   "cell_type": "code",
   "execution_count": 2,
   "id": "68f51708-4345-43cc-87d7-5de1ed126701",
   "metadata": {
    "tags": []
   },
   "outputs": [],
   "source": [
    "SPICE_JAR = 'spice-1.0.jar'\n",
    "TEMP_DIR = 'tmp'\n",
    "CACHE_DIR = 'cache'"
   ]
  },
  {
   "cell_type": "code",
   "execution_count": null,
   "id": "b41895ea-0a09-402d-8a66-a13839f82a07",
   "metadata": {},
   "outputs": [],
   "source": []
  },
  {
   "cell_type": "code",
   "execution_count": 3,
   "id": "6564e7a8-e0e2-4c16-a0c3-19af8ec05f3d",
   "metadata": {
    "tags": []
   },
   "outputs": [],
   "source": [
    "gts = [\"How do I read and find my YouTube comments?\"]\n",
    "res = [\"How do I find my YouTube comments 2016?\"]"
   ]
  },
  {
   "cell_type": "code",
   "execution_count": 6,
   "id": "39ab8c55-2b1b-4988-b1c8-0ecfc97201a5",
   "metadata": {
    "tags": []
   },
   "outputs": [],
   "source": [
    "met = Spice()"
   ]
  },
  {
   "cell_type": "code",
   "execution_count": 7,
   "id": "fdc9cfc5-3bb5-488f-ac04-70c3bf95c0e9",
   "metadata": {
    "tags": []
   },
   "outputs": [
    {
     "ename": "AttributeError",
     "evalue": "'list' object has no attribute 'keys'",
     "output_type": "error",
     "traceback": [
      "\u001b[0;31m---------------------------------------------------------------------------\u001b[0m",
      "\u001b[0;31mAttributeError\u001b[0m                            Traceback (most recent call last)",
      "Cell \u001b[0;32mIn[7], line 1\u001b[0m\n\u001b[0;32m----> 1\u001b[0m \u001b[43mmet\u001b[49m\u001b[38;5;241;43m.\u001b[39;49m\u001b[43mcompute_score\u001b[49m\u001b[43m(\u001b[49m\u001b[43mgts\u001b[49m\u001b[43m,\u001b[49m\u001b[43m \u001b[49m\u001b[43mres\u001b[49m\u001b[43m)\u001b[49m\n",
      "Cell \u001b[0;32mIn[4], line 13\u001b[0m, in \u001b[0;36mSpice.compute_score\u001b[0;34m(self, gts, res)\u001b[0m\n\u001b[1;32m     12\u001b[0m \u001b[38;5;28;01mdef\u001b[39;00m \u001b[38;5;21mcompute_score\u001b[39m(\u001b[38;5;28mself\u001b[39m, gts, res):\n\u001b[0;32m---> 13\u001b[0m     \u001b[38;5;28;01massert\u001b[39;00m(\u001b[38;5;28msorted\u001b[39m(\u001b[43mgts\u001b[49m\u001b[38;5;241;43m.\u001b[39;49m\u001b[43mkeys\u001b[49m()) \u001b[38;5;241m==\u001b[39m \u001b[38;5;28msorted\u001b[39m(res\u001b[38;5;241m.\u001b[39mkeys()))\n\u001b[1;32m     14\u001b[0m     imgIds \u001b[38;5;241m=\u001b[39m \u001b[38;5;28msorted\u001b[39m(gts\u001b[38;5;241m.\u001b[39mkeys())\n\u001b[1;32m     16\u001b[0m     \u001b[38;5;66;03m# Prepare temp input file for the SPICE scorer\u001b[39;00m\n",
      "\u001b[0;31mAttributeError\u001b[0m: 'list' object has no attribute 'keys'"
     ]
    }
   ],
   "source": [
    "met.compute_score(gts, res)"
   ]
  },
  {
   "cell_type": "code",
   "execution_count": null,
   "id": "4aa6f02e-aca1-4119-b2c4-bd9caa0bf963",
   "metadata": {},
   "outputs": [],
   "source": []
  },
  {
   "cell_type": "code",
   "execution_count": null,
   "id": "14790e4f-9ec1-4842-ae06-df2ae103437a",
   "metadata": {},
   "outputs": [],
   "source": []
  }
 ],
 "metadata": {
  "kernelspec": {
   "display_name": "Python [.conda-fap2_env]",
   "language": "python",
   "name": "conda-env-.conda-fap2_env-py"
  },
  "language_info": {
   "codemirror_mode": {
    "name": "ipython",
    "version": 3
   },
   "file_extension": ".py",
   "mimetype": "text/x-python",
   "name": "python",
   "nbconvert_exporter": "python",
   "pygments_lexer": "ipython3",
   "version": "3.9.16"
  }
 },
 "nbformat": 4,
 "nbformat_minor": 5
}
